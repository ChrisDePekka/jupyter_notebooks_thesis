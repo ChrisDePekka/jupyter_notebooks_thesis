{
 "cells": [
  {
   "cell_type": "markdown",
   "metadata": {},
   "source": [
    "## In this notebook, the results of experiment 2 are analyzed"
   ]
  },
  {
   "cell_type": "code",
   "execution_count": 1,
   "metadata": {},
   "outputs": [],
   "source": [
    "import pandas as pd\n",
    "import numpy as np\n",
    "import re"
   ]
  },
  {
   "cell_type": "code",
   "execution_count": 29,
   "metadata": {},
   "outputs": [
    {
     "data": {
      "text/html": [
       "<div>\n",
       "<style scoped>\n",
       "    .dataframe tbody tr th:only-of-type {\n",
       "        vertical-align: middle;\n",
       "    }\n",
       "\n",
       "    .dataframe tbody tr th {\n",
       "        vertical-align: top;\n",
       "    }\n",
       "\n",
       "    .dataframe thead th {\n",
       "        text-align: right;\n",
       "    }\n",
       "</style>\n",
       "<table border=\"1\" class=\"dataframe\">\n",
       "  <thead>\n",
       "    <tr style=\"text-align: right;\">\n",
       "      <th></th>\n",
       "      <th>condition</th>\n",
       "      <th>Deelnemer_ID</th>\n",
       "      <th>Date submitted</th>\n",
       "      <th>Page 2 duration</th>\n",
       "      <th>Ik heb de taak snel uitgevoerd</th>\n",
       "      <th>Ik had moeite om de taak succesvol uit te voeren</th>\n",
       "      <th>Ik zie mijzelf als de maker van het radiobericht</th>\n",
       "      <th>Ik ben tevreden met mijn gecreeërde radio-bericht</th>\n",
       "      <th>Door bovenstaande limitaties is het niet mogelijk om conclusies te vertalen naar mijn echte werkzaamheden</th>\n",
       "      <th>Ik heb erop vertrouwd dat het suggestie radio-bericht feitelijk correct was</th>\n",
       "      <th>Ik heb net zoveel vertrouwen in de suggestie als dat ik had gehad wanneer het door een collega geschreven was</th>\n",
       "      <th>Het suggestie radio-bericht heeft mij beinvloed op een of meerdere van de volgende manieren:</th>\n",
       "      <th>Het suggestie radio-bericht had mij meer geholpen als het ... was</th>\n",
       "      <th>Ik sta open om op deze manier mijn werk uit te voeren</th>\n",
       "      <th>Schrijf hier jouw radio-bericht:</th>\n",
       "    </tr>\n",
       "    <tr>\n",
       "      <th>NA_index</th>\n",
       "      <th></th>\n",
       "      <th></th>\n",
       "      <th></th>\n",
       "      <th></th>\n",
       "      <th></th>\n",
       "      <th></th>\n",
       "      <th></th>\n",
       "      <th></th>\n",
       "      <th></th>\n",
       "      <th></th>\n",
       "      <th></th>\n",
       "      <th></th>\n",
       "      <th></th>\n",
       "      <th></th>\n",
       "      <th></th>\n",
       "    </tr>\n",
       "  </thead>\n",
       "  <tbody>\n",
       "    <tr>\n",
       "      <th>0,NASGRM,Deelnemer_B,2023-07-07 06:04:26.773,00:27:09,Neutraal,Neutraal,Neutraal,Neutraal,Lichtelijk eens,Lichtelijk oneens,Oneens,\"Positief beïnvloed, sneller inspiratie gevonden om over te schrijven\",Een beetje langer,Lichtelijk oneens,\"Het lijkt flink mis op een zorgboerderij in Holwierde in Groningen, waar kwetsbare mensen de dag doorbrengen. Medewerkers klagen volgens RTV Noord over seksuele intimidatie en een angstcultuur. Ze voelen zich onveilig omdat de eigenaar ze continu in de gaten houdt met camera's. Verder zouden er allerlei vunzige opmerkingen worden gemaakt en kreeg een vrouwelijke medewerker seksspeeltjes in haar kerstpakket. De Groningse GGD is een onderzoek begonnen. \"</th>\n",
       "      <td>NaN</td>\n",
       "      <td>NaN</td>\n",
       "      <td>NaN</td>\n",
       "      <td>NaN</td>\n",
       "      <td>NaN</td>\n",
       "      <td>NaN</td>\n",
       "      <td>NaN</td>\n",
       "      <td>NaN</td>\n",
       "      <td>NaN</td>\n",
       "      <td>NaN</td>\n",
       "      <td>NaN</td>\n",
       "      <td>NaN</td>\n",
       "      <td>NaN</td>\n",
       "      <td>NaN</td>\n",
       "      <td>NaN</td>\n",
       "    </tr>\n",
       "    <tr>\n",
       "      <th>0</th>\n",
       "      <td>Only NA</td>\n",
       "      <td>Deelnemer_A</td>\n",
       "      <td>2023-06-30 06:33:06.020</td>\n",
       "      <td>00:06:52</td>\n",
       "      <td>Eens</td>\n",
       "      <td>Oneens</td>\n",
       "      <td>Eens</td>\n",
       "      <td>Helemaal mee eens</td>\n",
       "      <td>Neutraal</td>\n",
       "      <td>NaN</td>\n",
       "      <td>NaN</td>\n",
       "      <td>NaN</td>\n",
       "      <td>NaN</td>\n",
       "      <td>NaN</td>\n",
       "      <td>De GGD onderzoekt klachten over seksuele intim...</td>\n",
       "    </tr>\n",
       "    <tr>\n",
       "      <th>0,Only SGRM,Deelnemer_C,2023-07-05 05:36:18.983,00:02:35,Helemaal mee eens,Helemaal mee oneens,Helemaal mee eens,Helemaal mee eens,Helemaal mee eens,,Lichtelijk eens,\"Negatief beïnvloed, de suggestie behoefde zoveel aanpassingen dat het alleen zorgde voor extra ruis\",Langer,Oneens,De GGD onderzoekt of mensen op een zorgboerderij in Groningen seksueel geïntimeerd worden. RTV Noord heeft ook signalen van een angstcultuur. Medewerkers voelen zich onveilig omdat ze in de gaten worden gehouden met camera's. Een vrouwelijke werknemer zegt dat ze seksspeeltjes kreeg met kerst. De eigenaar ontkent de beschuldigingen.</th>\n",
       "      <td>NaN</td>\n",
       "      <td>NaN</td>\n",
       "      <td>NaN</td>\n",
       "      <td>NaN</td>\n",
       "      <td>NaN</td>\n",
       "      <td>NaN</td>\n",
       "      <td>NaN</td>\n",
       "      <td>NaN</td>\n",
       "      <td>NaN</td>\n",
       "      <td>NaN</td>\n",
       "      <td>NaN</td>\n",
       "      <td>NaN</td>\n",
       "      <td>NaN</td>\n",
       "      <td>NaN</td>\n",
       "      <td>NaN</td>\n",
       "    </tr>\n",
       "    <tr>\n",
       "      <th>1,NASGRM,Deelnemer_A,2023-06-30 07:15:43.157,00:10:15,Lichtelijk eens,Lichtelijk oneens,Lichtelijk eens,Eens,Neutraal,Lichtelijk eens,Eens,\"Positief beïnvloed, sneller inspiratie gevonden om over te schrijven\",Neutraal (perfecte lengte),Neutraal,\"Het schiet niet op met de omschakeling naar een kringloopeconomie, zegt het Planbureau voor de Leefomgeving. Bedrijven mogen nu zelf weten hoe duurzaam ze produceren, maar het bureau wil dat het kabinet het gaat verplichten. Dat kan bijvoorbeeld door een belasting op fossiele brandstoffen, en door een verplicht aandeel hergebruikte materialen in producten.\"</th>\n",
       "      <td>NaN</td>\n",
       "      <td>NaN</td>\n",
       "      <td>NaN</td>\n",
       "      <td>NaN</td>\n",
       "      <td>NaN</td>\n",
       "      <td>NaN</td>\n",
       "      <td>NaN</td>\n",
       "      <td>NaN</td>\n",
       "      <td>NaN</td>\n",
       "      <td>NaN</td>\n",
       "      <td>NaN</td>\n",
       "      <td>NaN</td>\n",
       "      <td>NaN</td>\n",
       "      <td>NaN</td>\n",
       "      <td>NaN</td>\n",
       "    </tr>\n",
       "    <tr>\n",
       "      <th>1</th>\n",
       "      <td>Only NA</td>\n",
       "      <td>Deelnemer_C</td>\n",
       "      <td>2023-07-05 05:49:59.707</td>\n",
       "      <td>00:12:28</td>\n",
       "      <td>Helemaal mee eens</td>\n",
       "      <td>Helemaal mee oneens</td>\n",
       "      <td>Helemaal mee eens</td>\n",
       "      <td>Helemaal mee eens</td>\n",
       "      <td>Helemaal mee oneens</td>\n",
       "      <td>NaN</td>\n",
       "      <td>NaN</td>\n",
       "      <td>NaN</td>\n",
       "      <td>NaN</td>\n",
       "      <td>NaN</td>\n",
       "      <td>Het kabinet moet meer doen om recycling aan te...</td>\n",
       "    </tr>\n",
       "    <tr>\n",
       "      <th>1,Only SGRM,Deelnemer_B,2023-07-07 06:58:28.423,00:51:19,Helemaal mee oneens,Eens,Eens,Neutraal,Eens,,Oneens,\"Negatief beïnvloed, de suggestie behoefde zoveel aanpassingen dat het alleen zorgde voor extra ruis\",Langer,Oneens,\"Bedrijven die milieuvervuilende grondstoffen gebruiken voor hun producten moeten extra worden belast.  Dat zegt een van de belangrijkste adviseurs van het kabinet, planbureau PBL. Nederland wil binnen dertig jaar helemaal circulair zijn, dus dat we geen grondstoffen meer gebruiken maar alles recyclen. Maar met het tempo van nu gaan we het niet redden en daarom moet het kabinet volgens het planbureau strenger worden.\"</th>\n",
       "      <td>NaN</td>\n",
       "      <td>NaN</td>\n",
       "      <td>NaN</td>\n",
       "      <td>NaN</td>\n",
       "      <td>NaN</td>\n",
       "      <td>NaN</td>\n",
       "      <td>NaN</td>\n",
       "      <td>NaN</td>\n",
       "      <td>NaN</td>\n",
       "      <td>NaN</td>\n",
       "      <td>NaN</td>\n",
       "      <td>NaN</td>\n",
       "      <td>NaN</td>\n",
       "      <td>NaN</td>\n",
       "      <td>NaN</td>\n",
       "    </tr>\n",
       "    <tr>\n",
       "      <th>2,NASGRM,Deelnemer_C,2023-07-05 06:00:11.043,00:08:53,Helemaal mee eens,Helemaal mee oneens,Helemaal mee eens,Helemaal mee eens,Helemaal mee eens,Eens,Neutraal,\"Neutraal, ik heb er geen aandacht aan besteedt.\",Veel langer,Oneens,Er wordt op Terschelling niet meer gezocht naar een vermiste jongen van twaalf. Hij viel vorige maand in het water toen een boot en een watertaxi op elkaar botsten. Vrijwilligers en hulpdiensten hebben hem niet gevonden. Eerder spoelde het lichaam van een man aan en werden twee andere doden geborgen.</th>\n",
       "      <td>NaN</td>\n",
       "      <td>NaN</td>\n",
       "      <td>NaN</td>\n",
       "      <td>NaN</td>\n",
       "      <td>NaN</td>\n",
       "      <td>NaN</td>\n",
       "      <td>NaN</td>\n",
       "      <td>NaN</td>\n",
       "      <td>NaN</td>\n",
       "      <td>NaN</td>\n",
       "      <td>NaN</td>\n",
       "      <td>NaN</td>\n",
       "      <td>NaN</td>\n",
       "      <td>NaN</td>\n",
       "      <td>NaN</td>\n",
       "    </tr>\n",
       "    <tr>\n",
       "      <th>2</th>\n",
       "      <td>Only NA</td>\n",
       "      <td>Deelnemer_B</td>\n",
       "      <td>2023-07-07 07:21:42.610</td>\n",
       "      <td>00:19:43</td>\n",
       "      <td>Lichtelijk eens</td>\n",
       "      <td>Oneens</td>\n",
       "      <td>Eens</td>\n",
       "      <td>Lichtelijk eens</td>\n",
       "      <td>Lichtelijk eens</td>\n",
       "      <td>NaN</td>\n",
       "      <td>NaN</td>\n",
       "      <td>NaN</td>\n",
       "      <td>NaN</td>\n",
       "      <td>NaN</td>\n",
       "      <td>Er is opnieuw de hele dag gezocht naar de jong...</td>\n",
       "    </tr>\n",
       "    <tr>\n",
       "      <th>2,Only SGRM,Deelnemer_A,2023-06-30 08:27:58.763,00:02:53,Helemaal mee eens,Lichtelijk oneens,Lichtelijk eens,Oneens,Eens,,Lichtelijk oneens,\"Negatief beïnvloed, mijn denkrichting werd erdoor ingeperkt\",Veel langer,Helemaal mee oneens,\"De reddingsdiensten zijn gestopt met zoeken naar de jongen van 12, die al een maand vermist is bij Terschelling. Hij viel overboord door een aanvaring tussen een snelboot en een watertaxi. Een man van 49 was ook vermist. Zijn lichaam is gisteren aangespoeld.\"</th>\n",
       "      <td>NaN</td>\n",
       "      <td>NaN</td>\n",
       "      <td>NaN</td>\n",
       "      <td>NaN</td>\n",
       "      <td>NaN</td>\n",
       "      <td>NaN</td>\n",
       "      <td>NaN</td>\n",
       "      <td>NaN</td>\n",
       "      <td>NaN</td>\n",
       "      <td>NaN</td>\n",
       "      <td>NaN</td>\n",
       "      <td>NaN</td>\n",
       "      <td>NaN</td>\n",
       "      <td>NaN</td>\n",
       "      <td>NaN</td>\n",
       "    </tr>\n",
       "    <tr>\n",
       "      <th>3,NASGRM,Deelnemer_B,2023-07-07 07:32:55.183,00:09:15,Eens,Oneens,Eens,Eens,Neutraal,Lichtelijk oneens,Oneens,\"Neutraal, ik heb er geen aandacht aan besteedt.\",Neutraal (perfecte lengte),Neutraal,Nederland heeft samen met de marine van Colombia en Amerika bijna tienduizend kilo cocaïne in beslag genomen. De drugs werden gevonden tijdens acht operaties in de Caribische Zee. Volgens Colombiaanse media had de cocaïne een straatwaarde van meer dan driehonderd miljoen euro. Vijftien mensen zijn opgepakt.</th>\n",
       "      <td>NaN</td>\n",
       "      <td>NaN</td>\n",
       "      <td>NaN</td>\n",
       "      <td>NaN</td>\n",
       "      <td>NaN</td>\n",
       "      <td>NaN</td>\n",
       "      <td>NaN</td>\n",
       "      <td>NaN</td>\n",
       "      <td>NaN</td>\n",
       "      <td>NaN</td>\n",
       "      <td>NaN</td>\n",
       "      <td>NaN</td>\n",
       "      <td>NaN</td>\n",
       "      <td>NaN</td>\n",
       "      <td>NaN</td>\n",
       "    </tr>\n",
       "    <tr>\n",
       "      <th>3</th>\n",
       "      <td>Only NA</td>\n",
       "      <td>Deelnemer_A</td>\n",
       "      <td>2023-06-30 12:51:11.620</td>\n",
       "      <td>00:05:14</td>\n",
       "      <td>Eens</td>\n",
       "      <td>Oneens</td>\n",
       "      <td>Eens</td>\n",
       "      <td>Eens</td>\n",
       "      <td>Lichtelijk eens</td>\n",
       "      <td>NaN</td>\n",
       "      <td>NaN</td>\n",
       "      <td>NaN</td>\n",
       "      <td>NaN</td>\n",
       "      <td>NaN</td>\n",
       "      <td>De Nederlandse marine heeft samen met Colombia...</td>\n",
       "    </tr>\n",
       "    <tr>\n",
       "      <th>3,Only SGRM,Deelnemer_C,2023-07-05 06:04:45.660,00:03:17,Helemaal mee eens,Helemaal mee oneens,Helemaal mee eens,Helemaal mee eens,Helemaal mee eens,,Oneens,\"Negatief beïnvloed, de suggestie behoefde zoveel aanpassingen dat het alleen zorgde voor extra ruis\",Langer,Helemaal mee oneens,\"In de Caribische Zee is voor ongeveer 300 miljoen euro aan cocaïne onderschept. En dat is een record voor één week. Een deel werd bij Aruba gevonden. Er zijn vijftien mensen opgepakt. Nederland doet mee aan de operatie tegen drugshandel, samen met onder meer Colombia en Amerika.\"</th>\n",
       "      <td>NaN</td>\n",
       "      <td>NaN</td>\n",
       "      <td>NaN</td>\n",
       "      <td>NaN</td>\n",
       "      <td>NaN</td>\n",
       "      <td>NaN</td>\n",
       "      <td>NaN</td>\n",
       "      <td>NaN</td>\n",
       "      <td>NaN</td>\n",
       "      <td>NaN</td>\n",
       "      <td>NaN</td>\n",
       "      <td>NaN</td>\n",
       "      <td>NaN</td>\n",
       "      <td>NaN</td>\n",
       "      <td>NaN</td>\n",
       "    </tr>\n",
       "    <tr>\n",
       "      <th>4,NASGRM,Deelnemer_A,2023-06-30 12:59:00.070,00:05:36,Eens,Oneens,Lichtelijk eens,Lichtelijk eens,Lichtelijk eens,Lichtelijk oneens,Neutraal,\"Positief beïnvloed, sneller inspiratie gevonden om over te schrijven\",Neutraal (perfecte lengte),Oneens,\"Er worden steeds meer bromfietsen, snorfietsen en motoren gestolen, zeggen verzekeraars. Het zijn er de eerste zeven maanden van dit jaar een derde meer dan vorig jaar. Vooral motoren werden meer gestolen. Dat ze zo populair zijn bij dieven, kan komen door het gebrek aan parkeerruimte in de steden, of door de dure benzine.\"</th>\n",
       "      <td>NaN</td>\n",
       "      <td>NaN</td>\n",
       "      <td>NaN</td>\n",
       "      <td>NaN</td>\n",
       "      <td>NaN</td>\n",
       "      <td>NaN</td>\n",
       "      <td>NaN</td>\n",
       "      <td>NaN</td>\n",
       "      <td>NaN</td>\n",
       "      <td>NaN</td>\n",
       "      <td>NaN</td>\n",
       "      <td>NaN</td>\n",
       "      <td>NaN</td>\n",
       "      <td>NaN</td>\n",
       "      <td>NaN</td>\n",
       "    </tr>\n",
       "    <tr>\n",
       "      <th>4,Only NA,Deelnemer_C,2023-07-05 06:11:43.263,00:03:56,Helemaal mee eens,Helemaal mee oneens,Helemaal mee eens,Helemaal mee eens,Helemaal mee eens,,,,,\"Motoren, brommers en bromfietsen worden weer vaker gestolen. In de eerste zeven maanden werden ruim een derde meer diefstallen gepleegd vergeleken met vorig jaar. Vooral motoren zijn populair, wat kan komen door het gebrek aan parkeerruimte in steden, of door de dure benzine.  \"</th>\n",
       "      <td>NaN</td>\n",
       "      <td>NaN</td>\n",
       "      <td>NaN</td>\n",
       "      <td>NaN</td>\n",
       "      <td>NaN</td>\n",
       "      <td>NaN</td>\n",
       "      <td>NaN</td>\n",
       "      <td>NaN</td>\n",
       "      <td>NaN</td>\n",
       "      <td>NaN</td>\n",
       "      <td>NaN</td>\n",
       "      <td>NaN</td>\n",
       "      <td>NaN</td>\n",
       "      <td>NaN</td>\n",
       "      <td>NaN</td>\n",
       "    </tr>\n",
       "    <tr>\n",
       "      <th>4,Only SGRM,Deelnemer_B,2023-07-07 08:03:38.267,00:28:47,Helemaal mee oneens,Helemaal mee eens,Eens,Lichtelijk oneens,Neutraal,,Helemaal mee oneens,\"Negatief beïnvloed, mijn denkrichting werd erdoor ingeperkt\",Veel langer,Neutraal,\"Motoren, brommers en bromfietsen worden weer vaker gestolen. In de eerste zeven maanden sloegen dieven ruim achtduizend keer toe. Dat is ruim een derde vaker dan in de zelfde periode een jaar geleden, zeggen de verzekeraars. Hoe dat kan, is niet precies te zeggen.     \"</th>\n",
       "      <td>NaN</td>\n",
       "      <td>NaN</td>\n",
       "      <td>NaN</td>\n",
       "      <td>NaN</td>\n",
       "      <td>NaN</td>\n",
       "      <td>NaN</td>\n",
       "      <td>NaN</td>\n",
       "      <td>NaN</td>\n",
       "      <td>NaN</td>\n",
       "      <td>NaN</td>\n",
       "      <td>NaN</td>\n",
       "      <td>NaN</td>\n",
       "      <td>NaN</td>\n",
       "      <td>NaN</td>\n",
       "      <td>NaN</td>\n",
       "    </tr>\n",
       "    <tr>\n",
       "      <th>8,NASGRM,Deelnemer_C,2023-07-05 06:16:34.857,00:03:38,Helemaal mee eens,Helemaal mee oneens,Helemaal mee eens,Helemaal mee eens,Helemaal mee eens,Neutraal,Oneens,\"Neutraal, ik heb er geen aandacht aan besteedt.\",Langer,Oneens,Ik ben er voor alle Brazilianen. Dat zegt de nieuwe president Lula da Silva. Hij denkt erover zijn voorganger Bolsonaro voor de rechter te slepen om de honderdduizenden mensen die in Brazilië zijn overleden aan corona. Bolsonaro noemde corona een griepje. Lula da Silva noemt zijn beleid volkerenmoord.</th>\n",
       "      <td>NaN</td>\n",
       "      <td>NaN</td>\n",
       "      <td>NaN</td>\n",
       "      <td>NaN</td>\n",
       "      <td>NaN</td>\n",
       "      <td>NaN</td>\n",
       "      <td>NaN</td>\n",
       "      <td>NaN</td>\n",
       "      <td>NaN</td>\n",
       "      <td>NaN</td>\n",
       "      <td>NaN</td>\n",
       "      <td>NaN</td>\n",
       "      <td>NaN</td>\n",
       "      <td>NaN</td>\n",
       "      <td>NaN</td>\n",
       "    </tr>\n",
       "    <tr>\n",
       "      <th>8,Only NA,Deelnemer_B,2023-07-07 08:24:53.183,00:20:04,Lichtelijk eens,Oneens,Eens,Lichtelijk eens,Neutraal,,,,,,\"In zijn eerste speech als president van Brazilië heeft Lula da Silva hard uitgehaald naar zijn voorganger Bolsonaro. Zonder zijn naam te noemen zei Lula dat politici die de coronapandemie niet serieus namen, massamoord hebben gepleegd en vervolgd moeten worden. Bolsonaro zelf weigert toe te geven dat hij de presidentsverkiezingen heeft verloren. Hij is gevlucht naar Florida.\"</th>\n",
       "      <td>NaN</td>\n",
       "      <td>NaN</td>\n",
       "      <td>NaN</td>\n",
       "      <td>NaN</td>\n",
       "      <td>NaN</td>\n",
       "      <td>NaN</td>\n",
       "      <td>NaN</td>\n",
       "      <td>NaN</td>\n",
       "      <td>NaN</td>\n",
       "      <td>NaN</td>\n",
       "      <td>NaN</td>\n",
       "      <td>NaN</td>\n",
       "      <td>NaN</td>\n",
       "      <td>NaN</td>\n",
       "      <td>NaN</td>\n",
       "    </tr>\n",
       "    <tr>\n",
       "      <th>8,Only SGRM,Deelnemer_A,2023-06-30 13:02:39.550,00:02:01,Eens,Lichtelijk oneens,Lichtelijk oneens,Lichtelijk oneens,Helemaal mee eens,,Oneens,\"Negatief beïnvloed, mijn denkrichting werd erdoor ingeperkt\",Veel langer,Oneens,De nieuwe Braziliaanse president Lula da Silva belooft dat hij zal regeren voor alle Brazilianen. In zijn toespraak zei hij ook dat hij zijn voorganger wil vervolgen voor zijn aanpak van corona. Er vielen in Brazilië 680-duizend doden. Da Silva noemt het volkerenmoord.</th>\n",
       "      <td>NaN</td>\n",
       "      <td>NaN</td>\n",
       "      <td>NaN</td>\n",
       "      <td>NaN</td>\n",
       "      <td>NaN</td>\n",
       "      <td>NaN</td>\n",
       "      <td>NaN</td>\n",
       "      <td>NaN</td>\n",
       "      <td>NaN</td>\n",
       "      <td>NaN</td>\n",
       "      <td>NaN</td>\n",
       "      <td>NaN</td>\n",
       "      <td>NaN</td>\n",
       "      <td>NaN</td>\n",
       "      <td>NaN</td>\n",
       "    </tr>\n",
       "  </tbody>\n",
       "</table>\n",
       "</div>"
      ],
      "text/plain": [
       "                                                   condition Deelnemer_ID   \n",
       "NA_index                                                                    \n",
       "0,NASGRM,Deelnemer_B,2023-07-07 06:04:26.773,00...       NaN          NaN  \\\n",
       "0                                                    Only NA  Deelnemer_A   \n",
       "0,Only SGRM,Deelnemer_C,2023-07-05 05:36:18.983...       NaN          NaN   \n",
       "1,NASGRM,Deelnemer_A,2023-06-30 07:15:43.157,00...       NaN          NaN   \n",
       "1                                                    Only NA  Deelnemer_C   \n",
       "1,Only SGRM,Deelnemer_B,2023-07-07 06:58:28.423...       NaN          NaN   \n",
       "2,NASGRM,Deelnemer_C,2023-07-05 06:00:11.043,00...       NaN          NaN   \n",
       "2                                                    Only NA  Deelnemer_B   \n",
       "2,Only SGRM,Deelnemer_A,2023-06-30 08:27:58.763...       NaN          NaN   \n",
       "3,NASGRM,Deelnemer_B,2023-07-07 07:32:55.183,00...       NaN          NaN   \n",
       "3                                                    Only NA  Deelnemer_A   \n",
       "3,Only SGRM,Deelnemer_C,2023-07-05 06:04:45.660...       NaN          NaN   \n",
       "4,NASGRM,Deelnemer_A,2023-06-30 12:59:00.070,00...       NaN          NaN   \n",
       "4,Only NA,Deelnemer_C,2023-07-05 06:11:43.263,0...       NaN          NaN   \n",
       "4,Only SGRM,Deelnemer_B,2023-07-07 08:03:38.267...       NaN          NaN   \n",
       "8,NASGRM,Deelnemer_C,2023-07-05 06:16:34.857,00...       NaN          NaN   \n",
       "8,Only NA,Deelnemer_B,2023-07-07 08:24:53.183,0...       NaN          NaN   \n",
       "8,Only SGRM,Deelnemer_A,2023-06-30 13:02:39.550...       NaN          NaN   \n",
       "\n",
       "                                                             Date submitted   \n",
       "NA_index                                                                      \n",
       "0,NASGRM,Deelnemer_B,2023-07-07 06:04:26.773,00...                      NaN  \\\n",
       "0                                                   2023-06-30 06:33:06.020   \n",
       "0,Only SGRM,Deelnemer_C,2023-07-05 05:36:18.983...                      NaN   \n",
       "1,NASGRM,Deelnemer_A,2023-06-30 07:15:43.157,00...                      NaN   \n",
       "1                                                   2023-07-05 05:49:59.707   \n",
       "1,Only SGRM,Deelnemer_B,2023-07-07 06:58:28.423...                      NaN   \n",
       "2,NASGRM,Deelnemer_C,2023-07-05 06:00:11.043,00...                      NaN   \n",
       "2                                                   2023-07-07 07:21:42.610   \n",
       "2,Only SGRM,Deelnemer_A,2023-06-30 08:27:58.763...                      NaN   \n",
       "3,NASGRM,Deelnemer_B,2023-07-07 07:32:55.183,00...                      NaN   \n",
       "3                                                   2023-06-30 12:51:11.620   \n",
       "3,Only SGRM,Deelnemer_C,2023-07-05 06:04:45.660...                      NaN   \n",
       "4,NASGRM,Deelnemer_A,2023-06-30 12:59:00.070,00...                      NaN   \n",
       "4,Only NA,Deelnemer_C,2023-07-05 06:11:43.263,0...                      NaN   \n",
       "4,Only SGRM,Deelnemer_B,2023-07-07 08:03:38.267...                      NaN   \n",
       "8,NASGRM,Deelnemer_C,2023-07-05 06:16:34.857,00...                      NaN   \n",
       "8,Only NA,Deelnemer_B,2023-07-07 08:24:53.183,0...                      NaN   \n",
       "8,Only SGRM,Deelnemer_A,2023-06-30 13:02:39.550...                      NaN   \n",
       "\n",
       "                                                   Page 2 duration   \n",
       "NA_index                                                             \n",
       "0,NASGRM,Deelnemer_B,2023-07-07 06:04:26.773,00...             NaN  \\\n",
       "0                                                         00:06:52   \n",
       "0,Only SGRM,Deelnemer_C,2023-07-05 05:36:18.983...             NaN   \n",
       "1,NASGRM,Deelnemer_A,2023-06-30 07:15:43.157,00...             NaN   \n",
       "1                                                         00:12:28   \n",
       "1,Only SGRM,Deelnemer_B,2023-07-07 06:58:28.423...             NaN   \n",
       "2,NASGRM,Deelnemer_C,2023-07-05 06:00:11.043,00...             NaN   \n",
       "2                                                         00:19:43   \n",
       "2,Only SGRM,Deelnemer_A,2023-06-30 08:27:58.763...             NaN   \n",
       "3,NASGRM,Deelnemer_B,2023-07-07 07:32:55.183,00...             NaN   \n",
       "3                                                         00:05:14   \n",
       "3,Only SGRM,Deelnemer_C,2023-07-05 06:04:45.660...             NaN   \n",
       "4,NASGRM,Deelnemer_A,2023-06-30 12:59:00.070,00...             NaN   \n",
       "4,Only NA,Deelnemer_C,2023-07-05 06:11:43.263,0...             NaN   \n",
       "4,Only SGRM,Deelnemer_B,2023-07-07 08:03:38.267...             NaN   \n",
       "8,NASGRM,Deelnemer_C,2023-07-05 06:16:34.857,00...             NaN   \n",
       "8,Only NA,Deelnemer_B,2023-07-07 08:24:53.183,0...             NaN   \n",
       "8,Only SGRM,Deelnemer_A,2023-06-30 13:02:39.550...             NaN   \n",
       "\n",
       "                                                   Ik heb de taak snel uitgevoerd   \n",
       "NA_index                                                                            \n",
       "0,NASGRM,Deelnemer_B,2023-07-07 06:04:26.773,00...                            NaN  \\\n",
       "0                                                                            Eens   \n",
       "0,Only SGRM,Deelnemer_C,2023-07-05 05:36:18.983...                            NaN   \n",
       "1,NASGRM,Deelnemer_A,2023-06-30 07:15:43.157,00...                            NaN   \n",
       "1                                                               Helemaal mee eens   \n",
       "1,Only SGRM,Deelnemer_B,2023-07-07 06:58:28.423...                            NaN   \n",
       "2,NASGRM,Deelnemer_C,2023-07-05 06:00:11.043,00...                            NaN   \n",
       "2                                                                 Lichtelijk eens   \n",
       "2,Only SGRM,Deelnemer_A,2023-06-30 08:27:58.763...                            NaN   \n",
       "3,NASGRM,Deelnemer_B,2023-07-07 07:32:55.183,00...                            NaN   \n",
       "3                                                                            Eens   \n",
       "3,Only SGRM,Deelnemer_C,2023-07-05 06:04:45.660...                            NaN   \n",
       "4,NASGRM,Deelnemer_A,2023-06-30 12:59:00.070,00...                            NaN   \n",
       "4,Only NA,Deelnemer_C,2023-07-05 06:11:43.263,0...                            NaN   \n",
       "4,Only SGRM,Deelnemer_B,2023-07-07 08:03:38.267...                            NaN   \n",
       "8,NASGRM,Deelnemer_C,2023-07-05 06:16:34.857,00...                            NaN   \n",
       "8,Only NA,Deelnemer_B,2023-07-07 08:24:53.183,0...                            NaN   \n",
       "8,Only SGRM,Deelnemer_A,2023-06-30 13:02:39.550...                            NaN   \n",
       "\n",
       "                                                   Ik had moeite om de taak succesvol uit te voeren   \n",
       "NA_index                                                                                              \n",
       "0,NASGRM,Deelnemer_B,2023-07-07 06:04:26.773,00...                                              NaN  \\\n",
       "0                                                                                            Oneens   \n",
       "0,Only SGRM,Deelnemer_C,2023-07-05 05:36:18.983...                                              NaN   \n",
       "1,NASGRM,Deelnemer_A,2023-06-30 07:15:43.157,00...                                              NaN   \n",
       "1                                                                               Helemaal mee oneens   \n",
       "1,Only SGRM,Deelnemer_B,2023-07-07 06:58:28.423...                                              NaN   \n",
       "2,NASGRM,Deelnemer_C,2023-07-05 06:00:11.043,00...                                              NaN   \n",
       "2                                                                                            Oneens   \n",
       "2,Only SGRM,Deelnemer_A,2023-06-30 08:27:58.763...                                              NaN   \n",
       "3,NASGRM,Deelnemer_B,2023-07-07 07:32:55.183,00...                                              NaN   \n",
       "3                                                                                            Oneens   \n",
       "3,Only SGRM,Deelnemer_C,2023-07-05 06:04:45.660...                                              NaN   \n",
       "4,NASGRM,Deelnemer_A,2023-06-30 12:59:00.070,00...                                              NaN   \n",
       "4,Only NA,Deelnemer_C,2023-07-05 06:11:43.263,0...                                              NaN   \n",
       "4,Only SGRM,Deelnemer_B,2023-07-07 08:03:38.267...                                              NaN   \n",
       "8,NASGRM,Deelnemer_C,2023-07-05 06:16:34.857,00...                                              NaN   \n",
       "8,Only NA,Deelnemer_B,2023-07-07 08:24:53.183,0...                                              NaN   \n",
       "8,Only SGRM,Deelnemer_A,2023-06-30 13:02:39.550...                                              NaN   \n",
       "\n",
       "                                                   Ik zie mijzelf als de maker van het radiobericht   \n",
       "NA_index                                                                                              \n",
       "0,NASGRM,Deelnemer_B,2023-07-07 06:04:26.773,00...                                              NaN  \\\n",
       "0                                                                                              Eens   \n",
       "0,Only SGRM,Deelnemer_C,2023-07-05 05:36:18.983...                                              NaN   \n",
       "1,NASGRM,Deelnemer_A,2023-06-30 07:15:43.157,00...                                              NaN   \n",
       "1                                                                                 Helemaal mee eens   \n",
       "1,Only SGRM,Deelnemer_B,2023-07-07 06:58:28.423...                                              NaN   \n",
       "2,NASGRM,Deelnemer_C,2023-07-05 06:00:11.043,00...                                              NaN   \n",
       "2                                                                                              Eens   \n",
       "2,Only SGRM,Deelnemer_A,2023-06-30 08:27:58.763...                                              NaN   \n",
       "3,NASGRM,Deelnemer_B,2023-07-07 07:32:55.183,00...                                              NaN   \n",
       "3                                                                                              Eens   \n",
       "3,Only SGRM,Deelnemer_C,2023-07-05 06:04:45.660...                                              NaN   \n",
       "4,NASGRM,Deelnemer_A,2023-06-30 12:59:00.070,00...                                              NaN   \n",
       "4,Only NA,Deelnemer_C,2023-07-05 06:11:43.263,0...                                              NaN   \n",
       "4,Only SGRM,Deelnemer_B,2023-07-07 08:03:38.267...                                              NaN   \n",
       "8,NASGRM,Deelnemer_C,2023-07-05 06:16:34.857,00...                                              NaN   \n",
       "8,Only NA,Deelnemer_B,2023-07-07 08:24:53.183,0...                                              NaN   \n",
       "8,Only SGRM,Deelnemer_A,2023-06-30 13:02:39.550...                                              NaN   \n",
       "\n",
       "                                                   Ik ben tevreden met mijn gecreeërde radio-bericht   \n",
       "NA_index                                                                                               \n",
       "0,NASGRM,Deelnemer_B,2023-07-07 06:04:26.773,00...                                               NaN  \\\n",
       "0                                                                                  Helemaal mee eens   \n",
       "0,Only SGRM,Deelnemer_C,2023-07-05 05:36:18.983...                                               NaN   \n",
       "1,NASGRM,Deelnemer_A,2023-06-30 07:15:43.157,00...                                               NaN   \n",
       "1                                                                                  Helemaal mee eens   \n",
       "1,Only SGRM,Deelnemer_B,2023-07-07 06:58:28.423...                                               NaN   \n",
       "2,NASGRM,Deelnemer_C,2023-07-05 06:00:11.043,00...                                               NaN   \n",
       "2                                                                                    Lichtelijk eens   \n",
       "2,Only SGRM,Deelnemer_A,2023-06-30 08:27:58.763...                                               NaN   \n",
       "3,NASGRM,Deelnemer_B,2023-07-07 07:32:55.183,00...                                               NaN   \n",
       "3                                                                                               Eens   \n",
       "3,Only SGRM,Deelnemer_C,2023-07-05 06:04:45.660...                                               NaN   \n",
       "4,NASGRM,Deelnemer_A,2023-06-30 12:59:00.070,00...                                               NaN   \n",
       "4,Only NA,Deelnemer_C,2023-07-05 06:11:43.263,0...                                               NaN   \n",
       "4,Only SGRM,Deelnemer_B,2023-07-07 08:03:38.267...                                               NaN   \n",
       "8,NASGRM,Deelnemer_C,2023-07-05 06:16:34.857,00...                                               NaN   \n",
       "8,Only NA,Deelnemer_B,2023-07-07 08:24:53.183,0...                                               NaN   \n",
       "8,Only SGRM,Deelnemer_A,2023-06-30 13:02:39.550...                                               NaN   \n",
       "\n",
       "                                                   Door bovenstaande limitaties is het niet mogelijk om conclusies te vertalen naar mijn echte werkzaamheden   \n",
       "NA_index                                                                                                                                                       \n",
       "0,NASGRM,Deelnemer_B,2023-07-07 06:04:26.773,00...                                                NaN                                                         \\\n",
       "0                                                                                            Neutraal                                                          \n",
       "0,Only SGRM,Deelnemer_C,2023-07-05 05:36:18.983...                                                NaN                                                          \n",
       "1,NASGRM,Deelnemer_A,2023-06-30 07:15:43.157,00...                                                NaN                                                          \n",
       "1                                                                                 Helemaal mee oneens                                                          \n",
       "1,Only SGRM,Deelnemer_B,2023-07-07 06:58:28.423...                                                NaN                                                          \n",
       "2,NASGRM,Deelnemer_C,2023-07-05 06:00:11.043,00...                                                NaN                                                          \n",
       "2                                                                                     Lichtelijk eens                                                          \n",
       "2,Only SGRM,Deelnemer_A,2023-06-30 08:27:58.763...                                                NaN                                                          \n",
       "3,NASGRM,Deelnemer_B,2023-07-07 07:32:55.183,00...                                                NaN                                                          \n",
       "3                                                                                     Lichtelijk eens                                                          \n",
       "3,Only SGRM,Deelnemer_C,2023-07-05 06:04:45.660...                                                NaN                                                          \n",
       "4,NASGRM,Deelnemer_A,2023-06-30 12:59:00.070,00...                                                NaN                                                          \n",
       "4,Only NA,Deelnemer_C,2023-07-05 06:11:43.263,0...                                                NaN                                                          \n",
       "4,Only SGRM,Deelnemer_B,2023-07-07 08:03:38.267...                                                NaN                                                          \n",
       "8,NASGRM,Deelnemer_C,2023-07-05 06:16:34.857,00...                                                NaN                                                          \n",
       "8,Only NA,Deelnemer_B,2023-07-07 08:24:53.183,0...                                                NaN                                                          \n",
       "8,Only SGRM,Deelnemer_A,2023-06-30 13:02:39.550...                                                NaN                                                          \n",
       "\n",
       "                                                    Ik heb erop vertrouwd dat het suggestie radio-bericht feitelijk correct was   \n",
       "NA_index                                                                                                                          \n",
       "0,NASGRM,Deelnemer_B,2023-07-07 06:04:26.773,00...                                                NaN                            \\\n",
       "0                                                                                                 NaN                             \n",
       "0,Only SGRM,Deelnemer_C,2023-07-05 05:36:18.983...                                                NaN                             \n",
       "1,NASGRM,Deelnemer_A,2023-06-30 07:15:43.157,00...                                                NaN                             \n",
       "1                                                                                                 NaN                             \n",
       "1,Only SGRM,Deelnemer_B,2023-07-07 06:58:28.423...                                                NaN                             \n",
       "2,NASGRM,Deelnemer_C,2023-07-05 06:00:11.043,00...                                                NaN                             \n",
       "2                                                                                                 NaN                             \n",
       "2,Only SGRM,Deelnemer_A,2023-06-30 08:27:58.763...                                                NaN                             \n",
       "3,NASGRM,Deelnemer_B,2023-07-07 07:32:55.183,00...                                                NaN                             \n",
       "3                                                                                                 NaN                             \n",
       "3,Only SGRM,Deelnemer_C,2023-07-05 06:04:45.660...                                                NaN                             \n",
       "4,NASGRM,Deelnemer_A,2023-06-30 12:59:00.070,00...                                                NaN                             \n",
       "4,Only NA,Deelnemer_C,2023-07-05 06:11:43.263,0...                                                NaN                             \n",
       "4,Only SGRM,Deelnemer_B,2023-07-07 08:03:38.267...                                                NaN                             \n",
       "8,NASGRM,Deelnemer_C,2023-07-05 06:16:34.857,00...                                                NaN                             \n",
       "8,Only NA,Deelnemer_B,2023-07-07 08:24:53.183,0...                                                NaN                             \n",
       "8,Only SGRM,Deelnemer_A,2023-06-30 13:02:39.550...                                                NaN                             \n",
       "\n",
       "                                                    Ik heb net zoveel vertrouwen in de suggestie als dat ik had gehad wanneer het door een collega geschreven was   \n",
       "NA_index                                                                                                                                                            \n",
       "0,NASGRM,Deelnemer_B,2023-07-07 06:04:26.773,00...                                                NaN                                                              \\\n",
       "0                                                                                                 NaN                                                               \n",
       "0,Only SGRM,Deelnemer_C,2023-07-05 05:36:18.983...                                                NaN                                                               \n",
       "1,NASGRM,Deelnemer_A,2023-06-30 07:15:43.157,00...                                                NaN                                                               \n",
       "1                                                                                                 NaN                                                               \n",
       "1,Only SGRM,Deelnemer_B,2023-07-07 06:58:28.423...                                                NaN                                                               \n",
       "2,NASGRM,Deelnemer_C,2023-07-05 06:00:11.043,00...                                                NaN                                                               \n",
       "2                                                                                                 NaN                                                               \n",
       "2,Only SGRM,Deelnemer_A,2023-06-30 08:27:58.763...                                                NaN                                                               \n",
       "3,NASGRM,Deelnemer_B,2023-07-07 07:32:55.183,00...                                                NaN                                                               \n",
       "3                                                                                                 NaN                                                               \n",
       "3,Only SGRM,Deelnemer_C,2023-07-05 06:04:45.660...                                                NaN                                                               \n",
       "4,NASGRM,Deelnemer_A,2023-06-30 12:59:00.070,00...                                                NaN                                                               \n",
       "4,Only NA,Deelnemer_C,2023-07-05 06:11:43.263,0...                                                NaN                                                               \n",
       "4,Only SGRM,Deelnemer_B,2023-07-07 08:03:38.267...                                                NaN                                                               \n",
       "8,NASGRM,Deelnemer_C,2023-07-05 06:16:34.857,00...                                                NaN                                                               \n",
       "8,Only NA,Deelnemer_B,2023-07-07 08:24:53.183,0...                                                NaN                                                               \n",
       "8,Only SGRM,Deelnemer_A,2023-06-30 13:02:39.550...                                                NaN                                                               \n",
       "\n",
       "                                                    Het suggestie radio-bericht heeft mij beinvloed op een of meerdere van de volgende manieren:   \n",
       "NA_index                                                                                                                                           \n",
       "0,NASGRM,Deelnemer_B,2023-07-07 06:04:26.773,00...                                                NaN                                             \\\n",
       "0                                                                                                 NaN                                              \n",
       "0,Only SGRM,Deelnemer_C,2023-07-05 05:36:18.983...                                                NaN                                              \n",
       "1,NASGRM,Deelnemer_A,2023-06-30 07:15:43.157,00...                                                NaN                                              \n",
       "1                                                                                                 NaN                                              \n",
       "1,Only SGRM,Deelnemer_B,2023-07-07 06:58:28.423...                                                NaN                                              \n",
       "2,NASGRM,Deelnemer_C,2023-07-05 06:00:11.043,00...                                                NaN                                              \n",
       "2                                                                                                 NaN                                              \n",
       "2,Only SGRM,Deelnemer_A,2023-06-30 08:27:58.763...                                                NaN                                              \n",
       "3,NASGRM,Deelnemer_B,2023-07-07 07:32:55.183,00...                                                NaN                                              \n",
       "3                                                                                                 NaN                                              \n",
       "3,Only SGRM,Deelnemer_C,2023-07-05 06:04:45.660...                                                NaN                                              \n",
       "4,NASGRM,Deelnemer_A,2023-06-30 12:59:00.070,00...                                                NaN                                              \n",
       "4,Only NA,Deelnemer_C,2023-07-05 06:11:43.263,0...                                                NaN                                              \n",
       "4,Only SGRM,Deelnemer_B,2023-07-07 08:03:38.267...                                                NaN                                              \n",
       "8,NASGRM,Deelnemer_C,2023-07-05 06:16:34.857,00...                                                NaN                                              \n",
       "8,Only NA,Deelnemer_B,2023-07-07 08:24:53.183,0...                                                NaN                                              \n",
       "8,Only SGRM,Deelnemer_A,2023-06-30 13:02:39.550...                                                NaN                                              \n",
       "\n",
       "                                                    Het suggestie radio-bericht had mij meer geholpen als het ... was   \n",
       "NA_index                                                                                                                \n",
       "0,NASGRM,Deelnemer_B,2023-07-07 06:04:26.773,00...                                                NaN                  \\\n",
       "0                                                                                                 NaN                   \n",
       "0,Only SGRM,Deelnemer_C,2023-07-05 05:36:18.983...                                                NaN                   \n",
       "1,NASGRM,Deelnemer_A,2023-06-30 07:15:43.157,00...                                                NaN                   \n",
       "1                                                                                                 NaN                   \n",
       "1,Only SGRM,Deelnemer_B,2023-07-07 06:58:28.423...                                                NaN                   \n",
       "2,NASGRM,Deelnemer_C,2023-07-05 06:00:11.043,00...                                                NaN                   \n",
       "2                                                                                                 NaN                   \n",
       "2,Only SGRM,Deelnemer_A,2023-06-30 08:27:58.763...                                                NaN                   \n",
       "3,NASGRM,Deelnemer_B,2023-07-07 07:32:55.183,00...                                                NaN                   \n",
       "3                                                                                                 NaN                   \n",
       "3,Only SGRM,Deelnemer_C,2023-07-05 06:04:45.660...                                                NaN                   \n",
       "4,NASGRM,Deelnemer_A,2023-06-30 12:59:00.070,00...                                                NaN                   \n",
       "4,Only NA,Deelnemer_C,2023-07-05 06:11:43.263,0...                                                NaN                   \n",
       "4,Only SGRM,Deelnemer_B,2023-07-07 08:03:38.267...                                                NaN                   \n",
       "8,NASGRM,Deelnemer_C,2023-07-05 06:16:34.857,00...                                                NaN                   \n",
       "8,Only NA,Deelnemer_B,2023-07-07 08:24:53.183,0...                                                NaN                   \n",
       "8,Only SGRM,Deelnemer_A,2023-06-30 13:02:39.550...                                                NaN                   \n",
       "\n",
       "                                                    Ik sta open om op deze manier mijn werk uit te voeren   \n",
       "NA_index                                                                                                    \n",
       "0,NASGRM,Deelnemer_B,2023-07-07 06:04:26.773,00...                                                NaN      \\\n",
       "0                                                                                                 NaN       \n",
       "0,Only SGRM,Deelnemer_C,2023-07-05 05:36:18.983...                                                NaN       \n",
       "1,NASGRM,Deelnemer_A,2023-06-30 07:15:43.157,00...                                                NaN       \n",
       "1                                                                                                 NaN       \n",
       "1,Only SGRM,Deelnemer_B,2023-07-07 06:58:28.423...                                                NaN       \n",
       "2,NASGRM,Deelnemer_C,2023-07-05 06:00:11.043,00...                                                NaN       \n",
       "2                                                                                                 NaN       \n",
       "2,Only SGRM,Deelnemer_A,2023-06-30 08:27:58.763...                                                NaN       \n",
       "3,NASGRM,Deelnemer_B,2023-07-07 07:32:55.183,00...                                                NaN       \n",
       "3                                                                                                 NaN       \n",
       "3,Only SGRM,Deelnemer_C,2023-07-05 06:04:45.660...                                                NaN       \n",
       "4,NASGRM,Deelnemer_A,2023-06-30 12:59:00.070,00...                                                NaN       \n",
       "4,Only NA,Deelnemer_C,2023-07-05 06:11:43.263,0...                                                NaN       \n",
       "4,Only SGRM,Deelnemer_B,2023-07-07 08:03:38.267...                                                NaN       \n",
       "8,NASGRM,Deelnemer_C,2023-07-05 06:16:34.857,00...                                                NaN       \n",
       "8,Only NA,Deelnemer_B,2023-07-07 08:24:53.183,0...                                                NaN       \n",
       "8,Only SGRM,Deelnemer_A,2023-06-30 13:02:39.550...                                                NaN       \n",
       "\n",
       "                                                                     Schrijf hier jouw radio-bericht:  \n",
       "NA_index                                                                                               \n",
       "0,NASGRM,Deelnemer_B,2023-07-07 06:04:26.773,00...                                                NaN  \n",
       "0                                                   De GGD onderzoekt klachten over seksuele intim...  \n",
       "0,Only SGRM,Deelnemer_C,2023-07-05 05:36:18.983...                                                NaN  \n",
       "1,NASGRM,Deelnemer_A,2023-06-30 07:15:43.157,00...                                                NaN  \n",
       "1                                                   Het kabinet moet meer doen om recycling aan te...  \n",
       "1,Only SGRM,Deelnemer_B,2023-07-07 06:58:28.423...                                                NaN  \n",
       "2,NASGRM,Deelnemer_C,2023-07-05 06:00:11.043,00...                                                NaN  \n",
       "2                                                   Er is opnieuw de hele dag gezocht naar de jong...  \n",
       "2,Only SGRM,Deelnemer_A,2023-06-30 08:27:58.763...                                                NaN  \n",
       "3,NASGRM,Deelnemer_B,2023-07-07 07:32:55.183,00...                                                NaN  \n",
       "3                                                   De Nederlandse marine heeft samen met Colombia...  \n",
       "3,Only SGRM,Deelnemer_C,2023-07-05 06:04:45.660...                                                NaN  \n",
       "4,NASGRM,Deelnemer_A,2023-06-30 12:59:00.070,00...                                                NaN  \n",
       "4,Only NA,Deelnemer_C,2023-07-05 06:11:43.263,0...                                                NaN  \n",
       "4,Only SGRM,Deelnemer_B,2023-07-07 08:03:38.267...                                                NaN  \n",
       "8,NASGRM,Deelnemer_C,2023-07-05 06:16:34.857,00...                                                NaN  \n",
       "8,Only NA,Deelnemer_B,2023-07-07 08:24:53.183,0...                                                NaN  \n",
       "8,Only SGRM,Deelnemer_A,2023-06-30 13:02:39.550...                                                NaN  "
      ]
     },
     "execution_count": 29,
     "metadata": {},
     "output_type": "execute_result"
    }
   ],
   "source": [
    "main_df = pd.read_csv(\"exp_2_df_final_results.csv\",  index_col=0)\n",
    "main_df\n",
    "#data = pd.read_csv(file_path, delimiter='\\t')"
   ]
  },
  {
   "cell_type": "code",
   "execution_count": 59,
   "metadata": {},
   "outputs": [
    {
     "data": {
      "text/html": [
       "<div>\n",
       "<style scoped>\n",
       "    .dataframe tbody tr th:only-of-type {\n",
       "        vertical-align: middle;\n",
       "    }\n",
       "\n",
       "    .dataframe tbody tr th {\n",
       "        vertical-align: top;\n",
       "    }\n",
       "\n",
       "    .dataframe thead th {\n",
       "        text-align: right;\n",
       "    }\n",
       "</style>\n",
       "<table border=\"1\" class=\"dataframe\">\n",
       "  <thead>\n",
       "    <tr style=\"text-align: right;\">\n",
       "      <th></th>\n",
       "      <th>NA_index</th>\n",
       "      <th>condition</th>\n",
       "      <th>Deelnemer_ID</th>\n",
       "      <th>Date submitted</th>\n",
       "      <th>Page 2 duration</th>\n",
       "      <th>Ik heb de taak snel uitgevoerd</th>\n",
       "      <th>Ik had moeite om de taak succesvol uit te voeren</th>\n",
       "      <th>Ik zie mijzelf als de maker van het radiobericht</th>\n",
       "      <th>Ik ben tevreden met mijn gecreeÃ«rde radio-bericht</th>\n",
       "      <th>Door bovenstaande limitaties is het niet mogelijk om conclusies te vertalen naar mijn echte werkzaamheden</th>\n",
       "      <th>Ik heb erop vertrouwd dat het suggestie radio-bericht feitelijk correct was</th>\n",
       "      <th>Ik heb net zoveel vertrouwen in de suggestie als dat ik had gehad wanneer het door een collega geschreven was</th>\n",
       "      <th>Het suggestie radio-bericht heeft mij beinvloed op een of meerdere van de volgende manieren:</th>\n",
       "      <th>Het suggestie radio-bericht had mij meer geholpen als het ... was</th>\n",
       "      <th>Ik sta open om op deze manier mijn werk uit te voeren</th>\n",
       "      <th>Schrijf hier jouw radio-bericht:</th>\n",
       "    </tr>\n",
       "  </thead>\n",
       "  <tbody>\n",
       "    <tr>\n",
       "      <th>0</th>\n",
       "      <td>0</td>\n",
       "      <td>NASGRM</td>\n",
       "      <td>Deelnemer_B</td>\n",
       "      <td>2023-07-07 06:04:26.773</td>\n",
       "      <td>00:27:09</td>\n",
       "      <td>Neutraal</td>\n",
       "      <td>Neutraal</td>\n",
       "      <td>Neutraal</td>\n",
       "      <td>Neutraal</td>\n",
       "      <td>Lichtelijk eens</td>\n",
       "      <td>Lichtelijk oneens</td>\n",
       "      <td>Oneens</td>\n",
       "      <td>Positief beÃ¯nvloed, sneller inspiratie gevond...</td>\n",
       "      <td>Een beetje langer</td>\n",
       "      <td>Lichtelijk oneens</td>\n",
       "      <td>Het lijkt flink mis op een zorgboerderij in Ho...</td>\n",
       "    </tr>\n",
       "    <tr>\n",
       "      <th>1</th>\n",
       "      <td>0</td>\n",
       "      <td>Only NA</td>\n",
       "      <td>Deelnemer_A</td>\n",
       "      <td>2023-06-30 06:33:06.020</td>\n",
       "      <td>00:06:52</td>\n",
       "      <td>Eens</td>\n",
       "      <td>Oneens</td>\n",
       "      <td>Eens</td>\n",
       "      <td>Helemaal mee eens</td>\n",
       "      <td>Neutraal</td>\n",
       "      <td>NaN</td>\n",
       "      <td>NaN</td>\n",
       "      <td>NaN</td>\n",
       "      <td>NaN</td>\n",
       "      <td>NaN</td>\n",
       "      <td>De GGD onderzoekt klachten over seksuele intim...</td>\n",
       "    </tr>\n",
       "    <tr>\n",
       "      <th>2</th>\n",
       "      <td>0</td>\n",
       "      <td>Only SGRM</td>\n",
       "      <td>Deelnemer_C</td>\n",
       "      <td>2023-07-05 05:36:18.983</td>\n",
       "      <td>00:02:35</td>\n",
       "      <td>Helemaal mee eens</td>\n",
       "      <td>Helemaal mee oneens</td>\n",
       "      <td>Helemaal mee eens</td>\n",
       "      <td>Helemaal mee eens</td>\n",
       "      <td>Helemaal mee eens</td>\n",
       "      <td>NaN</td>\n",
       "      <td>Lichtelijk eens</td>\n",
       "      <td>Negatief beÃ¯nvloed, de suggestie behoefde zov...</td>\n",
       "      <td>Langer</td>\n",
       "      <td>Oneens</td>\n",
       "      <td>De GGD onderzoekt of mensen op een zorgboerder...</td>\n",
       "    </tr>\n",
       "    <tr>\n",
       "      <th>3</th>\n",
       "      <td>1</td>\n",
       "      <td>NASGRM</td>\n",
       "      <td>Deelnemer_A</td>\n",
       "      <td>2023-06-30 07:15:43.157</td>\n",
       "      <td>00:10:15</td>\n",
       "      <td>Lichtelijk eens</td>\n",
       "      <td>Lichtelijk oneens</td>\n",
       "      <td>Lichtelijk eens</td>\n",
       "      <td>Eens</td>\n",
       "      <td>Neutraal</td>\n",
       "      <td>Lichtelijk eens</td>\n",
       "      <td>Eens</td>\n",
       "      <td>Positief beÃ¯nvloed, sneller inspiratie gevond...</td>\n",
       "      <td>Neutraal (perfecte lengte)</td>\n",
       "      <td>Neutraal</td>\n",
       "      <td>Het schiet niet op met de omschakeling naar ee...</td>\n",
       "    </tr>\n",
       "    <tr>\n",
       "      <th>4</th>\n",
       "      <td>1</td>\n",
       "      <td>Only NA</td>\n",
       "      <td>Deelnemer_C</td>\n",
       "      <td>2023-07-05 05:49:59.707</td>\n",
       "      <td>00:12:28</td>\n",
       "      <td>Helemaal mee eens</td>\n",
       "      <td>Helemaal mee oneens</td>\n",
       "      <td>Helemaal mee eens</td>\n",
       "      <td>Helemaal mee eens</td>\n",
       "      <td>Helemaal mee oneens</td>\n",
       "      <td>NaN</td>\n",
       "      <td>NaN</td>\n",
       "      <td>NaN</td>\n",
       "      <td>NaN</td>\n",
       "      <td>NaN</td>\n",
       "      <td>Het kabinet moet meer doen om recycling aan te...</td>\n",
       "    </tr>\n",
       "    <tr>\n",
       "      <th>5</th>\n",
       "      <td>1</td>\n",
       "      <td>Only SGRM</td>\n",
       "      <td>Deelnemer_B</td>\n",
       "      <td>2023-07-07 06:58:28.423</td>\n",
       "      <td>00:51:19</td>\n",
       "      <td>Helemaal mee oneens</td>\n",
       "      <td>Eens</td>\n",
       "      <td>Eens</td>\n",
       "      <td>Neutraal</td>\n",
       "      <td>Eens</td>\n",
       "      <td>NaN</td>\n",
       "      <td>Oneens</td>\n",
       "      <td>Negatief beÃ¯nvloed, de suggestie behoefde zov...</td>\n",
       "      <td>Langer</td>\n",
       "      <td>Oneens</td>\n",
       "      <td>Bedrijven die milieuvervuilende grondstoffen g...</td>\n",
       "    </tr>\n",
       "    <tr>\n",
       "      <th>6</th>\n",
       "      <td>2</td>\n",
       "      <td>NASGRM</td>\n",
       "      <td>Deelnemer_C</td>\n",
       "      <td>2023-07-05 06:00:11.043</td>\n",
       "      <td>00:08:53</td>\n",
       "      <td>Helemaal mee eens</td>\n",
       "      <td>Helemaal mee oneens</td>\n",
       "      <td>Helemaal mee eens</td>\n",
       "      <td>Helemaal mee eens</td>\n",
       "      <td>Helemaal mee eens</td>\n",
       "      <td>Eens</td>\n",
       "      <td>Neutraal</td>\n",
       "      <td>Neutraal, ik heb er geen aandacht aan besteedt.</td>\n",
       "      <td>Veel langer</td>\n",
       "      <td>Oneens</td>\n",
       "      <td>Er wordt op Terschelling niet meer gezocht naa...</td>\n",
       "    </tr>\n",
       "    <tr>\n",
       "      <th>7</th>\n",
       "      <td>2</td>\n",
       "      <td>Only NA</td>\n",
       "      <td>Deelnemer_B</td>\n",
       "      <td>2023-07-07 07:21:42.610</td>\n",
       "      <td>00:19:43</td>\n",
       "      <td>Lichtelijk eens</td>\n",
       "      <td>Oneens</td>\n",
       "      <td>Eens</td>\n",
       "      <td>Lichtelijk eens</td>\n",
       "      <td>Lichtelijk eens</td>\n",
       "      <td>NaN</td>\n",
       "      <td>NaN</td>\n",
       "      <td>NaN</td>\n",
       "      <td>NaN</td>\n",
       "      <td>NaN</td>\n",
       "      <td>Er is opnieuw de hele dag gezocht naar de jong...</td>\n",
       "    </tr>\n",
       "    <tr>\n",
       "      <th>8</th>\n",
       "      <td>2</td>\n",
       "      <td>Only SGRM</td>\n",
       "      <td>Deelnemer_A</td>\n",
       "      <td>2023-06-30 08:27:58.763</td>\n",
       "      <td>00:02:53</td>\n",
       "      <td>Helemaal mee eens</td>\n",
       "      <td>Lichtelijk oneens</td>\n",
       "      <td>Lichtelijk eens</td>\n",
       "      <td>Oneens</td>\n",
       "      <td>Eens</td>\n",
       "      <td>NaN</td>\n",
       "      <td>Lichtelijk oneens</td>\n",
       "      <td>Negatief beÃ¯nvloed, mijn denkrichting werd er...</td>\n",
       "      <td>Veel langer</td>\n",
       "      <td>Helemaal mee oneens</td>\n",
       "      <td>De reddingsdiensten zijn gestopt met zoeken na...</td>\n",
       "    </tr>\n",
       "    <tr>\n",
       "      <th>9</th>\n",
       "      <td>3</td>\n",
       "      <td>NASGRM</td>\n",
       "      <td>Deelnemer_B</td>\n",
       "      <td>2023-07-07 07:32:55.183</td>\n",
       "      <td>00:09:15</td>\n",
       "      <td>Eens</td>\n",
       "      <td>Oneens</td>\n",
       "      <td>Eens</td>\n",
       "      <td>Eens</td>\n",
       "      <td>Neutraal</td>\n",
       "      <td>Lichtelijk oneens</td>\n",
       "      <td>Oneens</td>\n",
       "      <td>Neutraal, ik heb er geen aandacht aan besteedt.</td>\n",
       "      <td>Neutraal (perfecte lengte)</td>\n",
       "      <td>Neutraal</td>\n",
       "      <td>Nederland heeft samen met de marine van Colomb...</td>\n",
       "    </tr>\n",
       "    <tr>\n",
       "      <th>10</th>\n",
       "      <td>3</td>\n",
       "      <td>Only NA</td>\n",
       "      <td>Deelnemer_A</td>\n",
       "      <td>2023-06-30 12:51:11.620</td>\n",
       "      <td>00:05:14</td>\n",
       "      <td>Eens</td>\n",
       "      <td>Oneens</td>\n",
       "      <td>Eens</td>\n",
       "      <td>Eens</td>\n",
       "      <td>Lichtelijk eens</td>\n",
       "      <td>NaN</td>\n",
       "      <td>NaN</td>\n",
       "      <td>NaN</td>\n",
       "      <td>NaN</td>\n",
       "      <td>NaN</td>\n",
       "      <td>De Nederlandse marine heeft samen met Colombia...</td>\n",
       "    </tr>\n",
       "    <tr>\n",
       "      <th>11</th>\n",
       "      <td>3</td>\n",
       "      <td>Only SGRM</td>\n",
       "      <td>Deelnemer_C</td>\n",
       "      <td>2023-07-05 06:04:45.660</td>\n",
       "      <td>00:03:17</td>\n",
       "      <td>Helemaal mee eens</td>\n",
       "      <td>Helemaal mee oneens</td>\n",
       "      <td>Helemaal mee eens</td>\n",
       "      <td>Helemaal mee eens</td>\n",
       "      <td>Helemaal mee eens</td>\n",
       "      <td>NaN</td>\n",
       "      <td>Oneens</td>\n",
       "      <td>Negatief beÃ¯nvloed, de suggestie behoefde zov...</td>\n",
       "      <td>Langer</td>\n",
       "      <td>Helemaal mee oneens</td>\n",
       "      <td>In de Caribische Zee is voor ongeveer 300 milj...</td>\n",
       "    </tr>\n",
       "    <tr>\n",
       "      <th>12</th>\n",
       "      <td>4</td>\n",
       "      <td>NASGRM</td>\n",
       "      <td>Deelnemer_A</td>\n",
       "      <td>2023-06-30 12:59:00.070</td>\n",
       "      <td>00:05:36</td>\n",
       "      <td>Eens</td>\n",
       "      <td>Oneens</td>\n",
       "      <td>Lichtelijk eens</td>\n",
       "      <td>Lichtelijk eens</td>\n",
       "      <td>Lichtelijk eens</td>\n",
       "      <td>Lichtelijk oneens</td>\n",
       "      <td>Neutraal</td>\n",
       "      <td>Positief beÃ¯nvloed, sneller inspiratie gevond...</td>\n",
       "      <td>Neutraal (perfecte lengte)</td>\n",
       "      <td>Oneens</td>\n",
       "      <td>Er worden steeds meer bromfietsen, snorfietsen...</td>\n",
       "    </tr>\n",
       "    <tr>\n",
       "      <th>13</th>\n",
       "      <td>4</td>\n",
       "      <td>Only NA</td>\n",
       "      <td>Deelnemer_C</td>\n",
       "      <td>2023-07-05 06:11:43.263</td>\n",
       "      <td>00:03:56</td>\n",
       "      <td>Helemaal mee eens</td>\n",
       "      <td>Helemaal mee oneens</td>\n",
       "      <td>Helemaal mee eens</td>\n",
       "      <td>Helemaal mee eens</td>\n",
       "      <td>Helemaal mee eens</td>\n",
       "      <td>NaN</td>\n",
       "      <td>NaN</td>\n",
       "      <td>NaN</td>\n",
       "      <td>NaN</td>\n",
       "      <td>NaN</td>\n",
       "      <td>Voor de kust van Aruba is ruim vijf ton cocaïn...</td>\n",
       "    </tr>\n",
       "    <tr>\n",
       "      <th>14</th>\n",
       "      <td>4</td>\n",
       "      <td>Only SGRM</td>\n",
       "      <td>Deelnemer_B</td>\n",
       "      <td>2023-07-07 08:03:38.267</td>\n",
       "      <td>00:28:47</td>\n",
       "      <td>Helemaal mee oneens</td>\n",
       "      <td>Helemaal mee eens</td>\n",
       "      <td>Eens</td>\n",
       "      <td>Lichtelijk oneens</td>\n",
       "      <td>Neutraal</td>\n",
       "      <td>NaN</td>\n",
       "      <td>Helemaal mee oneens</td>\n",
       "      <td>Negatief beÃ¯nvloed, mijn denkrichting werd er...</td>\n",
       "      <td>Veel langer</td>\n",
       "      <td>Neutraal</td>\n",
       "      <td>Motoren, brommers en bromfietsen worden weer v...</td>\n",
       "    </tr>\n",
       "    <tr>\n",
       "      <th>15</th>\n",
       "      <td>8</td>\n",
       "      <td>NASGRM</td>\n",
       "      <td>Deelnemer_C</td>\n",
       "      <td>2023-07-05 06:16:34.857</td>\n",
       "      <td>00:03:38</td>\n",
       "      <td>Helemaal mee eens</td>\n",
       "      <td>Helemaal mee oneens</td>\n",
       "      <td>Helemaal mee eens</td>\n",
       "      <td>Helemaal mee eens</td>\n",
       "      <td>Helemaal mee eens</td>\n",
       "      <td>Neutraal</td>\n",
       "      <td>Oneens</td>\n",
       "      <td>Neutraal, ik heb er geen aandacht aan besteedt.</td>\n",
       "      <td>Langer</td>\n",
       "      <td>Oneens</td>\n",
       "      <td>Ik ben er voor alle Brazilianen. Dat zegt de n...</td>\n",
       "    </tr>\n",
       "    <tr>\n",
       "      <th>16</th>\n",
       "      <td>8</td>\n",
       "      <td>Only NA</td>\n",
       "      <td>Deelnemer_B</td>\n",
       "      <td>2023-07-07 08:24:53.183</td>\n",
       "      <td>00:20:04</td>\n",
       "      <td>Lichtelijk eens</td>\n",
       "      <td>Oneens</td>\n",
       "      <td>Eens</td>\n",
       "      <td>Lichtelijk eens</td>\n",
       "      <td>Neutraal</td>\n",
       "      <td>NaN</td>\n",
       "      <td>NaN</td>\n",
       "      <td>NaN</td>\n",
       "      <td>NaN</td>\n",
       "      <td>NaN</td>\n",
       "      <td>In zijn eerste speech als president van Brazil...</td>\n",
       "    </tr>\n",
       "    <tr>\n",
       "      <th>17</th>\n",
       "      <td>8</td>\n",
       "      <td>Only SGRM</td>\n",
       "      <td>Deelnemer_A</td>\n",
       "      <td>2023-06-30 13:02:39.550</td>\n",
       "      <td>00:02:01</td>\n",
       "      <td>Eens</td>\n",
       "      <td>Lichtelijk oneens</td>\n",
       "      <td>Lichtelijk oneens</td>\n",
       "      <td>Lichtelijk oneens</td>\n",
       "      <td>Helemaal mee eens</td>\n",
       "      <td>NaN</td>\n",
       "      <td>Oneens</td>\n",
       "      <td>Negatief beÃ¯nvloed, mijn denkrichting werd er...</td>\n",
       "      <td>Veel langer</td>\n",
       "      <td>Oneens</td>\n",
       "      <td>De nieuwe Braziliaanse president Lula da Silva...</td>\n",
       "    </tr>\n",
       "  </tbody>\n",
       "</table>\n",
       "</div>"
      ],
      "text/plain": [
       "    NA_index  condition Deelnemer_ID           Date submitted Page 2 duration   \n",
       "0          0     NASGRM  Deelnemer_B  2023-07-07 06:04:26.773        00:27:09  \\\n",
       "1          0    Only NA  Deelnemer_A  2023-06-30 06:33:06.020        00:06:52   \n",
       "2          0  Only SGRM  Deelnemer_C  2023-07-05 05:36:18.983        00:02:35   \n",
       "3          1     NASGRM  Deelnemer_A  2023-06-30 07:15:43.157        00:10:15   \n",
       "4          1    Only NA  Deelnemer_C  2023-07-05 05:49:59.707        00:12:28   \n",
       "5          1  Only SGRM  Deelnemer_B  2023-07-07 06:58:28.423        00:51:19   \n",
       "6          2     NASGRM  Deelnemer_C  2023-07-05 06:00:11.043        00:08:53   \n",
       "7          2    Only NA  Deelnemer_B  2023-07-07 07:21:42.610        00:19:43   \n",
       "8          2  Only SGRM  Deelnemer_A  2023-06-30 08:27:58.763        00:02:53   \n",
       "9          3     NASGRM  Deelnemer_B  2023-07-07 07:32:55.183        00:09:15   \n",
       "10         3    Only NA  Deelnemer_A  2023-06-30 12:51:11.620        00:05:14   \n",
       "11         3  Only SGRM  Deelnemer_C  2023-07-05 06:04:45.660        00:03:17   \n",
       "12         4     NASGRM  Deelnemer_A  2023-06-30 12:59:00.070        00:05:36   \n",
       "13         4    Only NA  Deelnemer_C  2023-07-05 06:11:43.263        00:03:56   \n",
       "14         4  Only SGRM  Deelnemer_B  2023-07-07 08:03:38.267        00:28:47   \n",
       "15         8     NASGRM  Deelnemer_C  2023-07-05 06:16:34.857        00:03:38   \n",
       "16         8    Only NA  Deelnemer_B  2023-07-07 08:24:53.183        00:20:04   \n",
       "17         8  Only SGRM  Deelnemer_A  2023-06-30 13:02:39.550        00:02:01   \n",
       "\n",
       "   Ik heb de taak snel uitgevoerd   \n",
       "0                        Neutraal  \\\n",
       "1                            Eens   \n",
       "2               Helemaal mee eens   \n",
       "3                 Lichtelijk eens   \n",
       "4               Helemaal mee eens   \n",
       "5             Helemaal mee oneens   \n",
       "6               Helemaal mee eens   \n",
       "7                 Lichtelijk eens   \n",
       "8               Helemaal mee eens   \n",
       "9                            Eens   \n",
       "10                           Eens   \n",
       "11              Helemaal mee eens   \n",
       "12                           Eens   \n",
       "13              Helemaal mee eens   \n",
       "14            Helemaal mee oneens   \n",
       "15              Helemaal mee eens   \n",
       "16                Lichtelijk eens   \n",
       "17                           Eens   \n",
       "\n",
       "   Ik had moeite om de taak succesvol uit te voeren   \n",
       "0                                          Neutraal  \\\n",
       "1                                            Oneens   \n",
       "2                               Helemaal mee oneens   \n",
       "3                                 Lichtelijk oneens   \n",
       "4                               Helemaal mee oneens   \n",
       "5                                              Eens   \n",
       "6                               Helemaal mee oneens   \n",
       "7                                            Oneens   \n",
       "8                                 Lichtelijk oneens   \n",
       "9                                            Oneens   \n",
       "10                                           Oneens   \n",
       "11                              Helemaal mee oneens   \n",
       "12                                           Oneens   \n",
       "13                              Helemaal mee oneens   \n",
       "14                                Helemaal mee eens   \n",
       "15                              Helemaal mee oneens   \n",
       "16                                           Oneens   \n",
       "17                                Lichtelijk oneens   \n",
       "\n",
       "   Ik zie mijzelf als de maker van het radiobericht   \n",
       "0                                          Neutraal  \\\n",
       "1                                              Eens   \n",
       "2                                 Helemaal mee eens   \n",
       "3                                   Lichtelijk eens   \n",
       "4                                 Helemaal mee eens   \n",
       "5                                              Eens   \n",
       "6                                 Helemaal mee eens   \n",
       "7                                              Eens   \n",
       "8                                   Lichtelijk eens   \n",
       "9                                              Eens   \n",
       "10                                             Eens   \n",
       "11                                Helemaal mee eens   \n",
       "12                                  Lichtelijk eens   \n",
       "13                                Helemaal mee eens   \n",
       "14                                             Eens   \n",
       "15                                Helemaal mee eens   \n",
       "16                                             Eens   \n",
       "17                                Lichtelijk oneens   \n",
       "\n",
       "   Ik ben tevreden met mijn gecreeÃ«rde radio-bericht   \n",
       "0                                            Neutraal  \\\n",
       "1                                   Helemaal mee eens   \n",
       "2                                   Helemaal mee eens   \n",
       "3                                                Eens   \n",
       "4                                   Helemaal mee eens   \n",
       "5                                            Neutraal   \n",
       "6                                   Helemaal mee eens   \n",
       "7                                     Lichtelijk eens   \n",
       "8                                              Oneens   \n",
       "9                                                Eens   \n",
       "10                                               Eens   \n",
       "11                                  Helemaal mee eens   \n",
       "12                                    Lichtelijk eens   \n",
       "13                                  Helemaal mee eens   \n",
       "14                                  Lichtelijk oneens   \n",
       "15                                  Helemaal mee eens   \n",
       "16                                    Lichtelijk eens   \n",
       "17                                  Lichtelijk oneens   \n",
       "\n",
       "   Door bovenstaande limitaties is het niet mogelijk om conclusies te vertalen naar mijn echte werkzaamheden   \n",
       "0                                     Lichtelijk eens                                                         \\\n",
       "1                                            Neutraal                                                          \n",
       "2                                   Helemaal mee eens                                                          \n",
       "3                                            Neutraal                                                          \n",
       "4                                 Helemaal mee oneens                                                          \n",
       "5                                                Eens                                                          \n",
       "6                                   Helemaal mee eens                                                          \n",
       "7                                     Lichtelijk eens                                                          \n",
       "8                                                Eens                                                          \n",
       "9                                            Neutraal                                                          \n",
       "10                                    Lichtelijk eens                                                          \n",
       "11                                  Helemaal mee eens                                                          \n",
       "12                                    Lichtelijk eens                                                          \n",
       "13                                  Helemaal mee eens                                                          \n",
       "14                                           Neutraal                                                          \n",
       "15                                  Helemaal mee eens                                                          \n",
       "16                                           Neutraal                                                          \n",
       "17                                  Helemaal mee eens                                                          \n",
       "\n",
       "   Ik heb erop vertrouwd dat het suggestie radio-bericht feitelijk correct was   \n",
       "0                                   Lichtelijk oneens                           \\\n",
       "1                                                 NaN                            \n",
       "2                                                 NaN                            \n",
       "3                                     Lichtelijk eens                            \n",
       "4                                                 NaN                            \n",
       "5                                                 NaN                            \n",
       "6                                                Eens                            \n",
       "7                                                 NaN                            \n",
       "8                                                 NaN                            \n",
       "9                                   Lichtelijk oneens                            \n",
       "10                                                NaN                            \n",
       "11                                                NaN                            \n",
       "12                                  Lichtelijk oneens                            \n",
       "13                                                NaN                            \n",
       "14                                                NaN                            \n",
       "15                                           Neutraal                            \n",
       "16                                                NaN                            \n",
       "17                                                NaN                            \n",
       "\n",
       "   Ik heb net zoveel vertrouwen in de suggestie als dat ik had gehad wanneer het door een collega geschreven was   \n",
       "0                                              Oneens                                                             \\\n",
       "1                                                 NaN                                                              \n",
       "2                                     Lichtelijk eens                                                              \n",
       "3                                                Eens                                                              \n",
       "4                                                 NaN                                                              \n",
       "5                                              Oneens                                                              \n",
       "6                                            Neutraal                                                              \n",
       "7                                                 NaN                                                              \n",
       "8                                   Lichtelijk oneens                                                              \n",
       "9                                              Oneens                                                              \n",
       "10                                                NaN                                                              \n",
       "11                                             Oneens                                                              \n",
       "12                                           Neutraal                                                              \n",
       "13                                                NaN                                                              \n",
       "14                                Helemaal mee oneens                                                              \n",
       "15                                             Oneens                                                              \n",
       "16                                                NaN                                                              \n",
       "17                                             Oneens                                                              \n",
       "\n",
       "   Het suggestie radio-bericht heeft mij beinvloed op een of meerdere van de volgende manieren:   \n",
       "0   Positief beÃ¯nvloed, sneller inspiratie gevond...                                            \\\n",
       "1                                                 NaN                                             \n",
       "2   Negatief beÃ¯nvloed, de suggestie behoefde zov...                                             \n",
       "3   Positief beÃ¯nvloed, sneller inspiratie gevond...                                             \n",
       "4                                                 NaN                                             \n",
       "5   Negatief beÃ¯nvloed, de suggestie behoefde zov...                                             \n",
       "6     Neutraal, ik heb er geen aandacht aan besteedt.                                             \n",
       "7                                                 NaN                                             \n",
       "8   Negatief beÃ¯nvloed, mijn denkrichting werd er...                                             \n",
       "9     Neutraal, ik heb er geen aandacht aan besteedt.                                             \n",
       "10                                                NaN                                             \n",
       "11  Negatief beÃ¯nvloed, de suggestie behoefde zov...                                             \n",
       "12  Positief beÃ¯nvloed, sneller inspiratie gevond...                                             \n",
       "13                                                NaN                                             \n",
       "14  Negatief beÃ¯nvloed, mijn denkrichting werd er...                                             \n",
       "15    Neutraal, ik heb er geen aandacht aan besteedt.                                             \n",
       "16                                                NaN                                             \n",
       "17  Negatief beÃ¯nvloed, mijn denkrichting werd er...                                             \n",
       "\n",
       "   Het suggestie radio-bericht had mij meer geholpen als het ... was   \n",
       "0                                   Een beetje langer                 \\\n",
       "1                                                 NaN                  \n",
       "2                                              Langer                  \n",
       "3                          Neutraal (perfecte lengte)                  \n",
       "4                                                 NaN                  \n",
       "5                                              Langer                  \n",
       "6                                         Veel langer                  \n",
       "7                                                 NaN                  \n",
       "8                                         Veel langer                  \n",
       "9                          Neutraal (perfecte lengte)                  \n",
       "10                                                NaN                  \n",
       "11                                             Langer                  \n",
       "12                         Neutraal (perfecte lengte)                  \n",
       "13                                                NaN                  \n",
       "14                                        Veel langer                  \n",
       "15                                             Langer                  \n",
       "16                                                NaN                  \n",
       "17                                        Veel langer                  \n",
       "\n",
       "   Ik sta open om op deze manier mijn werk uit te voeren   \n",
       "0                                   Lichtelijk oneens     \\\n",
       "1                                                 NaN      \n",
       "2                                              Oneens      \n",
       "3                                            Neutraal      \n",
       "4                                                 NaN      \n",
       "5                                              Oneens      \n",
       "6                                              Oneens      \n",
       "7                                                 NaN      \n",
       "8                                 Helemaal mee oneens      \n",
       "9                                            Neutraal      \n",
       "10                                                NaN      \n",
       "11                                Helemaal mee oneens      \n",
       "12                                             Oneens      \n",
       "13                                                NaN      \n",
       "14                                           Neutraal      \n",
       "15                                             Oneens      \n",
       "16                                                NaN      \n",
       "17                                             Oneens      \n",
       "\n",
       "                     Schrijf hier jouw radio-bericht:  \n",
       "0   Het lijkt flink mis op een zorgboerderij in Ho...  \n",
       "1   De GGD onderzoekt klachten over seksuele intim...  \n",
       "2   De GGD onderzoekt of mensen op een zorgboerder...  \n",
       "3   Het schiet niet op met de omschakeling naar ee...  \n",
       "4   Het kabinet moet meer doen om recycling aan te...  \n",
       "5   Bedrijven die milieuvervuilende grondstoffen g...  \n",
       "6   Er wordt op Terschelling niet meer gezocht naa...  \n",
       "7   Er is opnieuw de hele dag gezocht naar de jong...  \n",
       "8   De reddingsdiensten zijn gestopt met zoeken na...  \n",
       "9   Nederland heeft samen met de marine van Colomb...  \n",
       "10  De Nederlandse marine heeft samen met Colombia...  \n",
       "11  In de Caribische Zee is voor ongeveer 300 milj...  \n",
       "12  Er worden steeds meer bromfietsen, snorfietsen...  \n",
       "13  Voor de kust van Aruba is ruim vijf ton cocaïn...  \n",
       "14  Motoren, brommers en bromfietsen worden weer v...  \n",
       "15  Ik ben er voor alle Brazilianen. Dat zegt de n...  \n",
       "16  In zijn eerste speech als president van Brazil...  \n",
       "17  De nieuwe Braziliaanse president Lula da Silva...  "
      ]
     },
     "execution_count": 59,
     "metadata": {},
     "output_type": "execute_result"
    }
   ],
   "source": [
    "#\n",
    "#main_df = pd.read_csv(\"exp_2_df_final_results.csv\")\n",
    "main_df = pd.read_excel(\"exp_2_df_final_results.xlsx\" )\n",
    "main_df\n",
    "#print(main_df['NA_index'])"
   ]
  },
  {
   "cell_type": "markdown",
   "metadata": {},
   "source": [
    "## Turn Likert data into numerical"
   ]
  },
  {
   "cell_type": "code",
   "execution_count": 60,
   "metadata": {},
   "outputs": [],
   "source": [
    "replacer = {'Helemaal mee oneens': 1, 'Oneens': 2,\n",
    "            'Lichtelijk oneens': 3,\n",
    "            'Neutraal': 4, 'Lichtelijk eens': 5, 'Eens' : 6, 'Helemaal mee eens' : 7}\n",
    "\n",
    "\n",
    "# Select String Columns\n",
    "cols = main_df.columns[main_df.dtypes == 'object']\n",
    "# Replace Values in those Columns\n",
    "main_df[cols] = main_df[cols].replace(replacer)"
   ]
  },
  {
   "cell_type": "markdown",
   "metadata": {},
   "source": [
    "## Turn duration column into integer"
   ]
  },
  {
   "cell_type": "code",
   "execution_count": 61,
   "metadata": {},
   "outputs": [
    {
     "name": "stdout",
     "output_type": "stream",
     "text": [
      "Unexpected exception formatting exception. Falling back to standard exception\n"
     ]
    },
    {
     "name": "stderr",
     "output_type": "stream",
     "text": [
      "Traceback (most recent call last):\n",
      "  File \"pandas\\_libs\\tslibs\\timedeltas.pyx\", line 436, in pandas._libs.tslibs.timedeltas.array_to_timedelta64\n",
      "  File \"pandas\\_libs\\tslibs\\timedeltas.pyx\", line 468, in pandas._libs.tslibs.timedeltas._item_to_timedelta64_fastpath\n",
      "TypeError: Expected unicode, got datetime.time\n",
      "\n",
      "During handling of the above exception, another exception occurred:\n",
      "\n",
      "Traceback (most recent call last):\n",
      "  File \"C:\\Users\\20183274\\AppData\\Roaming\\Python\\Python311\\site-packages\\IPython\\core\\interactiveshell.py\", line 3460, in run_code\n",
      "    exec(code_obj, self.user_global_ns, self.user_ns)\n",
      "  File \"C:\\Users\\20183274\\AppData\\Local\\Temp\\ipykernel_20828\\1095751726.py\", line 1, in <module>\n",
      "    main_df['duration'] = pd.to_timedelta(main_df['Page 2 duration']).dt.total_seconds()\n",
      "                          ^^^^^^^^^^^^^^^^^^^^^^^^^^^^^^^^^^^^^^^^^^^\n",
      "  File \"C:\\Users\\20183274\\AppData\\Roaming\\Python\\Python311\\site-packages\\pandas-2.0.0rc0-py3.11-win-amd64.egg\\pandas\\core\\tools\\timedeltas.py\", line 189, in to_timedelta\n",
      "    values = _convert_listlike(arg._values, unit=unit, errors=errors)\n",
      "             ^^^^^^^^^^^^^^^^^^^^^^^^^^^^^^^^^^^^^^^^^^^^^^^^^^^^^^^^\n",
      "  File \"C:\\Users\\20183274\\AppData\\Roaming\\Python\\Python311\\site-packages\\pandas-2.0.0rc0-py3.11-win-amd64.egg\\pandas\\core\\tools\\timedeltas.py\", line 248, in _convert_listlike\n",
      "    td64arr = sequence_to_td64ns(arg, unit=unit, errors=errors, copy=False)[0]\n",
      "              ^^^^^^^^^^^^^^^^^^^^^^^^^^^^^^^^^^^^^^^^^^^^^^^^^^^^^^^^^^^^^\n",
      "  File \"C:\\Users\\20183274\\AppData\\Roaming\\Python\\Python311\\site-packages\\pandas-2.0.0rc0-py3.11-win-amd64.egg\\pandas\\core\\arrays\\timedeltas.py\", line 903, in sequence_to_td64ns\n",
      "    data = _objects_to_td64ns(data, unit=unit, errors=errors)\n",
      "           ^^^^^^^^^^^^^^^^^^^^^^^^^^^^^^^^^^^^^^^^^^^^^^^^^^\n",
      "  File \"C:\\Users\\20183274\\AppData\\Roaming\\Python\\Python311\\site-packages\\pandas-2.0.0rc0-py3.11-win-amd64.egg\\pandas\\core\\arrays\\timedeltas.py\", line 1032, in _objects_to_td64ns\n",
      "    result = array_to_timedelta64(values, unit=unit, errors=errors)\n",
      "             ^^^^^^^^^^^^^^^^^^^^^^^^^^^^^^^^^^^^^^^^^^^^^^^^^^^^^^\n",
      "  File \"pandas\\_libs\\tslibs\\timedeltas.pyx\", line 450, in pandas._libs.tslibs.timedeltas.array_to_timedelta64\n",
      "  File \"pandas\\_libs\\tslibs\\timedeltas.pyx\", line 480, in pandas._libs.tslibs.timedeltas._item_to_timedelta64\n",
      "  File \"pandas\\_libs\\tslibs\\timedeltas.pyx\", line 367, in pandas._libs.tslibs.timedeltas.convert_to_timedelta64\n",
      "TypeError: Invalid type for timedelta scalar: <class 'datetime.time'>\n",
      "\n",
      "During handling of the above exception, another exception occurred:\n",
      "\n",
      "Traceback (most recent call last):\n",
      "  File \"C:\\Users\\20183274\\AppData\\Roaming\\Python\\Python311\\site-packages\\IPython\\core\\interactiveshell.py\", line 2057, in showtraceback\n",
      "    stb = self.InteractiveTB.structured_traceback(\n",
      "          ^^^^^^^^^^^^^^^^^^^^^^^^^^^^^^^^^^^^^^^^\n",
      "  File \"C:\\Users\\20183274\\AppData\\Roaming\\Python\\Python311\\site-packages\\IPython\\core\\ultratb.py\", line 1288, in structured_traceback\n",
      "    return FormattedTB.structured_traceback(\n",
      "           ^^^^^^^^^^^^^^^^^^^^^^^^^^^^^^^^^\n",
      "  File \"C:\\Users\\20183274\\AppData\\Roaming\\Python\\Python311\\site-packages\\IPython\\core\\ultratb.py\", line 1177, in structured_traceback\n",
      "    return VerboseTB.structured_traceback(\n",
      "           ^^^^^^^^^^^^^^^^^^^^^^^^^^^^^^^\n",
      "  File \"C:\\Users\\20183274\\AppData\\Roaming\\Python\\Python311\\site-packages\\IPython\\core\\ultratb.py\", line 1049, in structured_traceback\n",
      "    formatted_exceptions += self.format_exception_as_a_whole(etype, evalue, etb, lines_of_context,\n",
      "                            ^^^^^^^^^^^^^^^^^^^^^^^^^^^^^^^^^^^^^^^^^^^^^^^^^^^^^^^^^^^^^^^^^^^^^^\n",
      "  File \"C:\\Users\\20183274\\AppData\\Roaming\\Python\\Python311\\site-packages\\IPython\\core\\ultratb.py\", line 935, in format_exception_as_a_whole\n",
      "    self.get_records(etb, number_of_lines_of_context, tb_offset) if etb else []\n",
      "    ^^^^^^^^^^^^^^^^^^^^^^^^^^^^^^^^^^^^^^^^^^^^^^^^^^^^^^^^^^^^\n",
      "  File \"C:\\Users\\20183274\\AppData\\Roaming\\Python\\Python311\\site-packages\\IPython\\core\\ultratb.py\", line 1003, in get_records\n",
      "    lines, first = inspect.getsourcelines(etb.tb_frame)\n",
      "                   ^^^^^^^^^^^^^^^^^^^^^^^^^^^^^^^^^^^^\n",
      "  File \"C:\\Users\\20183274\\AppData\\Local\\anaconda3\\Lib\\inspect.py\", line 1244, in getsourcelines\n",
      "    lines, lnum = findsource(object)\n",
      "                  ^^^^^^^^^^^^^^^^^^\n",
      "  File \"C:\\Users\\20183274\\AppData\\Local\\anaconda3\\Lib\\inspect.py\", line 1081, in findsource\n",
      "    raise OSError('could not get source code')\n",
      "OSError: could not get source code\n"
     ]
    }
   ],
   "source": [
    "main_df['duration'] = pd.to_timedelta(main_df['Page 2 duration']).dt.total_seconds()\n",
    "print(main_df)\n",
    "main_df['duration'] = main_df['duration'].astype(int)"
   ]
  },
  {
   "cell_type": "markdown",
   "metadata": {},
   "source": [
    "## Rename columns so that they do not contain spaces"
   ]
  },
  {
   "cell_type": "code",
   "execution_count": 62,
   "metadata": {},
   "outputs": [],
   "source": [
    "main_df = main_df.rename(columns={'Ik heb de taak snel uitgevoerd': 'Ikhebdetaaksneluitgevoerd', 'Ik had moeite om de taak succesvol uit te voeren': \n",
    "                                 \"Ikhadmoeiteomdetaaksuccesvoluittevoeren\", \"Ik zie mijzelf als de maker van het radiobericht\":\n",
    "                                 \"Ikziemijzelfalsdemakervanhetradiobericht\", \"Ik ben tevreden met mijn gecreeërde radio-bericht\": \n",
    "                                 \"Ikbentevredenmetmijngecreeërderadiobericht\", \"Door bovenstaande limitaties is het niet mogelijk om conclusies te vertalen naar mijn echte werkzaamheden\": \n",
    "                                 \"Doorbovenstaandelimitatiesishetnietmogelijkomconclusiestevertalennaarmijnechtewerkzaamheden\",\n",
    "                                 \"Ik heb erop vertrouwd dat het suggestie radio-bericht feitelijk correct was\": \"Ikheberopvertrouwddathetsuggestieradio-berichtfeitelijkcorrectwas\",\n",
    "                                 \"Ik heb net zoveel vertrouwen in de suggestie als dat ik had gehad wanneer het door een collega geschreven was\": \n",
    "                                 \"Ikhebnetzoveelvertrouwenindesuggestiealsdatikhadgehadwanneerhetdooreencollegageschrevenwas\",\n",
    "                                 \"Het suggestie radio-bericht heeft mij beinvloed op een of meerdere van de volgende manieren:\":\n",
    "                                 \"Hetsuggestieradio-berichtheeftmijbeinvloedopeenofmeerderevandevolgendemanieren:\",\n",
    "                                 \"Het suggestie radio-bericht had mij meer geholpen als het ... was\": \n",
    "                                 \"Hetsuggestieradio-berichthadmijmeergeholpenalshet...was\",\n",
    "                                 \"Ik sta open om op deze manier mijn werk uit te voeren\":\n",
    "                                 \"Ikstaopenomopdezemaniermijnwerkuittevoeren\",\n",
    "                                 \"Schrijf hier jouw radio-bericht:\": \"Schrijfhierjouwradio-bericht:\"})"
   ]
  },
  {
   "cell_type": "markdown",
   "metadata": {},
   "source": [
    "## replace strings to integers"
   ]
  },
  {
   "cell_type": "code",
   "execution_count": 63,
   "metadata": {},
   "outputs": [],
   "source": [
    "subset_without_onlyna = main_df[main_df.condition != 'Only NA']\n",
    "subset_only_nasgrm = main_df[main_df.condition == 'NASGRM']"
   ]
  },
  {
   "cell_type": "code",
   "execution_count": 64,
   "metadata": {},
   "outputs": [],
   "source": [
    "replacerid = {'Only NA': 1, 'NASGRM': 2,\n",
    "            'Only SGRM': 3}\n",
    "replacerdeel = {'Deelnemer_A': 1, 'Deelnemer_B': 2,\n",
    "            'Deelnemer_C': 3}\n",
    "# Select String Columns\n",
    "cols = subset_only_nasgrm.columns[subset_only_nasgrm.dtypes == 'object']\n",
    "# Replace Values in those Columns\n",
    "main_df[cols] = main_df[cols].replace(replacerid)\n",
    "main_df[cols] = main_df[cols].replace(replacerdeel)"
   ]
  },
  {
   "cell_type": "code",
   "execution_count": 65,
   "metadata": {},
   "outputs": [],
   "source": [
    "main_df.to_csv(\"exp_2_R_analysis_results.csv\", index=False)"
   ]
  },
  {
   "cell_type": "markdown",
   "metadata": {},
   "source": [
    "# Import final dataframe | {'Only NA': 1, 'NASGRM': 2, Only SGRM : 3}\n",
    "        "
   ]
  },
  {
   "cell_type": "code",
   "execution_count": 66,
   "metadata": {},
   "outputs": [],
   "source": [
    "import pandas as pd\n",
    "main_df = pd.read_csv(\"exp_2_R_analysis_results.csv\")\n",
    "#main_df.at[13,'Schrijfhierjouwradio-bericht:'] = 'Motoren, brommers en bromfietsen worden weer vaker gestolen. In de eerste zeven maanden werden ruim een derde meer diefstallen gepleegd vergeleken met vorig jaar. Vooral motoren zijn populair, wat kan komen door het gebrek aan parkeerruimte in steden, of door de dure benzine.'\n"
   ]
  },
  {
   "cell_type": "code",
   "execution_count": 68,
   "metadata": {},
   "outputs": [
    {
     "data": {
      "text/plain": [
       "Index(['NA_index', 'condition', 'Deelnemer_ID', 'Date submitted',\n",
       "       'Page 2 duration', 'Ikhebdetaaksneluitgevoerd',\n",
       "       'Ikhadmoeiteomdetaaksuccesvoluittevoeren',\n",
       "       'Ikziemijzelfalsdemakervanhetradiobericht',\n",
       "       'Ik ben tevreden met mijn gecreeÃ«rde radio-bericht',\n",
       "       'Doorbovenstaandelimitatiesishetnietmogelijkomconclusiestevertalennaarmijnechtewerkzaamheden',\n",
       "       'Ikheberopvertrouwddathetsuggestieradio-berichtfeitelijkcorrectwas',\n",
       "       'Ikhebnetzoveelvertrouwenindesuggestiealsdatikhadgehadwanneerhetdooreencollegageschrevenwas',\n",
       "       'Hetsuggestieradio-berichtheeftmijbeinvloedopeenofmeerderevandevolgendemanieren:',\n",
       "       'Hetsuggestieradio-berichthadmijmeergeholpenalshet...was',\n",
       "       'Ikstaopenomopdezemaniermijnwerkuittevoeren',\n",
       "       'Schrijfhierjouwradio-bericht:'],\n",
       "      dtype='object')"
      ]
     },
     "execution_count": 68,
     "metadata": {},
     "output_type": "execute_result"
    }
   ],
   "source": [
    "main_df.columns"
   ]
  },
  {
   "cell_type": "code",
   "execution_count": 67,
   "metadata": {},
   "outputs": [
    {
     "ename": "KeyError",
     "evalue": "\"['duration'] not in index\"",
     "output_type": "error",
     "traceback": [
      "\u001b[1;31m---------------------------------------------------------------------------\u001b[0m",
      "\u001b[1;31mKeyError\u001b[0m                                  Traceback (most recent call last)",
      "Cell \u001b[1;32mIn[67], line 1\u001b[0m\n\u001b[1;32m----> 1\u001b[0m \u001b[38;5;28mprint\u001b[39m(\u001b[43mmain_df\u001b[49m\u001b[43m[\u001b[49m\u001b[43m[\u001b[49m\u001b[38;5;124;43m'\u001b[39;49m\u001b[38;5;124;43mcondition\u001b[39;49m\u001b[38;5;124;43m'\u001b[39;49m\u001b[43m,\u001b[49m\u001b[43m  \u001b[49m\u001b[38;5;124;43m'\u001b[39;49m\u001b[38;5;124;43mDeelnemer_ID\u001b[39;49m\u001b[38;5;124;43m'\u001b[39;49m\u001b[43m,\u001b[49m\u001b[38;5;124;43m'\u001b[39;49m\u001b[38;5;124;43mduration\u001b[39;49m\u001b[38;5;124;43m'\u001b[39;49m\u001b[43m]\u001b[49m\u001b[43m]\u001b[49m)\n",
      "File \u001b[1;32m~\\AppData\\Roaming\\Python\\Python311\\site-packages\\pandas-2.0.0rc0-py3.11-win-amd64.egg\\pandas\\core\\frame.py:3746\u001b[0m, in \u001b[0;36mDataFrame.__getitem__\u001b[1;34m(self, key)\u001b[0m\n\u001b[0;32m   3744\u001b[0m     \u001b[38;5;28;01mif\u001b[39;00m is_iterator(key):\n\u001b[0;32m   3745\u001b[0m         key \u001b[38;5;241m=\u001b[39m \u001b[38;5;28mlist\u001b[39m(key)\n\u001b[1;32m-> 3746\u001b[0m     indexer \u001b[38;5;241m=\u001b[39m \u001b[38;5;28;43mself\u001b[39;49m\u001b[38;5;241;43m.\u001b[39;49m\u001b[43mcolumns\u001b[49m\u001b[38;5;241;43m.\u001b[39;49m\u001b[43m_get_indexer_strict\u001b[49m\u001b[43m(\u001b[49m\u001b[43mkey\u001b[49m\u001b[43m,\u001b[49m\u001b[43m \u001b[49m\u001b[38;5;124;43m\"\u001b[39;49m\u001b[38;5;124;43mcolumns\u001b[39;49m\u001b[38;5;124;43m\"\u001b[39;49m\u001b[43m)\u001b[49m[\u001b[38;5;241m1\u001b[39m]\n\u001b[0;32m   3748\u001b[0m \u001b[38;5;66;03m# take() does not accept boolean indexers\u001b[39;00m\n\u001b[0;32m   3749\u001b[0m \u001b[38;5;28;01mif\u001b[39;00m \u001b[38;5;28mgetattr\u001b[39m(indexer, \u001b[38;5;124m\"\u001b[39m\u001b[38;5;124mdtype\u001b[39m\u001b[38;5;124m\"\u001b[39m, \u001b[38;5;28;01mNone\u001b[39;00m) \u001b[38;5;241m==\u001b[39m \u001b[38;5;28mbool\u001b[39m:\n",
      "File \u001b[1;32m~\\AppData\\Roaming\\Python\\Python311\\site-packages\\pandas-2.0.0rc0-py3.11-win-amd64.egg\\pandas\\core\\indexes\\base.py:5845\u001b[0m, in \u001b[0;36mIndex._get_indexer_strict\u001b[1;34m(self, key, axis_name)\u001b[0m\n\u001b[0;32m   5842\u001b[0m \u001b[38;5;28;01melse\u001b[39;00m:\n\u001b[0;32m   5843\u001b[0m     keyarr, indexer, new_indexer \u001b[38;5;241m=\u001b[39m \u001b[38;5;28mself\u001b[39m\u001b[38;5;241m.\u001b[39m_reindex_non_unique(keyarr)\n\u001b[1;32m-> 5845\u001b[0m \u001b[38;5;28;43mself\u001b[39;49m\u001b[38;5;241;43m.\u001b[39;49m\u001b[43m_raise_if_missing\u001b[49m\u001b[43m(\u001b[49m\u001b[43mkeyarr\u001b[49m\u001b[43m,\u001b[49m\u001b[43m \u001b[49m\u001b[43mindexer\u001b[49m\u001b[43m,\u001b[49m\u001b[43m \u001b[49m\u001b[43maxis_name\u001b[49m\u001b[43m)\u001b[49m\n\u001b[0;32m   5847\u001b[0m keyarr \u001b[38;5;241m=\u001b[39m \u001b[38;5;28mself\u001b[39m\u001b[38;5;241m.\u001b[39mtake(indexer)\n\u001b[0;32m   5848\u001b[0m \u001b[38;5;28;01mif\u001b[39;00m \u001b[38;5;28misinstance\u001b[39m(key, Index):\n\u001b[0;32m   5849\u001b[0m     \u001b[38;5;66;03m# GH 42790 - Preserve name from an Index\u001b[39;00m\n",
      "File \u001b[1;32m~\\AppData\\Roaming\\Python\\Python311\\site-packages\\pandas-2.0.0rc0-py3.11-win-amd64.egg\\pandas\\core\\indexes\\base.py:5907\u001b[0m, in \u001b[0;36mIndex._raise_if_missing\u001b[1;34m(self, key, indexer, axis_name)\u001b[0m\n\u001b[0;32m   5904\u001b[0m     \u001b[38;5;28;01mraise\u001b[39;00m \u001b[38;5;167;01mKeyError\u001b[39;00m(\u001b[38;5;124mf\u001b[39m\u001b[38;5;124m\"\u001b[39m\u001b[38;5;124mNone of [\u001b[39m\u001b[38;5;132;01m{\u001b[39;00mkey\u001b[38;5;132;01m}\u001b[39;00m\u001b[38;5;124m] are in the [\u001b[39m\u001b[38;5;132;01m{\u001b[39;00maxis_name\u001b[38;5;132;01m}\u001b[39;00m\u001b[38;5;124m]\u001b[39m\u001b[38;5;124m\"\u001b[39m)\n\u001b[0;32m   5906\u001b[0m not_found \u001b[38;5;241m=\u001b[39m \u001b[38;5;28mlist\u001b[39m(ensure_index(key)[missing_mask\u001b[38;5;241m.\u001b[39mnonzero()[\u001b[38;5;241m0\u001b[39m]]\u001b[38;5;241m.\u001b[39munique())\n\u001b[1;32m-> 5907\u001b[0m \u001b[38;5;28;01mraise\u001b[39;00m \u001b[38;5;167;01mKeyError\u001b[39;00m(\u001b[38;5;124mf\u001b[39m\u001b[38;5;124m\"\u001b[39m\u001b[38;5;132;01m{\u001b[39;00mnot_found\u001b[38;5;132;01m}\u001b[39;00m\u001b[38;5;124m not in index\u001b[39m\u001b[38;5;124m\"\u001b[39m)\n",
      "\u001b[1;31mKeyError\u001b[0m: \"['duration'] not in index\""
     ]
    }
   ],
   "source": [
    "print(main_df[['condition',  'Deelnemer_ID','duration']])"
   ]
  },
  {
   "cell_type": "markdown",
   "metadata": {},
   "source": [
    "## Inspect the time per condition, news article, and participant"
   ]
  },
  {
   "cell_type": "code",
   "execution_count": 6,
   "metadata": {},
   "outputs": [
    {
     "name": "stdout",
     "output_type": "stream",
     "text": [
      "Deelnemer_ID\n",
      "1     328.500000\n",
      "2    1562.833333\n",
      "3     347.833333\n",
      "Name: duration, dtype: float64\n"
     ]
    }
   ],
   "source": [
    "mean_duration_per_deelnemer = main_df.groupby('Deelnemer_ID')['duration'].mean()\n",
    "\n",
    "print(mean_duration_per_deelnemer)"
   ]
  },
  {
   "cell_type": "code",
   "execution_count": 7,
   "metadata": {},
   "outputs": [
    {
     "name": "stdout",
     "output_type": "stream",
     "text": [
      "condition\n",
      "1    427.5\n",
      "2    425.5\n",
      "3    161.5\n",
      "Name: duration, dtype: float64\n",
      "condition\n",
      "1    427.5\n",
      "2    425.5\n",
      "3    161.5\n",
      "Name: duration, dtype: float64\n"
     ]
    }
   ],
   "source": [
    "filter_df = main_df[main_df['Deelnemer_ID'] != 2]\n",
    "mean_duration_per_condition = filter_df.groupby('condition')['duration'].mean()\n",
    "\n",
    "print(mean_duration_per_condition)\n",
    "\n",
    "filter_df = main_df[main_df['Deelnemer_ID'] != 2]\n",
    "mean_duration_per_condition = filter_df.groupby('condition')['duration'].mean()\n",
    "\n",
    "print(mean_duration_per_condition)\n",
    "\n",
    "\n",
    "\n",
    "# NARM average words: 231 + 418 + 218 + 252= 280\n",
    "# NA average: 363 + 265 + 187 + 296 = 277.8\n",
    "# RM average: 40 + 42 + 51 + 77 = 52.5\n",
    "\n"
   ]
  },
  {
   "cell_type": "code",
   "execution_count": 8,
   "metadata": {},
   "outputs": [
    {
     "name": "stdout",
     "output_type": "stream",
     "text": [
      "NA_index\n",
      "0    283.5\n",
      "1    681.5\n",
      "2    353.0\n",
      "3    255.5\n",
      "4    286.0\n",
      "8    169.5\n",
      "Name: duration, dtype: float64\n"
     ]
    }
   ],
   "source": [
    "filter_df = main_df[main_df['Deelnemer_ID'] != 2]\n",
    "mean_duration_per_condition = filter_df.groupby('NA_index')['duration'].mean()\n",
    "\n",
    "print(mean_duration_per_condition)"
   ]
  },
  {
   "cell_type": "code",
   "execution_count": 9,
   "metadata": {},
   "outputs": [
    {
     "name": "stdout",
     "output_type": "stream",
     "text": [
      "    NA_index  condition  duration\n",
      "1          0          1       412\n",
      "2          0          3       155\n",
      "3          1          2       615\n",
      "4          1          1       748\n",
      "6          2          2       533\n",
      "8          2          3       173\n",
      "10         3          1       314\n",
      "11         3          3       197\n",
      "12         4          2       336\n",
      "13         4          1       236\n",
      "15         8          2       218\n",
      "17         8          3       121\n"
     ]
    }
   ],
   "source": [
    "filter_df = main_df[main_df['Deelnemer_ID'] != 2]\n",
    "mean_duration_per_condition = filter_df[['NA_index', 'condition','duration']]\n",
    "\n",
    "print(mean_duration_per_condition)"
   ]
  },
  {
   "cell_type": "code",
   "execution_count": null,
   "metadata": {},
   "outputs": [],
   "source": [
    "# In every scenario, condition 2 took more time than condition 3. Condition 1 took more time than condition 3.\n",
    "# Condition 1 took more time than condition 2.\n",
    "\n"
   ]
  },
  {
   "cell_type": "code",
   "execution_count": 21,
   "metadata": {},
   "outputs": [
    {
     "name": "stdout",
     "output_type": "stream",
     "text": [
      "                 Anova\n",
      "=======================================\n",
      "          F Value Num DF  Den DF Pr > F\n",
      "---------------------------------------\n",
      "condition  0.1597 2.0000 10.0000 0.8546\n",
      "=======================================\n",
      "\n"
     ]
    }
   ],
   "source": []
  },
  {
   "cell_type": "code",
   "execution_count": null,
   "metadata": {},
   "outputs": [],
   "source": []
  },
  {
   "cell_type": "code",
   "execution_count": 23,
   "metadata": {},
   "outputs": [
    {
     "name": "stdout",
     "output_type": "stream",
     "text": [
      "                 Anova\n",
      "=======================================\n",
      "          F Value Num DF  Den DF Pr > F\n",
      "---------------------------------------\n",
      "condition  2.0039 2.0000 10.0000 0.1854\n",
      "=======================================\n",
      "\n"
     ]
    }
   ],
   "source": [
    "from statsmodels.stats.anova import AnovaRM\n",
    "# Conduct the repeated measures ANOVA\n",
    "print(AnovaRM(data=main_df, depvar='Ikbentevredenmetmijngecreeërderadiobericht',\n",
    "              subject='NA_index', within=['condition']).fit())\n",
    "\n",
    "# statistical difference in mean response times between the conditions\n",
    "\n",
    "\n",
    "# Interpreting F value:\n",
    "# https://www.geeksforgeeks.org/how-to-perform-a-repeated-measures-anova-in-python/\n",
    "\n",
    "# https://www.researchgate.net/post/How_to_write_the_results_of_repeated_measures_ANOVA_and_what_is_the_meaning_of_the_F_value#:~:text=The%20F%2Dvalue%20in%20a,the%20variance%20within%20the%20groups.\n",
    "\n"
   ]
  },
  {
   "cell_type": "code",
   "execution_count": 22,
   "metadata": {},
   "outputs": [
    {
     "name": "stdout",
     "output_type": "stream",
     "text": [
      "                  Anova\n",
      "==========================================\n",
      "             F Value Num DF  Den DF Pr > F\n",
      "------------------------------------------\n",
      "Deelnemer_ID  6.1801 2.0000 10.0000 0.0179\n",
      "==========================================\n",
      "\n"
     ]
    }
   ],
   "source": [
    "from statsmodels.stats.anova import AnovaRM\n",
    "# Conduct the repeated measures ANOVA\n",
    "print(AnovaRM(data=main_df, depvar='Ikbentevredenmetmijngecreeërderadiobericht',\n",
    "              subject='NA_index', within=['Deelnemer_ID']).fit())\n",
    "# This shows that the deelnemer_ID does have a significant effect on which score is given.\n"
   ]
  },
  {
   "cell_type": "code",
   "execution_count": 24,
   "metadata": {},
   "outputs": [
    {
     "name": "stdout",
     "output_type": "stream",
     "text": [
      "                  Anova\n",
      "==========================================\n",
      "             F Value Num DF  Den DF Pr > F\n",
      "------------------------------------------\n",
      "Deelnemer_ID  8.2353 2.0000 10.0000 0.0077\n",
      "==========================================\n",
      "\n"
     ]
    }
   ],
   "source": [
    "print(AnovaRM(data=main_df, depvar='Ikziemijzelfalsdemakervanhetradiobericht',\n",
    "              subject='NA_index', within=['Deelnemer_ID']).fit())\n",
    "# This shows that the deelnemer_ID does have a significant effect on which score is given.\n"
   ]
  },
  {
   "cell_type": "code",
   "execution_count": 25,
   "metadata": {},
   "outputs": [
    {
     "name": "stdout",
     "output_type": "stream",
     "text": [
      "                  Anova\n",
      "==========================================\n",
      "             F Value Num DF  Den DF Pr > F\n",
      "------------------------------------------\n",
      "Deelnemer_ID  6.4970 2.0000 10.0000 0.0156\n",
      "==========================================\n",
      "\n"
     ]
    }
   ],
   "source": [
    "print(AnovaRM(data=main_df, depvar='Ikhadmoeiteomdetaaksuccesvoluittevoeren',\n",
    "              subject='NA_index', within=['Deelnemer_ID']).fit())\n",
    "# This shows that the deelnemer_ID does have a significant effect on which score is given.\n"
   ]
  },
  {
   "cell_type": "code",
   "execution_count": 85,
   "metadata": {},
   "outputs": [
    {
     "name": "stdout",
     "output_type": "stream",
     "text": [
      "Deelnemer_ID\n",
      "1    15\n",
      "2    23\n",
      "3     6\n",
      "Name: Ikhadmoeiteomdetaaksuccesvoluittevoeren, dtype: int64\n",
      "    Deelnemer_ID  Ikhadmoeiteomdetaaksuccesvoluittevoeren\n",
      "0              2                                        4\n",
      "1              1                                        2\n",
      "2              3                                        1\n",
      "3              1                                        3\n",
      "4              3                                        1\n",
      "5              2                                        6\n",
      "6              3                                        1\n",
      "7              2                                        2\n",
      "8              1                                        3\n",
      "9              2                                        2\n",
      "10             1                                        2\n",
      "11             3                                        1\n",
      "12             1                                        2\n",
      "13             3                                        1\n",
      "14             2                                        7\n",
      "15             3                                        1\n",
      "16             2                                        2\n",
      "17             1                                        3\n",
      "    Deelnemer_ID  Ikhadmoeiteomdetaaksuccesvoluittevoeren\n",
      "8              1                                        3\n",
      "12             1                                        2\n",
      "10             1                                        2\n",
      "17             1                                        3\n",
      "1              1                                        2\n",
      "3              1                                        3\n",
      "5              2                                        6\n",
      "7              2                                        2\n",
      "16             2                                        2\n",
      "9              2                                        2\n",
      "14             2                                        7\n",
      "0              2                                        4\n",
      "4              3                                        1\n",
      "6              3                                        1\n",
      "2              3                                        1\n",
      "11             3                                        1\n",
      "13             3                                        1\n",
      "15             3                                        1\n"
     ]
    }
   ],
   "source": [
    "b = main_df.groupby('Deelnemer_ID')['Ikhadmoeiteomdetaaksuccesvoluittevoeren'].sum()\n",
    "\n",
    "\n",
    "a = main_df[['Deelnemer_ID', 'Ikhadmoeiteomdetaaksuccesvoluittevoeren']]\n",
    "c = a.sort_values('Deelnemer_ID')\n",
    "print(b)\n",
    "print(a)\n",
    "print(c)"
   ]
  },
  {
   "cell_type": "code",
   "execution_count": 41,
   "metadata": {},
   "outputs": [
    {
     "name": "stdout",
     "output_type": "stream",
     "text": [
      "    Deelnemer_ID  Ikziemijzelfalsdemakervanhetradiobericht\n",
      "8              1                                         5\n",
      "12             1                                         5\n",
      "10             1                                         6\n",
      "17             1                                         3\n",
      "1              1                                         6\n",
      "3              1                                         5\n",
      "5              2                                         6\n",
      "7              2                                         6\n",
      "16             2                                         6\n",
      "9              2                                         6\n",
      "14             2                                         6\n",
      "0              2                                         4\n",
      "4              3                                         7\n",
      "6              3                                         7\n",
      "2              3                                         7\n",
      "11             3                                         7\n",
      "13             3                                         7\n",
      "15             3                                         7\n"
     ]
    }
   ],
   "source": [
    "a = main_df[['Deelnemer_ID', 'Ikziemijzelfalsdemakervanhetradiobericht']]\n",
    "c = a.sort_values('Deelnemer_ID')\n",
    "print(c)"
   ]
  },
  {
   "cell_type": "code",
   "execution_count": 42,
   "metadata": {},
   "outputs": [
    {
     "name": "stdout",
     "output_type": "stream",
     "text": [
      "    Deelnemer_ID  Ikhebdetaaksneluitgevoerd\n",
      "8              1                          7\n",
      "12             1                          6\n",
      "10             1                          6\n",
      "17             1                          6\n",
      "1              1                          6\n",
      "3              1                          5\n",
      "5              2                          1\n",
      "7              2                          5\n",
      "16             2                          5\n",
      "9              2                          6\n",
      "14             2                          1\n",
      "0              2                          4\n",
      "4              3                          7\n",
      "6              3                          7\n",
      "2              3                          7\n",
      "11             3                          7\n",
      "13             3                          7\n",
      "15             3                          7\n"
     ]
    }
   ],
   "source": [
    "a = main_df[['Deelnemer_ID', 'Ikhebdetaaksneluitgevoerd']]\n",
    "c = a.sort_values('Deelnemer_ID')\n",
    "print(c)"
   ]
  },
  {
   "cell_type": "code",
   "execution_count": 90,
   "metadata": {},
   "outputs": [],
   "source": [
    "a = main_df[['Deelnemer_ID', 'condition', 'Doorbovenstaandelimitatiesishetnietmogelijkomconclusiestevertalennaarmijnechtewerkzaamheden']]\n",
    "c = a.sort_values(['Deelnemer_ID', 'condition'])\n",
    "#print(c)"
   ]
  },
  {
   "cell_type": "code",
   "execution_count": 89,
   "metadata": {},
   "outputs": [],
   "source": [
    "filter_df = main_df[main_df['Deelnemer_ID'] == 3]\n",
    "#print(filter_df)"
   ]
  },
  {
   "cell_type": "code",
   "execution_count": 87,
   "metadata": {},
   "outputs": [],
   "source": [
    "filter_df = main_df[main_df['Deelnemer_ID'] == 2].sort_values(['Deelnemer_ID', 'condition'])\n",
    "#print(filter_df)"
   ]
  },
  {
   "cell_type": "code",
   "execution_count": 88,
   "metadata": {},
   "outputs": [],
   "source": [
    "filter_df = main_df[main_df['Deelnemer_ID'] == 1].sort_values(['Deelnemer_ID', 'condition'])\n",
    "#print(filter_df)"
   ]
  },
  {
   "cell_type": "markdown",
   "metadata": {},
   "source": [
    "# screenshot for overleaf"
   ]
  },
  {
   "cell_type": "code",
   "execution_count": 92,
   "metadata": {
    "scrolled": false
   },
   "outputs": [],
   "source": [
    "filtered = main_df.drop(columns= ['duration', 'Schrijfhierjouwradio-bericht:' , 'Date submitted', 'Page 2 duration'])\n",
    "filter_df = filtered.sort_values(['condition' , 'Deelnemer_ID' ])\n",
    "#print(filter_df)\n",
    "\n",
    "#filter_df.to_html('experiment2_results.html')\n",
    "#filter_df.to_csv(\"experiment2_results_for_overleaf.csv\", index=False)"
   ]
  },
  {
   "cell_type": "markdown",
   "metadata": {},
   "source": [
    "# Inspecting the agreements between the written RMs suggested RMs and NA"
   ]
  },
  {
   "cell_type": "code",
   "execution_count": 69,
   "metadata": {},
   "outputs": [
    {
     "name": "stdout",
     "output_type": "stream",
     "text": [
      "   NA_index                                      news_articles   \n",
      "0         0  De GGD Groningen is een onderzoek begonnen naa...  \\\n",
      "1         1  Het kabinet doet nog steeds te weinig om een k...   \n",
      "2         2  Hulpdiensten en vrijwilligers hebben op Tersch...   \n",
      "3         3  Tijdens acht verschillende operaties in de Car...   \n",
      "4         4  Het aantal diefstallen van motoren, bromfietse...   \n",
      "5         8  De nieuwe Braziliaanse president Luiz Inácio L...   \n",
      "\n",
      "                                                rm_g   \n",
      "0   Medewerkers van een zorgboerderij in het Gron...  \\\n",
      "1   Er komen strengere regels voor bedrijven om t...   \n",
      "2   Vrijwilligers hebben zonder succes gezocht na...   \n",
      "3   Op de Caribische Zee is bijna 10-duizend kilo...   \n",
      "4   Er worden weer meer motoren, brommers en brom...   \n",
      "5   In zijn eerste speech als president van Brazi...   \n",
      "\n",
      "                                        suggested_rm  \n",
      "0  De GGD Groningen doet onderzoek naar mogelijke...  \n",
      "1  Het kabinet moet strenger ingrijpen om zuinige...  \n",
      "2  De zoektocht naar de 12-jarige jongen die vori...  \n",
      "3  Internationale operaties leiden tot recordvang...  \n",
      "4  Steeds meer tweewielers zijn dit jaar het doel...  \n",
      "5  De nieuwe Braziliaanse president Lula da Silva...  \n"
     ]
    }
   ],
   "source": [
    "base_df = pd.read_excel(\"exp_3_df_input3.xlsx\")\n",
    "print(base_df)"
   ]
  },
  {
   "cell_type": "code",
   "execution_count": 70,
   "metadata": {},
   "outputs": [],
   "source": [
    "merged_df = pd.merge(main_df, base_df, on='NA_index')"
   ]
  },
  {
   "cell_type": "code",
   "execution_count": 71,
   "metadata": {},
   "outputs": [
    {
     "name": "stdout",
     "output_type": "stream",
     "text": [
      "    NA_index  condition  Deelnemer_ID           Date submitted   \n",
      "0          0          2             2  2023-07-07 06:04:26.773  \\\n",
      "1          0          1             1  2023-06-30 06:33:06.020   \n",
      "2          0          3             3  2023-07-05 05:36:18.983   \n",
      "3          1          2             1  2023-06-30 07:15:43.157   \n",
      "4          1          1             3  2023-07-05 05:49:59.707   \n",
      "5          1          3             2  2023-07-07 06:58:28.423   \n",
      "6          2          2             3  2023-07-05 06:00:11.043   \n",
      "7          2          1             2  2023-07-07 07:21:42.610   \n",
      "8          2          3             1  2023-06-30 08:27:58.763   \n",
      "9          3          2             2  2023-07-07 07:32:55.183   \n",
      "10         3          1             1  2023-06-30 12:51:11.620   \n",
      "11         3          3             3  2023-07-05 06:04:45.660   \n",
      "12         4          2             1  2023-06-30 12:59:00.070   \n",
      "13         4          1             3  2023-07-05 06:11:43.263   \n",
      "14         4          3             2  2023-07-07 08:03:38.267   \n",
      "15         8          2             3  2023-07-05 06:16:34.857   \n",
      "16         8          1             2  2023-07-07 08:24:53.183   \n",
      "17         8          3             1  2023-06-30 13:02:39.550   \n",
      "\n",
      "   Page 2 duration  Ikhebdetaaksneluitgevoerd   \n",
      "0         00:27:09                          4  \\\n",
      "1         00:06:52                          6   \n",
      "2         00:02:35                          7   \n",
      "3         00:10:15                          5   \n",
      "4         00:12:28                          7   \n",
      "5         00:51:19                          1   \n",
      "6         00:08:53                          7   \n",
      "7         00:19:43                          5   \n",
      "8         00:02:53                          7   \n",
      "9         00:09:15                          6   \n",
      "10        00:05:14                          6   \n",
      "11        00:03:17                          7   \n",
      "12        00:05:36                          6   \n",
      "13        00:03:56                          7   \n",
      "14        00:28:47                          1   \n",
      "15        00:03:38                          7   \n",
      "16        00:20:04                          5   \n",
      "17        00:02:01                          6   \n",
      "\n",
      "    Ikhadmoeiteomdetaaksuccesvoluittevoeren   \n",
      "0                                         4  \\\n",
      "1                                         2   \n",
      "2                                         1   \n",
      "3                                         3   \n",
      "4                                         1   \n",
      "5                                         6   \n",
      "6                                         1   \n",
      "7                                         2   \n",
      "8                                         3   \n",
      "9                                         2   \n",
      "10                                        2   \n",
      "11                                        1   \n",
      "12                                        2   \n",
      "13                                        1   \n",
      "14                                        7   \n",
      "15                                        1   \n",
      "16                                        2   \n",
      "17                                        3   \n",
      "\n",
      "    Ikziemijzelfalsdemakervanhetradiobericht   \n",
      "0                                          4  \\\n",
      "1                                          6   \n",
      "2                                          7   \n",
      "3                                          5   \n",
      "4                                          7   \n",
      "5                                          6   \n",
      "6                                          7   \n",
      "7                                          6   \n",
      "8                                          5   \n",
      "9                                          6   \n",
      "10                                         6   \n",
      "11                                         7   \n",
      "12                                         5   \n",
      "13                                         7   \n",
      "14                                         6   \n",
      "15                                         7   \n",
      "16                                         6   \n",
      "17                                         3   \n",
      "\n",
      "    Ik ben tevreden met mijn gecreeÃ«rde radio-bericht   \n",
      "0                                                   4   \\\n",
      "1                                                   7    \n",
      "2                                                   7    \n",
      "3                                                   6    \n",
      "4                                                   7    \n",
      "5                                                   4    \n",
      "6                                                   7    \n",
      "7                                                   5    \n",
      "8                                                   2    \n",
      "9                                                   6    \n",
      "10                                                  6    \n",
      "11                                                  7    \n",
      "12                                                  5    \n",
      "13                                                  7    \n",
      "14                                                  3    \n",
      "15                                                  7    \n",
      "16                                                  5    \n",
      "17                                                  3    \n",
      "\n",
      "    Doorbovenstaandelimitatiesishetnietmogelijkomconclusiestevertalennaarmijnechtewerkzaamheden   \n",
      "0                                                   5                                            \\\n",
      "1                                                   4                                             \n",
      "2                                                   7                                             \n",
      "3                                                   4                                             \n",
      "4                                                   1                                             \n",
      "5                                                   6                                             \n",
      "6                                                   7                                             \n",
      "7                                                   5                                             \n",
      "8                                                   6                                             \n",
      "9                                                   4                                             \n",
      "10                                                  5                                             \n",
      "11                                                  7                                             \n",
      "12                                                  5                                             \n",
      "13                                                  7                                             \n",
      "14                                                  4                                             \n",
      "15                                                  7                                             \n",
      "16                                                  4                                             \n",
      "17                                                  7                                             \n",
      "\n",
      "    Ikheberopvertrouwddathetsuggestieradio-berichtfeitelijkcorrectwas   \n",
      "0                                                 3.0                  \\\n",
      "1                                                 NaN                   \n",
      "2                                                 NaN                   \n",
      "3                                                 5.0                   \n",
      "4                                                 NaN                   \n",
      "5                                                 NaN                   \n",
      "6                                                 6.0                   \n",
      "7                                                 NaN                   \n",
      "8                                                 NaN                   \n",
      "9                                                 3.0                   \n",
      "10                                                NaN                   \n",
      "11                                                NaN                   \n",
      "12                                                3.0                   \n",
      "13                                                NaN                   \n",
      "14                                                NaN                   \n",
      "15                                                4.0                   \n",
      "16                                                NaN                   \n",
      "17                                                NaN                   \n",
      "\n",
      "    Ikhebnetzoveelvertrouwenindesuggestiealsdatikhadgehadwanneerhetdooreencollegageschrevenwas   \n",
      "0                                                 2.0                                           \\\n",
      "1                                                 NaN                                            \n",
      "2                                                 5.0                                            \n",
      "3                                                 6.0                                            \n",
      "4                                                 NaN                                            \n",
      "5                                                 2.0                                            \n",
      "6                                                 4.0                                            \n",
      "7                                                 NaN                                            \n",
      "8                                                 3.0                                            \n",
      "9                                                 2.0                                            \n",
      "10                                                NaN                                            \n",
      "11                                                2.0                                            \n",
      "12                                                4.0                                            \n",
      "13                                                NaN                                            \n",
      "14                                                1.0                                            \n",
      "15                                                2.0                                            \n",
      "16                                                NaN                                            \n",
      "17                                                2.0                                            \n",
      "\n",
      "   Hetsuggestieradio-berichtheeftmijbeinvloedopeenofmeerderevandevolgendemanieren:   \n",
      "0   Positief beÃ¯nvloed, sneller inspiratie gevond...                               \\\n",
      "1                                                 NaN                                \n",
      "2   Negatief beÃ¯nvloed, de suggestie behoefde zov...                                \n",
      "3   Positief beÃ¯nvloed, sneller inspiratie gevond...                                \n",
      "4                                                 NaN                                \n",
      "5   Negatief beÃ¯nvloed, de suggestie behoefde zov...                                \n",
      "6     Neutraal, ik heb er geen aandacht aan besteedt.                                \n",
      "7                                                 NaN                                \n",
      "8   Negatief beÃ¯nvloed, mijn denkrichting werd er...                                \n",
      "9     Neutraal, ik heb er geen aandacht aan besteedt.                                \n",
      "10                                                NaN                                \n",
      "11  Negatief beÃ¯nvloed, de suggestie behoefde zov...                                \n",
      "12  Positief beÃ¯nvloed, sneller inspiratie gevond...                                \n",
      "13                                                NaN                                \n",
      "14  Negatief beÃ¯nvloed, mijn denkrichting werd er...                                \n",
      "15    Neutraal, ik heb er geen aandacht aan besteedt.                                \n",
      "16                                                NaN                                \n",
      "17  Negatief beÃ¯nvloed, mijn denkrichting werd er...                                \n",
      "\n",
      "   Hetsuggestieradio-berichthadmijmeergeholpenalshet...was   \n",
      "0                                   Een beetje langer       \\\n",
      "1                                                 NaN        \n",
      "2                                              Langer        \n",
      "3                          Neutraal (perfecte lengte)        \n",
      "4                                                 NaN        \n",
      "5                                              Langer        \n",
      "6                                         Veel langer        \n",
      "7                                                 NaN        \n",
      "8                                         Veel langer        \n",
      "9                          Neutraal (perfecte lengte)        \n",
      "10                                                NaN        \n",
      "11                                             Langer        \n",
      "12                         Neutraal (perfecte lengte)        \n",
      "13                                                NaN        \n",
      "14                                        Veel langer        \n",
      "15                                             Langer        \n",
      "16                                                NaN        \n",
      "17                                        Veel langer        \n",
      "\n",
      "    Ikstaopenomopdezemaniermijnwerkuittevoeren   \n",
      "0                                          3.0  \\\n",
      "1                                          NaN   \n",
      "2                                          2.0   \n",
      "3                                          4.0   \n",
      "4                                          NaN   \n",
      "5                                          2.0   \n",
      "6                                          2.0   \n",
      "7                                          NaN   \n",
      "8                                          1.0   \n",
      "9                                          4.0   \n",
      "10                                         NaN   \n",
      "11                                         1.0   \n",
      "12                                         2.0   \n",
      "13                                         NaN   \n",
      "14                                         4.0   \n",
      "15                                         2.0   \n",
      "16                                         NaN   \n",
      "17                                         2.0   \n",
      "\n",
      "                        Schrijfhierjouwradio-bericht:   \n",
      "0   Het lijkt flink mis op een zorgboerderij in Ho...  \\\n",
      "1   De GGD onderzoekt klachten over seksuele intim...   \n",
      "2   De GGD onderzoekt of mensen op een zorgboerder...   \n",
      "3   Het schiet niet op met de omschakeling naar ee...   \n",
      "4   Het kabinet moet meer doen om recycling aan te...   \n",
      "5   Bedrijven die milieuvervuilende grondstoffen g...   \n",
      "6   Er wordt op Terschelling niet meer gezocht naa...   \n",
      "7   Er is opnieuw de hele dag gezocht naar de jong...   \n",
      "8   De reddingsdiensten zijn gestopt met zoeken na...   \n",
      "9   Nederland heeft samen met de marine van Colomb...   \n",
      "10  De Nederlandse marine heeft samen met Colombia...   \n",
      "11  In de Caribische Zee is voor ongeveer 300 milj...   \n",
      "12  Er worden steeds meer bromfietsen, snorfietsen...   \n",
      "13  Voor de kust van Aruba is ruim vijf ton cocaïn...   \n",
      "14  Motoren, brommers en bromfietsen worden weer v...   \n",
      "15  Ik ben er voor alle Brazilianen. Dat zegt de n...   \n",
      "16  In zijn eerste speech als president van Brazil...   \n",
      "17  De nieuwe Braziliaanse president Lula da Silva...   \n",
      "\n",
      "                                        news_articles   \n",
      "0   De GGD Groningen is een onderzoek begonnen naa...  \\\n",
      "1   De GGD Groningen is een onderzoek begonnen naa...   \n",
      "2   De GGD Groningen is een onderzoek begonnen naa...   \n",
      "3   Het kabinet doet nog steeds te weinig om een k...   \n",
      "4   Het kabinet doet nog steeds te weinig om een k...   \n",
      "5   Het kabinet doet nog steeds te weinig om een k...   \n",
      "6   Hulpdiensten en vrijwilligers hebben op Tersch...   \n",
      "7   Hulpdiensten en vrijwilligers hebben op Tersch...   \n",
      "8   Hulpdiensten en vrijwilligers hebben op Tersch...   \n",
      "9   Tijdens acht verschillende operaties in de Car...   \n",
      "10  Tijdens acht verschillende operaties in de Car...   \n",
      "11  Tijdens acht verschillende operaties in de Car...   \n",
      "12  Het aantal diefstallen van motoren, bromfietse...   \n",
      "13  Het aantal diefstallen van motoren, bromfietse...   \n",
      "14  Het aantal diefstallen van motoren, bromfietse...   \n",
      "15  De nieuwe Braziliaanse president Luiz Inácio L...   \n",
      "16  De nieuwe Braziliaanse president Luiz Inácio L...   \n",
      "17  De nieuwe Braziliaanse president Luiz Inácio L...   \n",
      "\n",
      "                                                 rm_g   \n",
      "0    Medewerkers van een zorgboerderij in het Gron...  \\\n",
      "1    Medewerkers van een zorgboerderij in het Gron...   \n",
      "2    Medewerkers van een zorgboerderij in het Gron...   \n",
      "3    Er komen strengere regels voor bedrijven om t...   \n",
      "4    Er komen strengere regels voor bedrijven om t...   \n",
      "5    Er komen strengere regels voor bedrijven om t...   \n",
      "6    Vrijwilligers hebben zonder succes gezocht na...   \n",
      "7    Vrijwilligers hebben zonder succes gezocht na...   \n",
      "8    Vrijwilligers hebben zonder succes gezocht na...   \n",
      "9    Op de Caribische Zee is bijna 10-duizend kilo...   \n",
      "10   Op de Caribische Zee is bijna 10-duizend kilo...   \n",
      "11   Op de Caribische Zee is bijna 10-duizend kilo...   \n",
      "12   Er worden weer meer motoren, brommers en brom...   \n",
      "13   Er worden weer meer motoren, brommers en brom...   \n",
      "14   Er worden weer meer motoren, brommers en brom...   \n",
      "15   In zijn eerste speech als president van Brazi...   \n",
      "16   In zijn eerste speech als president van Brazi...   \n",
      "17   In zijn eerste speech als president van Brazi...   \n",
      "\n",
      "                                         suggested_rm  \n",
      "0   De GGD Groningen doet onderzoek naar mogelijke...  \n",
      "1   De GGD Groningen doet onderzoek naar mogelijke...  \n",
      "2   De GGD Groningen doet onderzoek naar mogelijke...  \n",
      "3   Het kabinet moet strenger ingrijpen om zuinige...  \n",
      "4   Het kabinet moet strenger ingrijpen om zuinige...  \n",
      "5   Het kabinet moet strenger ingrijpen om zuinige...  \n",
      "6   De zoektocht naar de 12-jarige jongen die vori...  \n",
      "7   De zoektocht naar de 12-jarige jongen die vori...  \n",
      "8   De zoektocht naar de 12-jarige jongen die vori...  \n",
      "9   Internationale operaties leiden tot recordvang...  \n",
      "10  Internationale operaties leiden tot recordvang...  \n",
      "11  Internationale operaties leiden tot recordvang...  \n",
      "12  Steeds meer tweewielers zijn dit jaar het doel...  \n",
      "13  Steeds meer tweewielers zijn dit jaar het doel...  \n",
      "14  Steeds meer tweewielers zijn dit jaar het doel...  \n",
      "15  De nieuwe Braziliaanse president Lula da Silva...  \n",
      "16  De nieuwe Braziliaanse president Lula da Silva...  \n",
      "17  De nieuwe Braziliaanse president Lula da Silva...  \n"
     ]
    }
   ],
   "source": [
    "print(merged_df)  \n"
   ]
  },
  {
   "cell_type": "code",
   "execution_count": 72,
   "metadata": {},
   "outputs": [],
   "source": [
    "df_rms = merged_df[['NA_index', 'condition', 'Deelnemer_ID', 'Schrijfhierjouwradio-bericht:', 'news_articles', 'rm_g', 'suggested_rm']]"
   ]
  },
  {
   "cell_type": "code",
   "execution_count": 73,
   "metadata": {},
   "outputs": [
    {
     "data": {
      "text/html": [
       "<div>\n",
       "<style scoped>\n",
       "    .dataframe tbody tr th:only-of-type {\n",
       "        vertical-align: middle;\n",
       "    }\n",
       "\n",
       "    .dataframe tbody tr th {\n",
       "        vertical-align: top;\n",
       "    }\n",
       "\n",
       "    .dataframe thead th {\n",
       "        text-align: right;\n",
       "    }\n",
       "</style>\n",
       "<table border=\"1\" class=\"dataframe\">\n",
       "  <thead>\n",
       "    <tr style=\"text-align: right;\">\n",
       "      <th></th>\n",
       "      <th>NA_index</th>\n",
       "      <th>condition</th>\n",
       "      <th>Deelnemer_ID</th>\n",
       "      <th>Schrijfhierjouwradio-bericht:</th>\n",
       "      <th>news_articles</th>\n",
       "      <th>rm_g</th>\n",
       "      <th>suggested_rm</th>\n",
       "    </tr>\n",
       "  </thead>\n",
       "  <tbody>\n",
       "    <tr>\n",
       "      <th>0</th>\n",
       "      <td>0</td>\n",
       "      <td>2</td>\n",
       "      <td>2</td>\n",
       "      <td>Het lijkt flink mis op een zorgboerderij in Ho...</td>\n",
       "      <td>De GGD Groningen is een onderzoek begonnen naa...</td>\n",
       "      <td>Medewerkers van een zorgboerderij in het Gron...</td>\n",
       "      <td>De GGD Groningen doet onderzoek naar mogelijke...</td>\n",
       "    </tr>\n",
       "    <tr>\n",
       "      <th>1</th>\n",
       "      <td>0</td>\n",
       "      <td>1</td>\n",
       "      <td>1</td>\n",
       "      <td>De GGD onderzoekt klachten over seksuele intim...</td>\n",
       "      <td>De GGD Groningen is een onderzoek begonnen naa...</td>\n",
       "      <td>Medewerkers van een zorgboerderij in het Gron...</td>\n",
       "      <td>De GGD Groningen doet onderzoek naar mogelijke...</td>\n",
       "    </tr>\n",
       "    <tr>\n",
       "      <th>2</th>\n",
       "      <td>0</td>\n",
       "      <td>3</td>\n",
       "      <td>3</td>\n",
       "      <td>De GGD onderzoekt of mensen op een zorgboerder...</td>\n",
       "      <td>De GGD Groningen is een onderzoek begonnen naa...</td>\n",
       "      <td>Medewerkers van een zorgboerderij in het Gron...</td>\n",
       "      <td>De GGD Groningen doet onderzoek naar mogelijke...</td>\n",
       "    </tr>\n",
       "    <tr>\n",
       "      <th>3</th>\n",
       "      <td>1</td>\n",
       "      <td>2</td>\n",
       "      <td>1</td>\n",
       "      <td>Het schiet niet op met de omschakeling naar ee...</td>\n",
       "      <td>Het kabinet doet nog steeds te weinig om een k...</td>\n",
       "      <td>Er komen strengere regels voor bedrijven om t...</td>\n",
       "      <td>Het kabinet moet strenger ingrijpen om zuinige...</td>\n",
       "    </tr>\n",
       "    <tr>\n",
       "      <th>4</th>\n",
       "      <td>1</td>\n",
       "      <td>1</td>\n",
       "      <td>3</td>\n",
       "      <td>Het kabinet moet meer doen om recycling aan te...</td>\n",
       "      <td>Het kabinet doet nog steeds te weinig om een k...</td>\n",
       "      <td>Er komen strengere regels voor bedrijven om t...</td>\n",
       "      <td>Het kabinet moet strenger ingrijpen om zuinige...</td>\n",
       "    </tr>\n",
       "    <tr>\n",
       "      <th>5</th>\n",
       "      <td>1</td>\n",
       "      <td>3</td>\n",
       "      <td>2</td>\n",
       "      <td>Bedrijven die milieuvervuilende grondstoffen g...</td>\n",
       "      <td>Het kabinet doet nog steeds te weinig om een k...</td>\n",
       "      <td>Er komen strengere regels voor bedrijven om t...</td>\n",
       "      <td>Het kabinet moet strenger ingrijpen om zuinige...</td>\n",
       "    </tr>\n",
       "    <tr>\n",
       "      <th>6</th>\n",
       "      <td>2</td>\n",
       "      <td>2</td>\n",
       "      <td>3</td>\n",
       "      <td>Er wordt op Terschelling niet meer gezocht naa...</td>\n",
       "      <td>Hulpdiensten en vrijwilligers hebben op Tersch...</td>\n",
       "      <td>Vrijwilligers hebben zonder succes gezocht na...</td>\n",
       "      <td>De zoektocht naar de 12-jarige jongen die vori...</td>\n",
       "    </tr>\n",
       "    <tr>\n",
       "      <th>7</th>\n",
       "      <td>2</td>\n",
       "      <td>1</td>\n",
       "      <td>2</td>\n",
       "      <td>Er is opnieuw de hele dag gezocht naar de jong...</td>\n",
       "      <td>Hulpdiensten en vrijwilligers hebben op Tersch...</td>\n",
       "      <td>Vrijwilligers hebben zonder succes gezocht na...</td>\n",
       "      <td>De zoektocht naar de 12-jarige jongen die vori...</td>\n",
       "    </tr>\n",
       "    <tr>\n",
       "      <th>8</th>\n",
       "      <td>2</td>\n",
       "      <td>3</td>\n",
       "      <td>1</td>\n",
       "      <td>De reddingsdiensten zijn gestopt met zoeken na...</td>\n",
       "      <td>Hulpdiensten en vrijwilligers hebben op Tersch...</td>\n",
       "      <td>Vrijwilligers hebben zonder succes gezocht na...</td>\n",
       "      <td>De zoektocht naar de 12-jarige jongen die vori...</td>\n",
       "    </tr>\n",
       "    <tr>\n",
       "      <th>9</th>\n",
       "      <td>3</td>\n",
       "      <td>2</td>\n",
       "      <td>2</td>\n",
       "      <td>Nederland heeft samen met de marine van Colomb...</td>\n",
       "      <td>Tijdens acht verschillende operaties in de Car...</td>\n",
       "      <td>Op de Caribische Zee is bijna 10-duizend kilo...</td>\n",
       "      <td>Internationale operaties leiden tot recordvang...</td>\n",
       "    </tr>\n",
       "    <tr>\n",
       "      <th>10</th>\n",
       "      <td>3</td>\n",
       "      <td>1</td>\n",
       "      <td>1</td>\n",
       "      <td>De Nederlandse marine heeft samen met Colombia...</td>\n",
       "      <td>Tijdens acht verschillende operaties in de Car...</td>\n",
       "      <td>Op de Caribische Zee is bijna 10-duizend kilo...</td>\n",
       "      <td>Internationale operaties leiden tot recordvang...</td>\n",
       "    </tr>\n",
       "    <tr>\n",
       "      <th>11</th>\n",
       "      <td>3</td>\n",
       "      <td>3</td>\n",
       "      <td>3</td>\n",
       "      <td>In de Caribische Zee is voor ongeveer 300 milj...</td>\n",
       "      <td>Tijdens acht verschillende operaties in de Car...</td>\n",
       "      <td>Op de Caribische Zee is bijna 10-duizend kilo...</td>\n",
       "      <td>Internationale operaties leiden tot recordvang...</td>\n",
       "    </tr>\n",
       "    <tr>\n",
       "      <th>12</th>\n",
       "      <td>4</td>\n",
       "      <td>2</td>\n",
       "      <td>1</td>\n",
       "      <td>Er worden steeds meer bromfietsen, snorfietsen...</td>\n",
       "      <td>Het aantal diefstallen van motoren, bromfietse...</td>\n",
       "      <td>Er worden weer meer motoren, brommers en brom...</td>\n",
       "      <td>Steeds meer tweewielers zijn dit jaar het doel...</td>\n",
       "    </tr>\n",
       "    <tr>\n",
       "      <th>13</th>\n",
       "      <td>4</td>\n",
       "      <td>1</td>\n",
       "      <td>3</td>\n",
       "      <td>Voor de kust van Aruba is ruim vijf ton cocaïn...</td>\n",
       "      <td>Het aantal diefstallen van motoren, bromfietse...</td>\n",
       "      <td>Er worden weer meer motoren, brommers en brom...</td>\n",
       "      <td>Steeds meer tweewielers zijn dit jaar het doel...</td>\n",
       "    </tr>\n",
       "    <tr>\n",
       "      <th>14</th>\n",
       "      <td>4</td>\n",
       "      <td>3</td>\n",
       "      <td>2</td>\n",
       "      <td>Motoren, brommers en bromfietsen worden weer v...</td>\n",
       "      <td>Het aantal diefstallen van motoren, bromfietse...</td>\n",
       "      <td>Er worden weer meer motoren, brommers en brom...</td>\n",
       "      <td>Steeds meer tweewielers zijn dit jaar het doel...</td>\n",
       "    </tr>\n",
       "    <tr>\n",
       "      <th>15</th>\n",
       "      <td>8</td>\n",
       "      <td>2</td>\n",
       "      <td>3</td>\n",
       "      <td>Ik ben er voor alle Brazilianen. Dat zegt de n...</td>\n",
       "      <td>De nieuwe Braziliaanse president Luiz Inácio L...</td>\n",
       "      <td>In zijn eerste speech als president van Brazi...</td>\n",
       "      <td>De nieuwe Braziliaanse president Lula da Silva...</td>\n",
       "    </tr>\n",
       "    <tr>\n",
       "      <th>16</th>\n",
       "      <td>8</td>\n",
       "      <td>1</td>\n",
       "      <td>2</td>\n",
       "      <td>In zijn eerste speech als president van Brazil...</td>\n",
       "      <td>De nieuwe Braziliaanse president Luiz Inácio L...</td>\n",
       "      <td>In zijn eerste speech als president van Brazi...</td>\n",
       "      <td>De nieuwe Braziliaanse president Lula da Silva...</td>\n",
       "    </tr>\n",
       "    <tr>\n",
       "      <th>17</th>\n",
       "      <td>8</td>\n",
       "      <td>3</td>\n",
       "      <td>1</td>\n",
       "      <td>De nieuwe Braziliaanse president Lula da Silva...</td>\n",
       "      <td>De nieuwe Braziliaanse president Luiz Inácio L...</td>\n",
       "      <td>In zijn eerste speech als president van Brazi...</td>\n",
       "      <td>De nieuwe Braziliaanse president Lula da Silva...</td>\n",
       "    </tr>\n",
       "  </tbody>\n",
       "</table>\n",
       "</div>"
      ],
      "text/plain": [
       "    NA_index  condition  Deelnemer_ID   \n",
       "0          0          2             2  \\\n",
       "1          0          1             1   \n",
       "2          0          3             3   \n",
       "3          1          2             1   \n",
       "4          1          1             3   \n",
       "5          1          3             2   \n",
       "6          2          2             3   \n",
       "7          2          1             2   \n",
       "8          2          3             1   \n",
       "9          3          2             2   \n",
       "10         3          1             1   \n",
       "11         3          3             3   \n",
       "12         4          2             1   \n",
       "13         4          1             3   \n",
       "14         4          3             2   \n",
       "15         8          2             3   \n",
       "16         8          1             2   \n",
       "17         8          3             1   \n",
       "\n",
       "                        Schrijfhierjouwradio-bericht:   \n",
       "0   Het lijkt flink mis op een zorgboerderij in Ho...  \\\n",
       "1   De GGD onderzoekt klachten over seksuele intim...   \n",
       "2   De GGD onderzoekt of mensen op een zorgboerder...   \n",
       "3   Het schiet niet op met de omschakeling naar ee...   \n",
       "4   Het kabinet moet meer doen om recycling aan te...   \n",
       "5   Bedrijven die milieuvervuilende grondstoffen g...   \n",
       "6   Er wordt op Terschelling niet meer gezocht naa...   \n",
       "7   Er is opnieuw de hele dag gezocht naar de jong...   \n",
       "8   De reddingsdiensten zijn gestopt met zoeken na...   \n",
       "9   Nederland heeft samen met de marine van Colomb...   \n",
       "10  De Nederlandse marine heeft samen met Colombia...   \n",
       "11  In de Caribische Zee is voor ongeveer 300 milj...   \n",
       "12  Er worden steeds meer bromfietsen, snorfietsen...   \n",
       "13  Voor de kust van Aruba is ruim vijf ton cocaïn...   \n",
       "14  Motoren, brommers en bromfietsen worden weer v...   \n",
       "15  Ik ben er voor alle Brazilianen. Dat zegt de n...   \n",
       "16  In zijn eerste speech als president van Brazil...   \n",
       "17  De nieuwe Braziliaanse president Lula da Silva...   \n",
       "\n",
       "                                        news_articles   \n",
       "0   De GGD Groningen is een onderzoek begonnen naa...  \\\n",
       "1   De GGD Groningen is een onderzoek begonnen naa...   \n",
       "2   De GGD Groningen is een onderzoek begonnen naa...   \n",
       "3   Het kabinet doet nog steeds te weinig om een k...   \n",
       "4   Het kabinet doet nog steeds te weinig om een k...   \n",
       "5   Het kabinet doet nog steeds te weinig om een k...   \n",
       "6   Hulpdiensten en vrijwilligers hebben op Tersch...   \n",
       "7   Hulpdiensten en vrijwilligers hebben op Tersch...   \n",
       "8   Hulpdiensten en vrijwilligers hebben op Tersch...   \n",
       "9   Tijdens acht verschillende operaties in de Car...   \n",
       "10  Tijdens acht verschillende operaties in de Car...   \n",
       "11  Tijdens acht verschillende operaties in de Car...   \n",
       "12  Het aantal diefstallen van motoren, bromfietse...   \n",
       "13  Het aantal diefstallen van motoren, bromfietse...   \n",
       "14  Het aantal diefstallen van motoren, bromfietse...   \n",
       "15  De nieuwe Braziliaanse president Luiz Inácio L...   \n",
       "16  De nieuwe Braziliaanse president Luiz Inácio L...   \n",
       "17  De nieuwe Braziliaanse president Luiz Inácio L...   \n",
       "\n",
       "                                                 rm_g   \n",
       "0    Medewerkers van een zorgboerderij in het Gron...  \\\n",
       "1    Medewerkers van een zorgboerderij in het Gron...   \n",
       "2    Medewerkers van een zorgboerderij in het Gron...   \n",
       "3    Er komen strengere regels voor bedrijven om t...   \n",
       "4    Er komen strengere regels voor bedrijven om t...   \n",
       "5    Er komen strengere regels voor bedrijven om t...   \n",
       "6    Vrijwilligers hebben zonder succes gezocht na...   \n",
       "7    Vrijwilligers hebben zonder succes gezocht na...   \n",
       "8    Vrijwilligers hebben zonder succes gezocht na...   \n",
       "9    Op de Caribische Zee is bijna 10-duizend kilo...   \n",
       "10   Op de Caribische Zee is bijna 10-duizend kilo...   \n",
       "11   Op de Caribische Zee is bijna 10-duizend kilo...   \n",
       "12   Er worden weer meer motoren, brommers en brom...   \n",
       "13   Er worden weer meer motoren, brommers en brom...   \n",
       "14   Er worden weer meer motoren, brommers en brom...   \n",
       "15   In zijn eerste speech als president van Brazi...   \n",
       "16   In zijn eerste speech als president van Brazi...   \n",
       "17   In zijn eerste speech als president van Brazi...   \n",
       "\n",
       "                                         suggested_rm  \n",
       "0   De GGD Groningen doet onderzoek naar mogelijke...  \n",
       "1   De GGD Groningen doet onderzoek naar mogelijke...  \n",
       "2   De GGD Groningen doet onderzoek naar mogelijke...  \n",
       "3   Het kabinet moet strenger ingrijpen om zuinige...  \n",
       "4   Het kabinet moet strenger ingrijpen om zuinige...  \n",
       "5   Het kabinet moet strenger ingrijpen om zuinige...  \n",
       "6   De zoektocht naar de 12-jarige jongen die vori...  \n",
       "7   De zoektocht naar de 12-jarige jongen die vori...  \n",
       "8   De zoektocht naar de 12-jarige jongen die vori...  \n",
       "9   Internationale operaties leiden tot recordvang...  \n",
       "10  Internationale operaties leiden tot recordvang...  \n",
       "11  Internationale operaties leiden tot recordvang...  \n",
       "12  Steeds meer tweewielers zijn dit jaar het doel...  \n",
       "13  Steeds meer tweewielers zijn dit jaar het doel...  \n",
       "14  Steeds meer tweewielers zijn dit jaar het doel...  \n",
       "15  De nieuwe Braziliaanse president Lula da Silva...  \n",
       "16  De nieuwe Braziliaanse president Lula da Silva...  \n",
       "17  De nieuwe Braziliaanse president Lula da Silva...  "
      ]
     },
     "execution_count": 73,
     "metadata": {},
     "output_type": "execute_result"
    }
   ],
   "source": [
    "df_rms"
   ]
  },
  {
   "cell_type": "code",
   "execution_count": 164,
   "metadata": {},
   "outputs": [],
   "source": [
    "#pip install bert_score"
   ]
  },
  {
   "cell_type": "code",
   "execution_count": 54,
   "metadata": {},
   "outputs": [],
   "source": [
    "from bert_score import BERTScorer\n",
    "bert_scorer = BERTScorer('bert-base-multilingual-cased')  \n",
    "\n"
   ]
  },
  {
   "cell_type": "code",
   "execution_count": 74,
   "metadata": {},
   "outputs": [],
   "source": [
    "ls_nrs = [1, 2, 3]\n",
    "\n",
    "ls_sug = []\n",
    "ls_gold = []\n",
    "ls_expert = [] # expert written\n",
    "ls_1_sug = []\n",
    "ls_2_sug = []\n",
    "#ls_3\n",
    "\n",
    "\n",
    "for i in ls_nrs:\n",
    "    #print(i)\n",
    "    filter_df = df_rms[df_rms['condition'] == i]\n",
    "    ls_sug = filter_df['suggested_rm'].tolist()\n",
    "    ls_gold = filter_df['rm_g'].tolist()\n",
    "    ls_expert  = filter_df['Schrijfhierjouwradio-bericht:'].tolist()\n",
    "    #print(ls_sug)\n",
    "    if i == 1:\n",
    "        ctc_score_cond_1= bert_scorer.score(ls_sug, ls_expert)[2]\n",
    "    elif i == 2:\n",
    "        ctc_score_cond_2 = bert_scorer.score(ls_sug, ls_expert)[2]\n",
    "        \n",
    "    else:\n",
    "        ctc_score_cond_3 = bert_scorer.score(ls_sug, ls_expert)[2]\n",
    "        \n",
    "        "
   ]
  },
  {
   "cell_type": "code",
   "execution_count": 79,
   "metadata": {},
   "outputs": [
    {
     "name": "stdout",
     "output_type": "stream",
     "text": [
      "cond1 tensor([0.8272, 0.7137, 0.7453, 0.7507, 0.6408, 0.7046])\n",
      "0.7483000000000001\n",
      "cond2 tensor([0.8154, 0.8132, 0.7484, 0.7452, 0.7517, 0.7338])\n",
      "cond3 tensor([0.8564, 0.6887, 0.7627, 0.7528, 0.7122, 0.8080])\n"
     ]
    }
   ],
   "source": [
    "print( 'cond1', ctc_score_cond_1) # the 0.6408 is of the wrong news article, so remove this one\n",
    "mean_cond1 = np.mean([0.8272, 0.7137, 0.7453, 0.7507, 0.7046])\n",
    "print(mean_cond1)\n",
    "print( 'cond2', ctc_score_cond_2)\n",
    "print( 'cond3', ctc_score_cond_3)"
   ]
  },
  {
   "cell_type": "code",
   "execution_count": 80,
   "metadata": {},
   "outputs": [
    {
     "name": "stdout",
     "output_type": "stream",
     "text": [
      "tensor(0.7680)\n",
      "tensor(0.7635)\n"
     ]
    }
   ],
   "source": [
    "import torch\n",
    "# Overeenkomst tussen de suggestie en het uiteindelijke RM\n",
    "\n",
    "mean_cond2 = torch.mean(ctc_score_cond_2)\n",
    "mean_cond3 = torch.mean(ctc_score_cond_3)\n",
    "\n",
    "\n",
    "print(mean_cond2) #tensor(0.7720)\n",
    "print(mean_cond3) #tensor(0.7667)"
   ]
  },
  {
   "cell_type": "code",
   "execution_count": null,
   "metadata": {},
   "outputs": [],
   "source": []
  },
  {
   "cell_type": "code",
   "execution_count": 81,
   "metadata": {},
   "outputs": [],
   "source": [
    "ls_nrs = [1, 2, 3]\n",
    "\n",
    "ls_sug = []\n",
    "ls_gold = []\n",
    "ls_expert = [] # expert written\n",
    "ls_news = []\n",
    "#ls_3\n",
    "\n",
    "\n",
    "for i in ls_nrs:\n",
    "    #print(i)\n",
    "    filter_df = df_rms[df_rms['condition'] == i]\n",
    "    ls_sug = filter_df['suggested_rm'].tolist()\n",
    "    ls_gold = filter_df['rm_g'].tolist()\n",
    "    ls_news = filter_df['news_articles'].tolist()\n",
    "    ls_expert  = filter_df['Schrijfhierjouwradio-bericht:'].tolist()\n",
    "    #print(ls_sug)\n",
    "    if i == 1:\n",
    "        ctc_score_cond_1= bert_scorer.score(ls_gold, ls_expert)[2]\n",
    "    elif i == 2:\n",
    "        ctc_score_cond_2 = bert_scorer.score(ls_gold, ls_expert)[2]\n",
    "        \n",
    "    else:\n",
    "        ctc_score_cond_3 = bert_scorer.score(ls_gold, ls_expert)[2]\n",
    "        \n",
    "        "
   ]
  },
  {
   "cell_type": "code",
   "execution_count": 82,
   "metadata": {},
   "outputs": [
    {
     "name": "stdout",
     "output_type": "stream",
     "text": [
      "cond1 tensor([0.7799, 0.7071, 0.7542, 0.7461, 0.6494, 0.8064])\n",
      "cond2 tensor([0.7592, 0.7048, 0.8020, 0.7800, 0.7564, 0.7321])\n",
      "cond3 tensor([0.7642, 0.6805, 0.7976, 0.7508, 0.7722, 0.7067])\n",
      "tensor(0.7558)\n",
      "tensor(0.7453)\n"
     ]
    }
   ],
   "source": [
    "print( 'cond1', ctc_score_cond_1)\n",
    "print( 'cond2', ctc_score_cond_2)\n",
    "print( 'cond3', ctc_score_cond_3)\n",
    "\n",
    "import torch\n",
    "#mean_cond1 = torch.mean(ctc_score_cond_1)\n",
    "mean_cond2 = torch.mean(ctc_score_cond_2)\n",
    "mean_cond3 = torch.mean(ctc_score_cond_3)\n",
    "\n",
    "#print(mean_cond1)\n",
    "print(mean_cond2)\n",
    "print(mean_cond3)\n",
    "\n",
    "# old values:\n",
    "#tensor(0.7446)\n",
    "#tensor(0.7596)\n",
    "#tensor(0.7480)"
   ]
  },
  {
   "cell_type": "code",
   "execution_count": null,
   "metadata": {},
   "outputs": [],
   "source": []
  },
  {
   "cell_type": "code",
   "execution_count": 83,
   "metadata": {},
   "outputs": [
    {
     "name": "stdout",
     "output_type": "stream",
     "text": [
      "cond1 tensor([0.7513, 0.6850, 0.6958, 0.7319, 0.6209, 0.6868])\n",
      "cond2 tensor([0.7171, 0.7049, 0.6886, 0.7304, 0.7066, 0.6735])\n",
      "cond3 tensor([0.7385, 0.6613, 0.6946, 0.7155, 0.6920, 0.6891])\n",
      "0.7483000000000001\n",
      "tensor(0.7035)\n",
      "tensor(0.6985)\n"
     ]
    }
   ],
   "source": [
    "ls_nrs = [1, 2, 3]\n",
    "\n",
    "ls_sug = []\n",
    "ls_gold = []\n",
    "ls_expert = [] # expert written\n",
    "ls_news = []\n",
    "#ls_3\n",
    "\n",
    "\n",
    "for i in ls_nrs:\n",
    "    #print(i)\n",
    "    filter_df = df_rms[df_rms['condition'] == i]\n",
    "    ls_sug = filter_df['suggested_rm'].tolist()\n",
    "    ls_gold = filter_df['rm_g'].tolist()\n",
    "    ls_news = filter_df['news_articles'].tolist()\n",
    "    ls_expert  = filter_df['Schrijfhierjouwradio-bericht:'].tolist()\n",
    "    #print(ls_sug)\n",
    "    if i == 1:\n",
    "        ctc_score_cond_1= bert_scorer.score(ls_news, ls_expert)[2]\n",
    "    elif i == 2:\n",
    "        ctc_score_cond_2 = bert_scorer.score(ls_news, ls_expert)[2]\n",
    "        \n",
    "    else:\n",
    "        ctc_score_cond_3 = bert_scorer.score(ls_news, ls_expert)[2]\n",
    "\n",
    "        \n",
    "print( 'cond1', ctc_score_cond_1)\n",
    "print( 'cond2', ctc_score_cond_2)\n",
    "print( 'cond3', ctc_score_cond_3)\n",
    "\n",
    "\n",
    "#mean_cond1 = torch.mean(ctc_score_cond_1)\n",
    "mean_cond2 = torch.mean(ctc_score_cond_2)\n",
    "mean_cond3 = torch.mean(ctc_score_cond_3)\n",
    "\n",
    "print(mean_cond1)\n",
    "print(mean_cond2)\n",
    "print(mean_cond3)\n",
    "\n",
    "# old values\n",
    "# tensor(0.6996)\n",
    "# tensor(0.7064)\n",
    "# tensor(0.7016)"
   ]
  },
  {
   "cell_type": "code",
   "execution_count": 84,
   "metadata": {},
   "outputs": [
    {
     "name": "stdout",
     "output_type": "stream",
     "text": [
      "0.71016\n"
     ]
    }
   ],
   "source": [
    "mean_cond1 = np.mean([0.7513, 0.6850, 0.6958, 0.7319, 0.6868])\n",
    "print(mean_cond1)"
   ]
  },
  {
   "cell_type": "markdown",
   "metadata": {},
   "source": [
    "# Incorporate this conclusion:\n"
   ]
  },
  {
   "cell_type": "code",
   "execution_count": null,
   "metadata": {},
   "outputs": [],
   "source": [
    "# No difference in the overeenkomst with the news article. but there is a difference in the overeenkomst between the suggested RM\n",
    "\n",
    "\n",
    "# In contrast to conclusion in experiment 1, it is also not a good idea to finetune on the bertscore (referenced on NA).\n",
    "# This because exp 2 shows that the RM suggestions (while having a higher score bertscore) than the final RMs,\n",
    "# are not perceived to tell the story of the news article better."
   ]
  },
  {
   "cell_type": "code",
   "execution_count": 187,
   "metadata": {},
   "outputs": [
    {
     "name": "stdout",
     "output_type": "stream",
     "text": [
      "cond1 tensor([0.7697, 0.7286, 0.7165, 0.7982, 0.7469, 0.7034])\n",
      "cond2 tensor([0.7697, 0.7286, 0.7165, 0.7982, 0.7469, 0.7034])\n",
      "cond3 tensor([0.7697, 0.7286, 0.7165, 0.7982, 0.7469, 0.7034])\n",
      "tensor(0.7439)\n",
      "tensor(0.7439)\n",
      "tensor(0.7439)\n"
     ]
    }
   ],
   "source": [
    "ls_nrs = [1, 2, 3]\n",
    "\n",
    "ls_sug = []\n",
    "ls_gold = []\n",
    "ls_expert = [] # expert written\n",
    "ls_news = []\n",
    "#ls_3\n",
    "\n",
    "\n",
    "for i in ls_nrs:\n",
    "    #print(i)\n",
    "    filter_df = df_rms[df_rms['condition'] == i]\n",
    "    ls_sug = filter_df['suggested_rm'].tolist()\n",
    "    ls_gold = filter_df['rm_g'].tolist()\n",
    "    ls_news = filter_df['news_articles'].tolist()\n",
    "    ls_expert  = filter_df['Schrijfhierjouwradio-bericht:'].tolist()\n",
    "    #print(ls_sug)\n",
    "    if i == 1:\n",
    "        ctc_score_cond_1= bert_scorer.score(ls_news, ls_sug)[2]\n",
    "    elif i == 2:\n",
    "        ctc_score_cond_2 = bert_scorer.score(ls_news, ls_sug)[2]\n",
    "        \n",
    "    else:\n",
    "        ctc_score_cond_3 = bert_scorer.score(ls_news, ls_sug)[2]\n",
    "\n",
    "        \n",
    "print( 'cond1', ctc_score_cond_1)\n",
    "print( 'cond2', ctc_score_cond_2)\n",
    "print( 'cond3', ctc_score_cond_3)\n",
    "\n",
    "\n",
    "mean_cond1 = torch.mean(ctc_score_cond_1)\n",
    "mean_cond2 = torch.mean(ctc_score_cond_2)\n",
    "mean_cond3 = torch.mean(ctc_score_cond_3)\n",
    "\n",
    "print(mean_cond1)\n",
    "print(mean_cond2)\n",
    "print(mean_cond3)"
   ]
  },
  {
   "cell_type": "markdown",
   "metadata": {},
   "source": [
    "# Mean bertscore_NA per condition"
   ]
  },
  {
   "cell_type": "code",
   "execution_count": 13,
   "metadata": {},
   "outputs": [
    {
     "name": "stdout",
     "output_type": "stream",
     "text": [
      "cond1 tensor([0.7513, 0.6908, 0.6958, 0.7494, 0.6209, 0.6894])\n",
      "cond2 tensor([0.7171, 0.7049, 0.6886, 0.7427, 0.7066, 0.6789])\n",
      "cond3 tensor([0.7376, 0.6613, 0.6946, 0.7337, 0.6920, 0.6904])\n",
      "tensor(0.6996)\n",
      "tensor(0.7064)\n",
      "tensor(0.7016)\n"
     ]
    }
   ],
   "source": [
    "import torch\n",
    "ls_nrs = [1, 2, 3]\n",
    "\n",
    "ls_sug = []\n",
    "ls_gold = []\n",
    "ls_expert = [] # expert written\n",
    "ls_news = []\n",
    "#ls_3\n",
    "\n",
    "\n",
    "for i in ls_nrs:\n",
    "    #print(i)\n",
    "    filter_df = df_rms[df_rms['condition'] == i]\n",
    "    ls_sug = filter_df['suggested_rm'].tolist()\n",
    "    ls_gold = filter_df['rm_g'].tolist()\n",
    "    ls_news = filter_df['news_articles'].tolist()\n",
    "    ls_expert  = filter_df['Schrijfhierjouwradio-bericht:'].tolist()\n",
    "    #print(ls_sug)\n",
    "    if i == 1:\n",
    "        ctc_score_cond_1= bert_scorer.score(ls_news, ls_expert)[2]\n",
    "    elif i == 2:\n",
    "        ctc_score_cond_2 = bert_scorer.score(ls_news, ls_expert)[2]\n",
    "        \n",
    "    else:\n",
    "        ctc_score_cond_3 = bert_scorer.score(ls_news, ls_expert)[2]\n",
    "\n",
    "        \n",
    "print( 'cond1', ctc_score_cond_1)\n",
    "print( 'cond2', ctc_score_cond_2)\n",
    "print( 'cond3', ctc_score_cond_3)\n",
    "\n",
    "\n",
    "mean_cond1 = torch.mean(ctc_score_cond_1)\n",
    "mean_cond2 = torch.mean(ctc_score_cond_2)\n",
    "mean_cond3 = torch.mean(ctc_score_cond_3)\n",
    "\n",
    "print(mean_cond1)\n",
    "print(mean_cond2)\n",
    "print(mean_cond3)"
   ]
  },
  {
   "cell_type": "markdown",
   "metadata": {},
   "source": [
    "# inspecting recognition of wrong rm "
   ]
  },
  {
   "cell_type": "code",
   "execution_count": 14,
   "metadata": {},
   "outputs": [],
   "source": [
    "text1_wrong = \" Op het WK Atletiek heeft Anouk Vetter zilver gewonnen op de zevenkamp. En ze verbrak ook nog even het Nederlandse record. Het is de vierde medaille voor Vetter op een groot toernooi. Vorig jaar zomer pakte ze ook zilver op de Olympische Spelen. Het goud op de zevenkamp was voor de Belgische Thiam. \"\n",
    "text2_good = \"Nederland gaat met een sterke estafetteploeg in actie op het WK Atletiek in Eugene. Liemarvin Bonevacia, Lieke Klaver, Tony van Diepen en Eveline Saalberg vormen het team dat in de series van de 4x400 meter gemengd zal strijden. Voor de finale mag één atleet worden gewisseld, waarbij Femke Bol waarschijnlijk de plaats van Saalberg zal innemen. Bol is de snelste 400 meter atlete van Nederland en Bonevacia is de snelste Nederlander op de 400 meter. Van Diepen komt uit op de 800 meter.\"\n",
    "news_article = 'Nederland brengt in de series van de 4x400 meter gemengd een sterke estafetteploeg in de baan op het WK atletiek in het Amerikaanse Eugene. Liemarvin Bonevacia, Lieke Klaver, Tony van Diepen en Eveline Saalberg komen vanaf 20.45 uur in actie op Hayward Field.  Bonevacia en Klaver maakten vorige zomer samen met Femke Bol en Ramsey Angela deel uit van het estafetteteam dat op de Olympische Spelen van Tokio als vierde eindigde in de finale van de 4x400 meter gemengd, een betrekkelijk nieuw onderdeel in de atletiek.  Er mag voor de finale één atleet worden gewisseld. Het ligt voor de hand dat Femke Bol dan de plaats inneemt van Saalberg. Bol komt op dit WK individueel uit op de 400 meter horden, maar is ook op de 400 meter veruit de snelste Nederlandse atlete.  Bonevacia is de snelste Nederlander op de 400 meter. Hij werd onlangs in Apeldoorn voor de zesde keer Nederlands kampioen. Van Diepen doet in Eugene mee op de 800 meter. De twee zaten ook in de ploeg van de 4x400 meter mannen die op de Spelen in Tokio stuntte met zilver. '\n",
    "lsw = [text1_wrong]\n",
    "lsg = [text2_good]\n",
    "lsne = [news_article]"
   ]
  },
  {
   "cell_type": "code",
   "execution_count": 15,
   "metadata": {},
   "outputs": [],
   "source": [
    "ctc_score_wrong = bert_scorer.score(lsw , lsne)[2]\n",
    "ctc_score_good = bert_scorer.score(lsg, lsne)[2]"
   ]
  },
  {
   "cell_type": "code",
   "execution_count": 17,
   "metadata": {},
   "outputs": [
    {
     "name": "stdout",
     "output_type": "stream",
     "text": [
      "tensor([0.6745])\n",
      "tensor([0.8341])\n"
     ]
    }
   ],
   "source": [
    "print(ctc_score_wrong)\n",
    "print(ctc_score_good)"
   ]
  },
  {
   "cell_type": "markdown",
   "metadata": {},
   "source": [
    "## Here all the ANOVA RMs are ran"
   ]
  },
  {
   "cell_type": "code",
   "execution_count": 17,
   "metadata": {},
   "outputs": [
    {
     "data": {
      "text/plain": [
       "0     5\n",
       "1     4\n",
       "2     7\n",
       "3     4\n",
       "4     1\n",
       "5     6\n",
       "6     7\n",
       "7     5\n",
       "8     6\n",
       "9     4\n",
       "10    5\n",
       "11    7\n",
       "12    5\n",
       "13    7\n",
       "14    4\n",
       "15    7\n",
       "16    4\n",
       "17    7\n",
       "Name: Doorbovenstaandelimitatiesishetnietmogelijkomconclusiestevertalennaarmijnechtewerkzaamheden, dtype: int64"
      ]
     },
     "execution_count": 17,
     "metadata": {},
     "output_type": "execute_result"
    }
   ],
   "source": [
    "main_df['Doorbovenstaandelimitatiesishetnietmogelijkomconclusiestevertalennaarmijnechtewerkzaamheden']"
   ]
  },
  {
   "cell_type": "code",
   "execution_count": 16,
   "metadata": {},
   "outputs": [
    {
     "name": "stdout",
     "output_type": "stream",
     "text": [
      "                Anova\n",
      "======================================\n",
      "          F Value Num DF Den DF Pr > F\n",
      "--------------------------------------\n",
      "condition  2.5750 2.0000 4.0000 0.1911\n",
      "======================================\n",
      "\n"
     ]
    }
   ],
   "source": [
    "print(AnovaRM(data=main_df, depvar='Ikbentevredenmetmijngecreeërderadiobericht',\n",
    "              subject='Deelnemer_ID', within=['condition'], aggregate_func= 'mean').fit())\n",
    "\n",
    "\n"
   ]
  },
  {
   "cell_type": "code",
   "execution_count": null,
   "metadata": {},
   "outputs": [],
   "source": [
    "print(AnovaRM(data=main_df, depvar='Ikbentevredenmetmijngecreeërderadiobericht',\n",
    "              subject='NA_index', within=['Deelnemer_ID']).fit())\n",
    "\n"
   ]
  },
  {
   "cell_type": "code",
   "execution_count": 22,
   "metadata": {},
   "outputs": [
    {
     "name": "stdout",
     "output_type": "stream",
     "text": [
      "                Anova\n",
      "======================================\n",
      "          F Value Num DF Den DF Pr > F\n",
      "--------------------------------------\n",
      "condition  6.2414 2.0000 4.0000 0.0589\n",
      "======================================\n",
      "\n"
     ]
    }
   ],
   "source": [
    "# the Deelnemer_B ruines the results, see what the significance is when it is left out.\n",
    "\n",
    "subset_A_C = main_df[main_df['Deelnemer_ID'] != 2]\n",
    "#print(subset_A_C)\n",
    "print(AnovaRM(data=subset_A_C, depvar='duration',\n",
    "              subject='NA_index', within=['condition']).fit())"
   ]
  },
  {
   "cell_type": "code",
   "execution_count": 14,
   "metadata": {},
   "outputs": [
    {
     "name": "stdout",
     "output_type": "stream",
     "text": [
      "    NA_index  condition  Deelnemer_ID           Date submitted  \\\n",
      "1          0          2             1  2023-06-30 06:33:06.020   \n",
      "2          0          3             3  2023-07-05 05:36:18.983   \n",
      "3          1          1             1  2023-06-30 07:15:43.157   \n",
      "4          1          2             3  2023-07-05 05:49:59.707   \n",
      "6          2          1             3  2023-07-05 06:00:11.043   \n",
      "8          2          3             1  2023-06-30 08:27:58.763   \n",
      "10         3          2             1  2023-06-30 12:51:11.620   \n",
      "11         3          3             3  2023-07-05 06:04:45.660   \n",
      "12         4          1             1  2023-06-30 12:59:00.070   \n",
      "13         4          2             3  2023-07-05 06:11:43.263   \n",
      "15         8          1             3  2023-07-05 06:16:34.857   \n",
      "17         8          3             1  2023-06-30 13:02:39.550   \n",
      "\n",
      "   Page 2 duration  Ikhebdetaaksneluitgevoerd  \\\n",
      "1         00:06:52                          6   \n",
      "2         00:02:35                          7   \n",
      "3         00:10:15                          5   \n",
      "4         00:12:28                          7   \n",
      "6         00:08:53                          7   \n",
      "8         00:02:53                          7   \n",
      "10        00:05:14                          6   \n",
      "11        00:03:17                          7   \n",
      "12        00:05:36                          6   \n",
      "13        00:03:56                          7   \n",
      "15        00:03:38                          7   \n",
      "17        00:02:01                          6   \n",
      "\n",
      "    Ikhadmoeiteomdetaaksuccesvoluittevoeren  \\\n",
      "1                                         2   \n",
      "2                                         1   \n",
      "3                                         3   \n",
      "4                                         1   \n",
      "6                                         1   \n",
      "8                                         3   \n",
      "10                                        2   \n",
      "11                                        1   \n",
      "12                                        2   \n",
      "13                                        1   \n",
      "15                                        1   \n",
      "17                                        3   \n",
      "\n",
      "    Ikziemijzelfalsdemakervanhetradiobericht  \\\n",
      "1                                          6   \n",
      "2                                          7   \n",
      "3                                          5   \n",
      "4                                          7   \n",
      "6                                          7   \n",
      "8                                          5   \n",
      "10                                         6   \n",
      "11                                         7   \n",
      "12                                         5   \n",
      "13                                         7   \n",
      "15                                         7   \n",
      "17                                         3   \n",
      "\n",
      "    Ikbentevredenmetmijngecreeërderadiobericht  \\\n",
      "1                                            7   \n",
      "2                                            7   \n",
      "3                                            6   \n",
      "4                                            7   \n",
      "6                                            7   \n",
      "8                                            2   \n",
      "10                                           6   \n",
      "11                                           7   \n",
      "12                                           5   \n",
      "13                                           7   \n",
      "15                                           7   \n",
      "17                                           3   \n",
      "\n",
      "    Doorbovenstaandelimitatiesishetnietmogelijkomconclusiestevertalennaarmijnechtewerkzaamheden  \\\n",
      "1                                                   4                                             \n",
      "2                                                   7                                             \n",
      "3                                                   4                                             \n",
      "4                                                   1                                             \n",
      "6                                                   7                                             \n",
      "8                                                   6                                             \n",
      "10                                                  5                                             \n",
      "11                                                  7                                             \n",
      "12                                                  5                                             \n",
      "13                                                  7                                             \n",
      "15                                                  7                                             \n",
      "17                                                  7                                             \n",
      "\n",
      "    Ikheberopvertrouwddathetsuggestieradio-berichtfeitelijkcorrectwas  \\\n",
      "1                                                 NaN                   \n",
      "2                                                 NaN                   \n",
      "3                                                 5.0                   \n",
      "4                                                 NaN                   \n",
      "6                                                 6.0                   \n",
      "8                                                 NaN                   \n",
      "10                                                NaN                   \n",
      "11                                                NaN                   \n",
      "12                                                3.0                   \n",
      "13                                                NaN                   \n",
      "15                                                4.0                   \n",
      "17                                                NaN                   \n",
      "\n",
      "    Ikhebnetzoveelvertrouwenindesuggestiealsdatikhadgehadwanneerhetdooreencollegageschrevenwas  \\\n",
      "1                                                 NaN                                            \n",
      "2                                                 5.0                                            \n",
      "3                                                 6.0                                            \n",
      "4                                                 NaN                                            \n",
      "6                                                 4.0                                            \n",
      "8                                                 3.0                                            \n",
      "10                                                NaN                                            \n",
      "11                                                2.0                                            \n",
      "12                                                4.0                                            \n",
      "13                                                NaN                                            \n",
      "15                                                2.0                                            \n",
      "17                                                2.0                                            \n",
      "\n",
      "   Hetsuggestieradio-berichtheeftmijbeinvloedopeenofmeerderevandevolgendemanieren:  \\\n",
      "1                                                 NaN                                \n",
      "2   Negatief beïnvloed, de suggestie behoefde zove...                                \n",
      "3   Positief beïnvloed, sneller inspiratie gevonde...                                \n",
      "4                                                 NaN                                \n",
      "6     Neutraal, ik heb er geen aandacht aan besteedt.                                \n",
      "8   Negatief beïnvloed, mijn denkrichting werd erd...                                \n",
      "10                                                NaN                                \n",
      "11  Negatief beïnvloed, de suggestie behoefde zove...                                \n",
      "12  Positief beïnvloed, sneller inspiratie gevonde...                                \n",
      "13                                                NaN                                \n",
      "15    Neutraal, ik heb er geen aandacht aan besteedt.                                \n",
      "17  Negatief beïnvloed, mijn denkrichting werd erd...                                \n",
      "\n",
      "   Hetsuggestieradio-berichthadmijmeergeholpenalshet...was  \\\n",
      "1                                                 NaN        \n",
      "2                                              Langer        \n",
      "3                          Neutraal (perfecte lengte)        \n",
      "4                                                 NaN        \n",
      "6                                         Veel langer        \n",
      "8                                         Veel langer        \n",
      "10                                                NaN        \n",
      "11                                             Langer        \n",
      "12                         Neutraal (perfecte lengte)        \n",
      "13                                                NaN        \n",
      "15                                             Langer        \n",
      "17                                        Veel langer        \n",
      "\n",
      "    Ikstaopenomopdezemaniermijnwerkuittevoeren  \\\n",
      "1                                          NaN   \n",
      "2                                          2.0   \n",
      "3                                          4.0   \n",
      "4                                          NaN   \n",
      "6                                          2.0   \n",
      "8                                          1.0   \n",
      "10                                         NaN   \n",
      "11                                         1.0   \n",
      "12                                         2.0   \n",
      "13                                         NaN   \n",
      "15                                         2.0   \n",
      "17                                         2.0   \n",
      "\n",
      "                        Schrijfhierjouwradio-bericht:  duration  \n",
      "1   De GGD onderzoekt klachten over seksuele intim...       412  \n",
      "2   De GGD onderzoekt of mensen op een zorgboerder...       155  \n",
      "3   Het schiet niet op met de omschakeling naar ee...       615  \n",
      "4   Het kabinet moet meer doen om recycling aan te...       748  \n",
      "6   Er wordt op Terschelling niet meer gezocht naa...       533  \n",
      "8   De reddingsdiensten zijn gestopt met zoeken na...       173  \n",
      "10  De Nederlandse marine heeft samen met Colombia...       314  \n",
      "11  In de Caribische Zee is voor ongeveer 300 milj...       197  \n",
      "12  Er worden steeds meer bromfietsen, snorfietsen...       336  \n",
      "13  Voor de kust van Aruba is ruim vijf ton cocaïn...       236  \n",
      "15  Ik ben er voor alle Brazilianen. Dat zegt de n...       218  \n",
      "17  De nieuwe Braziliaanse president Lula da Silva...       121  \n",
      "                Anova\n",
      "======================================\n",
      "          F Value Num DF Den DF Pr > F\n",
      "--------------------------------------\n",
      "condition  6.2414 2.0000 4.0000 0.0589\n",
      "======================================\n",
      "\n"
     ]
    }
   ],
   "source": [
    "# the Deelnemer_B ruines the results, see what the significance is when it is left out.\n",
    "\n",
    "subset_A_C = main_df[main_df['Deelnemer_ID'] != 2]\n",
    "print(subset_A_C)\n",
    "print(AnovaRM(data=subset_A_C, depvar='duration',\n",
    "              subject='NA_index', within=['condition']).fit())"
   ]
  },
  {
   "cell_type": "code",
   "execution_count": 23,
   "metadata": {},
   "outputs": [
    {
     "name": "stdout",
     "output_type": "stream",
     "text": [
      "                  Anova\n",
      "=========================================\n",
      "             F Value Num DF Den DF Pr > F\n",
      "-----------------------------------------\n",
      "Deelnemer_ID  0.0459 1.0000 5.0000 0.8388\n",
      "=========================================\n",
      "\n"
     ]
    }
   ],
   "source": [
    "print(AnovaRM(data=subset_A_C, depvar='duration',\n",
    "              subject='NA_index', within=['Deelnemer_ID']).fit())"
   ]
  },
  {
   "cell_type": "code",
   "execution_count": 24,
   "metadata": {},
   "outputs": [
    {
     "name": "stdout",
     "output_type": "stream",
     "text": [
      "                 Anova\n",
      "=======================================\n",
      "          F Value Num DF  Den DF Pr > F\n",
      "---------------------------------------\n",
      "condition  0.5362 2.0000 10.0000 0.6009\n",
      "=======================================\n",
      "\n"
     ]
    }
   ],
   "source": [
    "print(AnovaRM(data=main_df, depvar='Ikhebdetaaksneluitgevoerd',\n",
    "              subject='NA_index', within=['condition']).fit())\n",
    "\n",
    "# I think when doing this, I ignore to account for similarities of each participant."
   ]
  },
  {
   "cell_type": "code",
   "execution_count": 26,
   "metadata": {},
   "outputs": [
    {
     "name": "stdout",
     "output_type": "stream",
     "text": [
      "                 Anova\n",
      "=======================================\n",
      "          F Value Num DF  Den DF Pr > F\n",
      "---------------------------------------\n",
      "condition  1.6899 2.0000 10.0000 0.2332\n",
      "=======================================\n",
      "\n"
     ]
    }
   ],
   "source": [
    "print(AnovaRM(data=main_df, depvar='Ikhadmoeiteomdetaaksuccesvoluittevoeren',\n",
    "              subject='NA_index', within=['condition']).fit())"
   ]
  },
  {
   "cell_type": "code",
   "execution_count": 25,
   "metadata": {},
   "outputs": [
    {
     "name": "stdout",
     "output_type": "stream",
     "text": [
      "                 Anova\n",
      "=======================================\n",
      "          F Value Num DF  Den DF Pr > F\n",
      "---------------------------------------\n",
      "condition  0.4878 2.0000 10.0000 0.6279\n",
      "=======================================\n",
      "\n"
     ]
    }
   ],
   "source": [
    "print(AnovaRM(data=main_df, depvar='Ikziemijzelfalsdemakervanhetradiobericht',\n",
    "              subject='NA_index', within=['condition']).fit())"
   ]
  },
  {
   "cell_type": "code",
   "execution_count": null,
   "metadata": {},
   "outputs": [],
   "source": [
    "print(AnovaRM(data=main_df, depvar='Ikziemijzelfalsdemakervanhetradiobericht',\n",
    "              subject='NA_index', within=['condition']).fit())"
   ]
  },
  {
   "cell_type": "markdown",
   "metadata": {},
   "source": [
    "## What happens if I double the data by copying it "
   ]
  },
  {
   "cell_type": "code",
   "execution_count": 27,
   "metadata": {},
   "outputs": [],
   "source": [
    "b = main_df.copy()\n",
    "f = b.append(b, ignore_index=True)\n",
    "\n",
    "large_ls = []\n",
    "for i in main_df['Deelnemer_ID']:\n",
    "    large_ls.append(i)\n",
    "small_ls = [5,4,6,4,6,5,6,5,4,5,4,6,4,6,5,6,5,4]\n",
    "large_ls.extend(small_ls)\n",
    "f['Deelnemer_ID2'] = large_ls"
   ]
  },
  {
   "cell_type": "code",
   "execution_count": 28,
   "metadata": {},
   "outputs": [
    {
     "ename": "ValueError",
     "evalue": "The data set contains more than one observation per subject and cell. Either aggregate the data manually, or pass the `aggregate_func` parameter.",
     "output_type": "error",
     "traceback": [
      "\u001b[1;31m---------------------------------------------------------------------------\u001b[0m",
      "\u001b[1;31mValueError\u001b[0m                                Traceback (most recent call last)",
      "\u001b[1;32m<ipython-input-28-8919d7d38b25>\u001b[0m in \u001b[0;36m<module>\u001b[1;34m\u001b[0m\n\u001b[0;32m      1\u001b[0m print(AnovaRM(data=f, depvar='Ikziemijzelfalsdemakervanhetradiobericht',\n\u001b[1;32m----> 2\u001b[1;33m               subject='NA_index', within=['condition']).fit())\n\u001b[0m",
      "\u001b[1;32m~\\Anaconda3\\lib\\site-packages\\statsmodels\\stats\\anova.py\u001b[0m in \u001b[0;36m__init__\u001b[1;34m(self, data, depvar, subject, within, between, aggregate_func)\u001b[0m\n\u001b[0;32m    501\u001b[0m                        \u001b[1;34m'subject and cell. Either aggregate the data manually, '\u001b[0m\u001b[1;33m\u001b[0m\u001b[1;33m\u001b[0m\u001b[0m\n\u001b[0;32m    502\u001b[0m                        'or pass the `aggregate_func` parameter.')\n\u001b[1;32m--> 503\u001b[1;33m                 \u001b[1;32mraise\u001b[0m \u001b[0mValueError\u001b[0m\u001b[1;33m(\u001b[0m\u001b[0mmsg\u001b[0m\u001b[1;33m)\u001b[0m\u001b[1;33m\u001b[0m\u001b[1;33m\u001b[0m\u001b[0m\n\u001b[0m\u001b[0;32m    504\u001b[0m \u001b[1;33m\u001b[0m\u001b[0m\n\u001b[0;32m    505\u001b[0m         \u001b[0mself\u001b[0m\u001b[1;33m.\u001b[0m\u001b[0m_check_data_balanced\u001b[0m\u001b[1;33m(\u001b[0m\u001b[1;33m)\u001b[0m\u001b[1;33m\u001b[0m\u001b[1;33m\u001b[0m\u001b[0m\n",
      "\u001b[1;31mValueError\u001b[0m: The data set contains more than one observation per subject and cell. Either aggregate the data manually, or pass the `aggregate_func` parameter."
     ]
    }
   ],
   "source": [
    "print(AnovaRM(data=f, depvar='Ikziemijzelfalsdemakervanhetradiobericht',\n",
    "              subject='NA_index', within=['condition']).fit())"
   ]
  },
  {
   "cell_type": "code",
   "execution_count": 29,
   "metadata": {},
   "outputs": [],
   "source": [
    "# So this is not a good idea to do, would need to double the number of news articles "
   ]
  },
  {
   "cell_type": "code",
   "execution_count": null,
   "metadata": {},
   "outputs": [],
   "source": []
  },
  {
   "cell_type": "markdown",
   "metadata": {},
   "source": [
    "## Comparing the suggested radio-message with the final created radio-message using BERTScore."
   ]
  },
  {
   "cell_type": "code",
   "execution_count": 7,
   "metadata": {},
   "outputs": [
    {
     "name": "stderr",
     "output_type": "stream",
     "text": [
      "C:\\Users\\20183274\\Anaconda3\\lib\\site-packages\\ipykernel_launcher.py:21: SettingWithCopyWarning: \n",
      "A value is trying to be set on a copy of a slice from a DataFrame.\n",
      "Try using .loc[row_indexer,col_indexer] = value instead\n",
      "\n",
      "See the caveats in the documentation: https://pandas.pydata.org/pandas-docs/stable/user_guide/indexing.html#returning-a-view-versus-a-copy\n"
     ]
    }
   ],
   "source": [
    "subset_for_bert = main_df[[ \"NA_index\", \"condition\", \"Schrijfhierjouwradio-bericht:\"]]\n",
    "\n",
    "suggestions_ls = [\"De GGD Groningen doet onderzoek naar mogelijke misstanden op een zorgboerderij in Holwierde. Volgens RTV Noord zijn er signalen van seksuele intimidatie en een angstcultuur. Medewerkers voelen zich onveilig door continu cameratoezicht. Een vrouwelijke werknemer kreeg seksspeeltjes als kerstpakket. De eigenaar ontkent.\",\n",
    "                 \"De GGD Groningen doet onderzoek naar mogelijke misstanden op een zorgboerderij in Holwierde. Volgens RTV Noord zijn er signalen van seksuele intimidatie en een angstcultuur. Medewerkers voelen zich onveilig door continu cameratoezicht. Een vrouwelijke werknemer kreeg seksspeeltjes als kerstpakket. De eigenaar ontkent.\",\n",
    "                 \"De GGD Groningen doet onderzoek naar mogelijke misstanden op een zorgboerderij in Holwierde. Volgens RTV Noord zijn er signalen van seksuele intimidatie en een angstcultuur. Medewerkers voelen zich onveilig door continu cameratoezicht. Een vrouwelijke werknemer kreeg seksspeeltjes als kerstpakket. De eigenaar ontkent.\",\n",
    "                 \"Het kabinet moet strenger ingrijpen om zuiniger om te gaan met grondstoffen. Dat stelt het Planbureau voor de Leefomgeving in een rapport. Volgens onderzoeker Frank Dietz schiet de overgang naar een kringloopeconomie tekort en zijn verplichtende maatregelen nodig. Het PBL adviseert bijvoorbeeld een verplicht aandeel hergebruikte materialen in producten en een belasting op fossiele brandstoffen.\",\n",
    "                 \"Het kabinet moet strenger ingrijpen om zuiniger om te gaan met grondstoffen. Dat stelt het Planbureau voor de Leefomgeving in een rapport. Volgens onderzoeker Frank Dietz schiet de overgang naar een kringloopeconomie tekort en zijn verplichtende maatregelen nodig. Het PBL adviseert bijvoorbeeld een verplicht aandeel hergebruikte materialen in producten en een belasting op fossiele brandstoffen.\",\n",
    "                 \"Het kabinet moet strenger ingrijpen om zuiniger om te gaan met grondstoffen. Dat stelt het Planbureau voor de Leefomgeving in een rapport. Volgens onderzoeker Frank Dietz schiet de overgang naar een kringloopeconomie tekort en zijn verplichtende maatregelen nodig. Het PBL adviseert bijvoorbeeld een verplicht aandeel hergebruikte materialen in producten en een belasting op fossiele brandstoffen.\",\n",
    "                 \"De zoektocht naar de 12-jarige jongen die vorige maand vermist raakte na een aanvaring tussen een snelboot en watertaxi op Terschelling is gestaakt. Gisteren spoelde wel het lichaam van een 49-jarige man aan, een van de slachtoffers van het ongeval. Ondanks uitgebreide zoekacties van hulpdiensten en vrijwilligers bleef de jongen spoorloos.\",\n",
    "                 \"De zoektocht naar de 12-jarige jongen die vorige maand vermist raakte na een aanvaring tussen een snelboot en watertaxi op Terschelling is gestaakt. Gisteren spoelde wel het lichaam van een 49-jarige man aan, een van de slachtoffers van het ongeval. Ondanks uitgebreide zoekacties van hulpdiensten en vrijwilligers bleef de jongen spoorloos.\",\n",
    "                 \"De zoektocht naar de 12-jarige jongen die vorige maand vermist raakte na een aanvaring tussen een snelboot en watertaxi op Terschelling is gestaakt. Gisteren spoelde wel het lichaam van een 49-jarige man aan, een van de slachtoffers van het ongeval. Ondanks uitgebreide zoekacties van hulpdiensten en vrijwilligers bleef de jongen spoorloos.\",\n",
    "                 \"Internationale operaties leiden tot recordvangst coca ne. Autoriteiten onderschepten deze week bijna 10 ton coca ne in de Caribische Zee. De drugs hadden een straatwaarde van 327 miljoen dollar en waren bestemd voor de VS en Europa. Een deel van de lading dobberde voor de kust van Aruba. Vijftien verdachten zijn gearresteerd, maar aan welke landen zij zijn overgedragen is onduidelijk. Door samenwerking tussen onder meer Colombia, de VS en Nederland werd dit jaar al 109 ton coca ne onderschept.\",\n",
    "                 \"Internationale operaties leiden tot recordvangst coca ne. Autoriteiten onderschepten deze week bijna 10 ton coca ne in de Caribische Zee. De drugs hadden een straatwaarde van 327 miljoen dollar en waren bestemd voor de VS en Europa. Een deel van de lading dobberde voor de kust van Aruba. Vijftien verdachten zijn gearresteerd, maar aan welke landen zij zijn overgedragen is onduidelijk. Door samenwerking tussen onder meer Colombia, de VS en Nederland werd dit jaar al 109 ton coca ne onderschept.\",\n",
    "                 \"Internationale operaties leiden tot recordvangst coca ne. Autoriteiten onderschepten deze week bijna 10 ton coca ne in de Caribische Zee. De drugs hadden een straatwaarde van 327 miljoen dollar en waren bestemd voor de VS en Europa. Een deel van de lading dobberde voor de kust van Aruba. Vijftien verdachten zijn gearresteerd, maar aan welke landen zij zijn overgedragen is onduidelijk. Door samenwerking tussen onder meer Colombia, de VS en Nederland werd dit jaar al 109 ton coca ne onderschept.\",\n",
    "                 \"Steeds meer tweewielers zijn dit jaar het doelwit van dieven. In de eerste 7 maanden van 2022 zijn ruim een derde meer bromfietsen, snorfietsen en motoren gestolen vergeleken met dezelfde periode vorig jaar, meldt verzekeraars Verbond. Vooral het aantal motordiefstallen steeg fors, met 34 procent. Volgens expert Bouwman kan de populariteit van tweewielers in steden, evenals de hoge brandstofprijzen, een rol spelen bij deze stijging.\",\n",
    "                 \"Steeds meer tweewielers zijn dit jaar het doelwit van dieven. In de eerste 7 maanden van 2022 zijn ruim een derde meer bromfietsen, snorfietsen en motoren gestolen vergeleken met dezelfde periode vorig jaar, meldt verzekeraars Verbond. Vooral het aantal motordiefstallen steeg fors, met 34 procent. Volgens expert Bouwman kan de populariteit van tweewielers in steden, evenals de hoge brandstofprijzen, een rol spelen bij deze stijging.\",\n",
    "                 \"Steeds meer tweewielers zijn dit jaar het doelwit van dieven. In de eerste 7 maanden van 2022 zijn ruim een derde meer bromfietsen, snorfietsen en motoren gestolen vergeleken met dezelfde periode vorig jaar, meldt verzekeraars Verbond. Vooral het aantal motordiefstallen steeg fors, met 34 procent. Volgens expert Bouwman kan de populariteit van tweewielers in steden, evenals de hoge brandstofprijzen, een rol spelen bij deze stijging.\",\n",
    "                 \"De nieuwe Braziliaanse president Lula da Silva heeft beloofd te regeren voor alle Brazilianen. Hij dreigde zijn voorganger te vervolgen vanwege diens aanpak van de coronapandemie, die volgens Lula da Silva heeft geleid tot 680.000 doden, volkerenmoord noemde hij het.\",\n",
    "                 \"De nieuwe Braziliaanse president Lula da Silva heeft beloofd te regeren voor alle Brazilianen. Hij dreigde zijn voorganger te vervolgen vanwege diens aanpak van de coronapandemie, die volgens Lula da Silva heeft geleid tot 680.000 doden, volkerenmoord noemde hij het.\",\n",
    "                 \"De nieuwe Braziliaanse president Lula da Silva heeft beloofd te regeren voor alle Brazilianen. Hij dreigde zijn voorganger te vervolgen vanwege diens aanpak van de coronapandemie, die volgens Lula da Silva heeft geleid tot 680.000 doden, volkerenmoord noemde hij het.\"]\n",
    "subset_for_bert['suggestion_radio_message'] = suggestions_ls"
   ]
  },
  {
   "cell_type": "code",
   "execution_count": 11,
   "metadata": {},
   "outputs": [],
   "source": [
    "ls_geschreven_onlyna = []\n",
    "ls_geschreven_nasgrm = []\n",
    "ls_geschreven_onlysgrm = []\n",
    "ls_suggestie_onlyna = []\n",
    "ls_suggestie_nasgrm = []\n",
    "ls_suggestie_onlysgrm = []\n",
    "for i, row in subset_for_bert.iterrows():\n",
    "    if row['condition'] == 'Only NA':\n",
    "        geschreven_rm_onlyna = row['Schrijfhierjouwradio-bericht:']\n",
    "        suggestie_rm_onlyna = row['suggestion_radio_message']\n",
    "        \n",
    "        ls_geschreven_onlyna.append(geschreven_rm_onlyna)\n",
    "        ls_suggestie_onlyna.append(suggestie_rm_onlyna)\n",
    "       \n",
    "    elif row['condition'] == 'NASGRM':\n",
    "        geschreven_rm_nasgrm = row['Schrijfhierjouwradio-bericht:']\n",
    "        suggestie_rm_nasgrm = row['suggestion_radio_message']\n",
    "        \n",
    "        ls_geschreven_nasgrm.append(geschreven_rm_nasgrm)\n",
    "        ls_suggestie_nasgrm.append(suggestie_rm_nasgrm)\n",
    "    else:\n",
    "        geschreven_rm_onlysgrm = row['Schrijfhierjouwradio-bericht:']\n",
    "        suggestie_rm_onlysgrm = row['suggestion_radio_message']\n",
    "        \n",
    "        ls_geschreven_onlysgrm.append(geschreven_rm_onlysgrm)\n",
    "        ls_suggestie_onlysgrm.append(suggestie_rm_onlysgrm)\n",
    "    "
   ]
  },
  {
   "cell_type": "code",
   "execution_count": 12,
   "metadata": {},
   "outputs": [
    {
     "name": "stderr",
     "output_type": "stream",
     "text": [
      "Some weights of the model checkpoint at bert-base-multilingual-cased were not used when initializing BertModel: ['cls.predictions.transform.LayerNorm.weight', 'cls.seq_relationship.bias', 'cls.predictions.bias', 'cls.seq_relationship.weight', 'cls.predictions.transform.dense.bias', 'cls.predictions.transform.dense.weight', 'cls.predictions.decoder.weight', 'cls.predictions.transform.LayerNorm.bias']\n",
      "- This IS expected if you are initializing BertModel from the checkpoint of a model trained on another task or with another architecture (e.g. initializing a BertForSequenceClassification model from a BertForPreTraining model).\n",
      "- This IS NOT expected if you are initializing BertModel from the checkpoint of a model that you expect to be exactly identical (initializing a BertForSequenceClassification model from a BertForSequenceClassification model).\n"
     ]
    }
   ],
   "source": [
    "\n",
    "from bert_score import BERTScorer\n",
    "bert_scorer = BERTScorer('bert-base-multilingual-cased')  "
   ]
  },
  {
   "cell_type": "code",
   "execution_count": 13,
   "metadata": {},
   "outputs": [],
   "source": [
    "ctc_score_onlyna = bert_scorer.score(ls_geschreven_onlyna, ls_suggestie_onlyna)[2] \n",
    "ctc_score_nasgrm = bert_scorer.score(ls_geschreven_nasgrm, ls_suggestie_nasgrm)[2]\n",
    "ctc_score_onlysgrm = bert_scorer.score(ls_geschreven_onlysgrm, ls_suggestie_onlysgrm)[2]\n"
   ]
  },
  {
   "cell_type": "code",
   "execution_count": 20,
   "metadata": {},
   "outputs": [
    {
     "name": "stdout",
     "output_type": "stream",
     "text": [
      "tensor([0.8272, 0.7094, 0.7453, 0.7653, 0.6408, 0.7125])\n",
      "tensor([0.8154, 0.8132, 0.7484, 0.7514, 0.7517, 0.7423])\n",
      "tensor([0.8554, 0.6887, 0.7627, 0.7676, 0.7122, 0.8054])\n"
     ]
    }
   ],
   "source": [
    "print(ctc_score_onlyna)\n",
    "\n",
    "print(ctc_score_nasgrm)\n",
    "print(ctc_score_onlysgrm)"
   ]
  },
  {
   "cell_type": "code",
   "execution_count": 21,
   "metadata": {},
   "outputs": [],
   "source": [
    "ls_ctc_score_onlyna = [0.8272, 0.7094, 0.7453, 0.7653, 0.6408, 0.7125]\n",
    "ls_ctc_score_nasgrm = [0.8154, 0.8132, 0.7484, 0.7514, 0.7517, 0.7423]\n",
    "ls_ctc_score_onlysgrm = [0.8554, 0.6887, 0.7627, 0.7676, 0.7122, 0.8054]"
   ]
  },
  {
   "cell_type": "code",
   "execution_count": 27,
   "metadata": {},
   "outputs": [
    {
     "name": "stdout",
     "output_type": "stream",
     "text": [
      "0.7334166666666667\n",
      "0.7704\n",
      "0.7653333333333333\n"
     ]
    }
   ],
   "source": [
    "from statistics import mean\n",
    "print(mean(ls_ctc_score_onlyna))\n",
    "print(mean(ls_ctc_score_nasgrm))\n",
    "print(mean(ls_ctc_score_onlysgrm))\n",
    "\n",
    "# old values:\n",
    "#\n",
    "#\n",
    "#0.7334166666666667\n",
    "#0.7704\n",
    "#0.7653333333333333"
   ]
  },
  {
   "cell_type": "markdown",
   "metadata": {},
   "source": [
    "## Interpretatie suggestie had meer geholpen als het langer was. Kijken of er verschil tussen de mean lengte en de antwoorden op de vraag zit.\n",
    "\n"
   ]
  },
  {
   "cell_type": "code",
   "execution_count": null,
   "metadata": {},
   "outputs": [],
   "source": [
    "\n"
   ]
  },
  {
   "cell_type": "code",
   "execution_count": 43,
   "metadata": {},
   "outputs": [
    {
     "name": "stdout",
     "output_type": "stream",
     "text": [
      "The number of words in string are : 42\n",
      "The number of words in string are : 55\n",
      "The number of words in string are : 51\n",
      "The number of words in string are : 80\n",
      "The number of words in string are : 65\n",
      "The number of words in string are : 40\n"
     ]
    }
   ],
   "source": [
    "res = len(suggestions_ls[0].split()) # NA0\n",
    "print (\"The number of words in string are : \" + str(res))\n",
    "\n",
    "res = len(suggestions_ls[3].split()) # NA1\n",
    "print (\"The number of words in string are : \" + str(res))\n",
    "\n",
    "res = len(suggestions_ls[6].split()) # NA2\n",
    "print (\"The number of words in string are : \" + str(res))\n",
    "\n",
    "res = len(suggestions_ls[9].split()) # NA3\n",
    "print (\"The number of words in string are : \" + str(res))\n",
    "\n",
    "res = len(suggestions_ls[12].split()) # NA4\n",
    "print (\"The number of words in string are : \" + str(res))\n",
    "\n",
    "res = len(suggestions_ls[15].split()) # NA8\n",
    "print (\"The number of words in string are : \" + str(res))\n"
   ]
  },
  {
   "cell_type": "code",
   "execution_count": null,
   "metadata": {},
   "outputs": [],
   "source": []
  },
  {
   "cell_type": "markdown",
   "metadata": {},
   "source": [
    "# See whether there are factual incorrect things in the condition 3 scenario"
   ]
  },
  {
   "cell_type": "code",
   "execution_count": 209,
   "metadata": {},
   "outputs": [
    {
     "name": "stdout",
     "output_type": "stream",
     "text": [
      "    NA_index  condition  Deelnemer_ID   \n",
      "0          0          2             2  \\\n",
      "1          0          1             1   \n",
      "2          0          3             3   \n",
      "3          1          2             1   \n",
      "4          1          1             3   \n",
      "5          1          3             2   \n",
      "6          2          2             3   \n",
      "7          2          1             2   \n",
      "8          2          3             1   \n",
      "9          3          2             2   \n",
      "10         3          1             1   \n",
      "11         3          3             3   \n",
      "12         4          2             1   \n",
      "13         4          1             3   \n",
      "14         4          3             2   \n",
      "15         8          2             3   \n",
      "16         8          1             2   \n",
      "17         8          3             1   \n",
      "\n",
      "                        Schrijfhierjouwradio-bericht:   \n",
      "0   Het lijkt flink mis op een zorgboerderij in Ho...  \\\n",
      "1   De GGD onderzoekt klachten over seksuele intim...   \n",
      "2   De GGD onderzoekt of mensen op een zorgboerder...   \n",
      "3   Het schiet niet op met de omschakeling naar ee...   \n",
      "4   Het kabinet moet meer doen om recycling aan te...   \n",
      "5   Bedrijven die milieuvervuilende grondstoffen g...   \n",
      "6   Er wordt op Terschelling niet meer gezocht naa...   \n",
      "7   Er is opnieuw de hele dag gezocht naar de jong...   \n",
      "8   De reddingsdiensten zijn gestopt met zoeken na...   \n",
      "9   Nederland heeft samen met de marine van Colomb...   \n",
      "10  De Nederlandse marine heeft samen met Colombia...   \n",
      "11  In de Caribische Zee is voor ongeveer 300 milj...   \n",
      "12  Er worden steeds meer bromfietsen, snorfietsen...   \n",
      "13  Voor de kust van Aruba is ruim vijf ton cocaïn...   \n",
      "14  Motoren, brommers en bromfietsen worden weer v...   \n",
      "15  Ik ben er voor alle Brazilianen. Dat zegt de n...   \n",
      "16  In zijn eerste speech als president van Brazil...   \n",
      "17  De nieuwe Braziliaanse president Lula da Silva...   \n",
      "\n",
      "                                        news_articles   \n",
      "0   De GGD Groningen is een onderzoek begonnen naa...  \\\n",
      "1   De GGD Groningen is een onderzoek begonnen naa...   \n",
      "2   De GGD Groningen is een onderzoek begonnen naa...   \n",
      "3   Het kabinet doet nog steeds te weinig om een k...   \n",
      "4   Het kabinet doet nog steeds te weinig om een k...   \n",
      "5   Het kabinet doet nog steeds te weinig om een k...   \n",
      "6   Hulpdiensten en vrijwilligers hebben op Tersch...   \n",
      "7   Hulpdiensten en vrijwilligers hebben op Tersch...   \n",
      "8   Hulpdiensten en vrijwilligers hebben op Tersch...   \n",
      "9   Tijdens acht verschillende operaties in de Car...   \n",
      "10  Tijdens acht verschillende operaties in de Car...   \n",
      "11  Tijdens acht verschillende operaties in de Car...   \n",
      "12  Het aantal diefstallen van motoren, bromfietse...   \n",
      "13  Het aantal diefstallen van motoren, bromfietse...   \n",
      "14  Het aantal diefstallen van motoren, bromfietse...   \n",
      "15  De nieuwe Braziliaanse president Luiz Inácio L...   \n",
      "16  De nieuwe Braziliaanse president Luiz Inácio L...   \n",
      "17  De nieuwe Braziliaanse president Luiz Inácio L...   \n",
      "\n",
      "                                                 rm_g   \n",
      "0    Medewerkers van een zorgboerderij in het Gron...  \\\n",
      "1    Medewerkers van een zorgboerderij in het Gron...   \n",
      "2    Medewerkers van een zorgboerderij in het Gron...   \n",
      "3    Er komen strengere regels voor bedrijven om t...   \n",
      "4    Er komen strengere regels voor bedrijven om t...   \n",
      "5    Er komen strengere regels voor bedrijven om t...   \n",
      "6    Vrijwilligers hebben zonder succes gezocht na...   \n",
      "7    Vrijwilligers hebben zonder succes gezocht na...   \n",
      "8    Vrijwilligers hebben zonder succes gezocht na...   \n",
      "9    Op de Caribische Zee is bijna 10-duizend kilo...   \n",
      "10   Op de Caribische Zee is bijna 10-duizend kilo...   \n",
      "11   Op de Caribische Zee is bijna 10-duizend kilo...   \n",
      "12   Er worden weer meer motoren, brommers en brom...   \n",
      "13   Er worden weer meer motoren, brommers en brom...   \n",
      "14   Er worden weer meer motoren, brommers en brom...   \n",
      "15   In zijn eerste speech als president van Brazi...   \n",
      "16   In zijn eerste speech als president van Brazi...   \n",
      "17   In zijn eerste speech als president van Brazi...   \n",
      "\n",
      "                                         suggested_rm  \n",
      "0   De GGD Groningen doet onderzoek naar mogelijke...  \n",
      "1   De GGD Groningen doet onderzoek naar mogelijke...  \n",
      "2   De GGD Groningen doet onderzoek naar mogelijke...  \n",
      "3   Het kabinet moet strenger ingrijpen om zuinige...  \n",
      "4   Het kabinet moet strenger ingrijpen om zuinige...  \n",
      "5   Het kabinet moet strenger ingrijpen om zuinige...  \n",
      "6   De zoektocht naar de 12-jarige jongen die vori...  \n",
      "7   De zoektocht naar de 12-jarige jongen die vori...  \n",
      "8   De zoektocht naar de 12-jarige jongen die vori...  \n",
      "9   Internationale operaties leiden tot recordvang...  \n",
      "10  Internationale operaties leiden tot recordvang...  \n",
      "11  Internationale operaties leiden tot recordvang...  \n",
      "12  Steeds meer tweewielers zijn dit jaar het doel...  \n",
      "13  Steeds meer tweewielers zijn dit jaar het doel...  \n",
      "14  Steeds meer tweewielers zijn dit jaar het doel...  \n",
      "15  De nieuwe Braziliaanse president Lula da Silva...  \n",
      "16  De nieuwe Braziliaanse president Lula da Silva...  \n",
      "17  De nieuwe Braziliaanse president Lula da Silva...  \n"
     ]
    }
   ],
   "source": [
    "print(df_rms)\n",
    "#print(main_df)"
   ]
  },
  {
   "cell_type": "code",
   "execution_count": 231,
   "metadata": {},
   "outputs": [],
   "source": [
    "cond3_df = df_rms[df_rms['condition'] == 3]\n",
    "cond2_df = df_rms[df_rms['condition'] == 2]"
   ]
  },
  {
   "cell_type": "code",
   "execution_count": 202,
   "metadata": {},
   "outputs": [
    {
     "data": {
      "text/html": [
       "<div>\n",
       "<style scoped>\n",
       "    .dataframe tbody tr th:only-of-type {\n",
       "        vertical-align: middle;\n",
       "    }\n",
       "\n",
       "    .dataframe tbody tr th {\n",
       "        vertical-align: top;\n",
       "    }\n",
       "\n",
       "    .dataframe thead th {\n",
       "        text-align: right;\n",
       "    }\n",
       "</style>\n",
       "<table border=\"1\" class=\"dataframe\">\n",
       "  <thead>\n",
       "    <tr style=\"text-align: right;\">\n",
       "      <th></th>\n",
       "      <th>NA_index</th>\n",
       "      <th>condition</th>\n",
       "      <th>Deelnemer_ID</th>\n",
       "      <th>Schrijfhierjouwradio-bericht:</th>\n",
       "      <th>news_articles</th>\n",
       "      <th>rm_g</th>\n",
       "      <th>suggested_rm</th>\n",
       "    </tr>\n",
       "  </thead>\n",
       "  <tbody>\n",
       "    <tr>\n",
       "      <th>2</th>\n",
       "      <td>0</td>\n",
       "      <td>3</td>\n",
       "      <td>3</td>\n",
       "      <td>De GGD onderzoekt of mensen op een zorgboerder...</td>\n",
       "      <td>De GGD Groningen is een onderzoek begonnen naa...</td>\n",
       "      <td>Medewerkers van een zorgboerderij in het Gron...</td>\n",
       "      <td>De GGD Groningen doet onderzoek naar mogelijke...</td>\n",
       "    </tr>\n",
       "    <tr>\n",
       "      <th>5</th>\n",
       "      <td>1</td>\n",
       "      <td>3</td>\n",
       "      <td>2</td>\n",
       "      <td>Bedrijven die milieuvervuilende grondstoffen g...</td>\n",
       "      <td>Het kabinet doet nog steeds te weinig om een k...</td>\n",
       "      <td>Er komen strengere regels voor bedrijven om t...</td>\n",
       "      <td>Het kabinet moet strenger ingrijpen om zuinige...</td>\n",
       "    </tr>\n",
       "    <tr>\n",
       "      <th>8</th>\n",
       "      <td>2</td>\n",
       "      <td>3</td>\n",
       "      <td>1</td>\n",
       "      <td>De reddingsdiensten zijn gestopt met zoeken na...</td>\n",
       "      <td>Hulpdiensten en vrijwilligers hebben op Tersch...</td>\n",
       "      <td>Vrijwilligers hebben zonder succes gezocht na...</td>\n",
       "      <td>De zoektocht naar de 12-jarige jongen die vori...</td>\n",
       "    </tr>\n",
       "    <tr>\n",
       "      <th>11</th>\n",
       "      <td>3</td>\n",
       "      <td>3</td>\n",
       "      <td>3</td>\n",
       "      <td>In de Caribische Zee is voor ongeveer 300 milj...</td>\n",
       "      <td>Tijdens acht verschillende operaties in de Car...</td>\n",
       "      <td>Op de Caribische Zee is bijna 10-duizend kilo...</td>\n",
       "      <td>Internationale operaties leiden tot recordvang...</td>\n",
       "    </tr>\n",
       "    <tr>\n",
       "      <th>14</th>\n",
       "      <td>4</td>\n",
       "      <td>3</td>\n",
       "      <td>2</td>\n",
       "      <td>Motoren, brommers en bromfietsen worden weer v...</td>\n",
       "      <td>Het aantal diefstallen van motoren, bromfietse...</td>\n",
       "      <td>Er worden weer meer motoren, brommers en brom...</td>\n",
       "      <td>Steeds meer tweewielers zijn dit jaar het doel...</td>\n",
       "    </tr>\n",
       "    <tr>\n",
       "      <th>17</th>\n",
       "      <td>8</td>\n",
       "      <td>3</td>\n",
       "      <td>1</td>\n",
       "      <td>De nieuwe Braziliaanse president Lula da Silva...</td>\n",
       "      <td>De nieuwe Braziliaanse president Luiz Inácio L...</td>\n",
       "      <td>In zijn eerste speech als president van Brazi...</td>\n",
       "      <td>De nieuwe Braziliaanse president Lula da Silva...</td>\n",
       "    </tr>\n",
       "  </tbody>\n",
       "</table>\n",
       "</div>"
      ],
      "text/plain": [
       "    NA_index  condition  Deelnemer_ID   \n",
       "2          0          3             3  \\\n",
       "5          1          3             2   \n",
       "8          2          3             1   \n",
       "11         3          3             3   \n",
       "14         4          3             2   \n",
       "17         8          3             1   \n",
       "\n",
       "                        Schrijfhierjouwradio-bericht:   \n",
       "2   De GGD onderzoekt of mensen op een zorgboerder...  \\\n",
       "5   Bedrijven die milieuvervuilende grondstoffen g...   \n",
       "8   De reddingsdiensten zijn gestopt met zoeken na...   \n",
       "11  In de Caribische Zee is voor ongeveer 300 milj...   \n",
       "14  Motoren, brommers en bromfietsen worden weer v...   \n",
       "17  De nieuwe Braziliaanse president Lula da Silva...   \n",
       "\n",
       "                                        news_articles   \n",
       "2   De GGD Groningen is een onderzoek begonnen naa...  \\\n",
       "5   Het kabinet doet nog steeds te weinig om een k...   \n",
       "8   Hulpdiensten en vrijwilligers hebben op Tersch...   \n",
       "11  Tijdens acht verschillende operaties in de Car...   \n",
       "14  Het aantal diefstallen van motoren, bromfietse...   \n",
       "17  De nieuwe Braziliaanse president Luiz Inácio L...   \n",
       "\n",
       "                                                 rm_g   \n",
       "2    Medewerkers van een zorgboerderij in het Gron...  \\\n",
       "5    Er komen strengere regels voor bedrijven om t...   \n",
       "8    Vrijwilligers hebben zonder succes gezocht na...   \n",
       "11   Op de Caribische Zee is bijna 10-duizend kilo...   \n",
       "14   Er worden weer meer motoren, brommers en brom...   \n",
       "17   In zijn eerste speech als president van Brazi...   \n",
       "\n",
       "                                         suggested_rm  \n",
       "2   De GGD Groningen doet onderzoek naar mogelijke...  \n",
       "5   Het kabinet moet strenger ingrijpen om zuinige...  \n",
       "8   De zoektocht naar de 12-jarige jongen die vori...  \n",
       "11  Internationale operaties leiden tot recordvang...  \n",
       "14  Steeds meer tweewielers zijn dit jaar het doel...  \n",
       "17  De nieuwe Braziliaanse president Lula da Silva...  "
      ]
     },
     "execution_count": 202,
     "metadata": {},
     "output_type": "execute_result"
    }
   ],
   "source": [
    "cond3_df"
   ]
  },
  {
   "cell_type": "code",
   "execution_count": 194,
   "metadata": {},
   "outputs": [
    {
     "data": {
      "text/plain": [
       "\"De GGD onderzoekt of mensen op een zorgboerderij in Groningen seksueel geïntimeerd worden. RTV Noord heeft ook signalen van een angstcultuur. Medewerkers voelen zich onveilig omdat ze in de gaten worden gehouden met camera's. Een vrouwelijke werknemer zegt dat ze seksspeeltjes kreeg met kerst. De eigenaar ontkent de beschuldigingen.\""
      ]
     },
     "execution_count": 194,
     "metadata": {},
     "output_type": "execute_result"
    }
   ],
   "source": [
    "cond3_df['Schrijfhierjouwradio-bericht:'][2] # Everything is factually correct"
   ]
  },
  {
   "cell_type": "code",
   "execution_count": 195,
   "metadata": {},
   "outputs": [
    {
     "data": {
      "text/plain": [
       "'De GGD Groningen is een onderzoek begonnen naar mogelijke misstanden op een zorgboerderij in het Groningse dorp Holwierde. Dat bevestigt een woordvoerder naar aanleiding van berichtgeving van RTV Noord. Volgens de regionale zender is er op de zorgboerderij onder meer sprake van seksuele intimidatie en heerst er een angstcultuur.  \"In opdracht van de gemeente zijn we een onderzoek begonnen\", aldus een woordvoerder van de GGD. Een woordvoerder van de gemeente Eemsdelta, waar Holwierde onder valt, meldt dat er bepaalde signalen zijn binnengekomen die de aanleiding vormden voor een onderzoek. Over de inhoud van de signalen of het onderzoek kunnen de woordvoerders geen verdere mededelingen doen.  Het onderzoek richt zich volgens de gemeente op een van de twee locaties van de zorgboerderij, waar een woonplek en dagopvang wordt geboden aan jongeren, ouderen en volwassenen.  Een aantal medewerkers vertelt anoniem aan RTV Noord dat er een gevoel van onveiligheid hangt op de boerderij. Zo zouden medewerkers dag en nacht met camera\\'s worden gevolgd, worden er seksueel ongepaste opmerkingen gemaakt en kreeg een vrouwelijke medewerker als kerstpakket een pakket met dildo\\'s en andere seksartikelen. De eigenaar ontkent de beschuldigingen tegenover RTV Noord. '"
      ]
     },
     "execution_count": 195,
     "metadata": {},
     "output_type": "execute_result"
    }
   ],
   "source": [
    "cond3_df['news_articles'][2]"
   ]
  },
  {
   "cell_type": "code",
   "execution_count": 201,
   "metadata": {},
   "outputs": [
    {
     "data": {
      "text/plain": [
       "'De GGD Groningen doet onderzoek naar mogelijke misstanden op een zorgboerderij in Holwierde. Volgens RTV Noord zijn er signalen van seksuele intimidatie en een angstcultuur. Medewerkers voelen zich onveilig door continu cameratoezicht. Een vrouwelijke werknemer kreeg seksspeeltjes als kerstpakket. De eigenaar ontkent.'"
      ]
     },
     "execution_count": 201,
     "metadata": {},
     "output_type": "execute_result"
    }
   ],
   "source": [
    "cond3_df['suggested_rm'][2] # rm_g"
   ]
  },
  {
   "cell_type": "code",
   "execution_count": 203,
   "metadata": {},
   "outputs": [
    {
     "data": {
      "text/plain": [
       "'Bedrijven die milieuvervuilende grondstoffen gebruiken voor hun producten moeten extra worden belast.  Dat zegt een van de belangrijkste adviseurs van het kabinet, planbureau PBL. Nederland wil binnen dertig jaar helemaal circulair zijn, dus dat we geen grondstoffen meer gebruiken maar alles recyclen. Maar met het tempo van nu gaan we het niet redden en daarom moet het kabinet volgens het planbureau strenger worden.'"
      ]
     },
     "execution_count": 203,
     "metadata": {},
     "output_type": "execute_result"
    }
   ],
   "source": [
    "cond3_df['Schrijfhierjouwradio-bericht:'][5]\n",
    "# Deelnemer_B\n",
    "\n",
    "# Nederland wil binnen dertig jaar helemaal circulair zijn # Dit staat helemaal nergens in de suggestie (wel in het\n",
    "# nieuwsbericht, want kabinet wil in 2050 volledig circulair)\n",
    "\n",
    "\n",
    "# Het staat gewoon echt niet in de suggestie (en heb gecontroleerd dat hij echt alleen de suggestie gezien heeft gekregen)"
   ]
  },
  {
   "cell_type": "code",
   "execution_count": 204,
   "metadata": {},
   "outputs": [
    {
     "data": {
      "text/plain": [
       "'Het kabinet doet nog steeds te weinig om een kringloopeconomie te realiseren. Het Planbureau voor de Leefomgeving (PBL) stelt in een rapport dat hier de afgelopen jaren \"nauwelijks vooruitgang\" in is geboekt. Maatregelen zijn vooral gericht op de goede wil van bedrijven en de samenleving, maar strenger beleid is volgens het planbureau nodig om zuiniger om te gaan met grondstoffen. Het gaat dan bijvoorbeeld om olie, metalen en mineralen. Het gebruik daarvan kan onder meer worden verminderd door invoering van een verplicht aandeel hergebruikte materialen in nieuwe producten, stelt het PBL voor.  Het planbureau overhandigt dit rapport donderdagmiddag aan staatssecretaris Vivianne Heijnen van Infrastructuur en Waterstaat. Binnen het kabinet is zij verantwoordelijk voor de overgang naar een circulaire economie. Dit is een economie waarin grondstoffen veel minder en efficiënter worden gebruikt, bijvoorbeeld door materialen te hergebruiken of over te stappen op biologische alternatieven. Door de oorlog in Oekraïne en de coronapandemie zijn grondstoffen minder beschikbaar dan voorgaande jaren. Dat maakt zuiniger gebruik extra dringend.  Twee keer eerder deed het PBL onderzoek naar hoever het kabinet is in de overgang naar een kringloopeconomie. In 2021 en 2019 kwamen onderzoekers met soortgelijke bevindingen als deze keer. De cijfers uit het nieuwste rapport komen uit 2020. Dat jaar was het grondstoffengebruik tijdelijk lager vanwege de coronamaatregelen. Zo zorgden reisbeperkingen ervoor dat vliegtuigen aan de grond bleven en er dus minder brandstof werd gebruikt. Het CBS becijferde donderdag dat in totaal zo\\'n 359 miljard kilo grondstoffen zijn gebruikt in 2020 om de Nederlandse economie te laten draaien.  Het kabinet wil dat Nederland in 2050 een volledig circulaire economie is. In 2030 moet het gebruik van nieuw gewonnen mineralen, metalen en fossiele grondstoffen als aardolie en aardgas zijn gehalveerd vergeleken met 2016. Volgens onderzoeker Frank Dietz is de overgang naar een kringloopeconomie momenteel \"niet ver genoeg\".  Het PBL wil dat het kabinet verplichte maatregelen invoert voor bedrijven en consumenten in plaats van vrijblijvende regelingen. Naast een verplicht aandeel hergebruikte materialen pleit het planbureau onder meer voor een belasting op het gebruik van fossiele grondstoffen. \"De problematiek is zo ingewikkeld dat we steeds moeten kijken wat maatregelen doen voor het milieu en wat het meest effectief is\", zegt Dietz. '"
      ]
     },
     "execution_count": 204,
     "metadata": {},
     "output_type": "execute_result"
    }
   ],
   "source": [
    "cond3_df['news_articles'][5]"
   ]
  },
  {
   "cell_type": "code",
   "execution_count": 205,
   "metadata": {},
   "outputs": [
    {
     "data": {
      "text/plain": [
       "'Het kabinet moet strenger ingrijpen om zuiniger om te gaan met grondstoffen. Dat stelt het Planbureau voor de Leefomgeving in een rapport. Volgens onderzoeker Frank Dietz schiet de overgang naar een kringloopeconomie tekort en zijn verplichtende maatregelen nodig. Het PBL adviseert bijvoorbeeld een verplicht aandeel hergebruikte materialen in producten en een belasting op fossiele brandstoffen.'"
      ]
     },
     "execution_count": 205,
     "metadata": {},
     "output_type": "execute_result"
    }
   ],
   "source": [
    "cond3_df['suggested_rm'][5] # rm_g"
   ]
  },
  {
   "cell_type": "code",
   "execution_count": 210,
   "metadata": {},
   "outputs": [
    {
     "data": {
      "text/plain": [
       "' Er komen strengere regels voor bedrijven om tot een kringloopeconomie te komen. Dat zegt staatssecretaris Heijnen na een rapport dat de kringloopeconomie er niet vanzelf komt en dat er regels nodig zijn. Het kabinet was daar al mee bezig en wil bijvoorbeeld milieuschade gaan doorrekenen aan bedrijven. '"
      ]
     },
     "execution_count": 210,
     "metadata": {},
     "output_type": "execute_result"
    }
   ],
   "source": [
    "cond3_df['rm_g'][5] # rm_g"
   ]
  },
  {
   "cell_type": "code",
   "execution_count": null,
   "metadata": {},
   "outputs": [],
   "source": []
  },
  {
   "cell_type": "code",
   "execution_count": 211,
   "metadata": {},
   "outputs": [
    {
     "data": {
      "text/plain": [
       "'De reddingsdiensten zijn gestopt met zoeken naar de jongen van 12, die al een maand vermist is bij Terschelling. Hij viel overboord door een aanvaring tussen een snelboot en een watertaxi. Een man van 49 was ook vermist. Zijn lichaam is gisteren aangespoeld.'"
      ]
     },
     "execution_count": 211,
     "metadata": {},
     "output_type": "execute_result"
    }
   ],
   "source": [
    "cond3_df['Schrijfhierjouwradio-bericht:'][8]\n",
    "# Deelnemer_A\n",
    "\n",
    "# Dit klopt niet, de jongen was vorige maand gemist geraakt. Na onderzoek zat er 21 okt - 6 nov . ong 2 weken tussen en niet 'al een maand'.\n",
    "# https://www.ad.nl/binnenland/gevonden-lichaam-op-strand-terschelling-is-49-jarige-man-die-was-vermist-na-bootongeluk~aad285d8/\n",
    "# Twitter dat het om de 49-jarige man uit Heerenveen gaat die was vermist na een aanvaring tussen een veerboot en een watertaxi bij het eiland, twee weken geleden\n",
    "# \"Eerder vandaag spoelde een na de aanvaring eveneens vermiste volwassen man aan op het strand van Terschelling\""
   ]
  },
  {
   "cell_type": "code",
   "execution_count": 212,
   "metadata": {},
   "outputs": [
    {
     "data": {
      "text/plain": [
       "'Hulpdiensten en vrijwilligers hebben op Terschelling de zoektocht gestaakt naar de nog vermiste 12-jarige jongen, die vorige maand na de aanvaring tussen een snelboot en watertaxi te water raakte. Dat laten onder meer de politie en de vrijwilligerszoekorganisatie Search &amp; Rescue Nederland (SAR) weten.  Eerder op zondag spoelde een na de aanvaring eveneens vermiste volwassen man aan op het strand van Terschelling. Het lichaam van deze 49-jarige man uit Heerenveen kwam terecht bij het Groene Strand op het Waddeneiland. Door het ongeval, dat op vrijdag 21 oktober vroeg in de ochtend gebeurde, overleden al een 46-jarige man uit Sexbierum en een 57-jarige man uit Leeuwarden.  De plek waar het lichaam zondag terechtkwam is vlakbij de vaargeul waar de aanvaring gebeurde, laat een woordvoerster van SAR Nederland weten. Eerder op zondag liet het team weten de zoektocht te hebben opgeschaald.  Zo\\'n twintig personen hebben namens SAR de hele dag naar het lichaam van de jongen gezocht met behulp van quads en met lopers langs de kustlijn van de oost- en westkant van het eiland. Ook werd een boot van de politie en de reddingsmaatschappij Koninklijke Nederlandse Redding Maatschappij (KNRM) ingezet.  De politie bekijkt maandag, zoals elke dag de laatste weken sinds de aanvaring, of er verder wordt gezocht. SAR Nederland zegt in overleg met de hulpdiensten te bekijken wat de organisatie verder kan doen. \"Het was een zware dag\", aldus de zegsvrouw, die ook spreekt van \"priemende regen\" en harde wind die de zoektocht zondag bemoeilijkte. Via een liveblog op de onlangs opgezette website Nationale Hulpverleningskrant, houdt SAR Nederland geïnteresseerden van de zoekactie op de hoogte. '"
      ]
     },
     "execution_count": 212,
     "metadata": {},
     "output_type": "execute_result"
    }
   ],
   "source": [
    "cond3_df['news_articles'][8]"
   ]
  },
  {
   "cell_type": "code",
   "execution_count": 213,
   "metadata": {},
   "outputs": [
    {
     "data": {
      "text/plain": [
       "'De zoektocht naar de 12-jarige jongen die vorige maand vermist raakte na een aanvaring tussen een snelboot en watertaxi op Terschelling is gestaakt. Gisteren spoelde wel het lichaam van een 49-jarige man aan, een van de slachtoffers van het ongeval. Ondanks uitgebreide zoekacties van hulpdiensten en vrijwilligers bleef de jongen spoorloos.'"
      ]
     },
     "execution_count": 213,
     "metadata": {},
     "output_type": "execute_result"
    }
   ],
   "source": [
    "cond3_df['suggested_rm'][8]"
   ]
  },
  {
   "cell_type": "code",
   "execution_count": 235,
   "metadata": {},
   "outputs": [
    {
     "data": {
      "text/plain": [
       "'Er wordt op Terschelling niet meer gezocht naar een vermiste jongen van twaalf. Hij viel vorige maand in het water toen een boot en een watertaxi op elkaar botsten. Vrijwilligers en hulpdiensten hebben hem niet gevonden. Eerder spoelde het lichaam van een man aan en werden twee andere doden geborgen.'"
      ]
     },
     "execution_count": 235,
     "metadata": {},
     "output_type": "execute_result"
    }
   ],
   "source": [
    "# cond2 \n",
    "cond2_df['Schrijfhierjouwradio-bericht:'][6]                                         "
   ]
  },
  {
   "cell_type": "code",
   "execution_count": null,
   "metadata": {},
   "outputs": [],
   "source": []
  },
  {
   "cell_type": "code",
   "execution_count": null,
   "metadata": {},
   "outputs": [],
   "source": [
    "# Wat moet ik hier mee? De editors hebben zelf gewoon iets verkeerd over genomen."
   ]
  },
  {
   "cell_type": "code",
   "execution_count": null,
   "metadata": {},
   "outputs": [],
   "source": []
  },
  {
   "cell_type": "code",
   "execution_count": 214,
   "metadata": {},
   "outputs": [
    {
     "data": {
      "text/plain": [
       "'In de Caribische Zee is voor ongeveer 300 miljoen euro aan cocaïne onderschept. En dat is een record voor één week. Een deel werd bij Aruba gevonden. Er zijn vijftien mensen opgepakt. Nederland doet mee aan de operatie tegen drugshandel, samen met onder meer Colombia en Amerika.'"
      ]
     },
     "execution_count": 214,
     "metadata": {},
     "output_type": "execute_result"
    }
   ],
   "source": [
    "cond3_df['Schrijfhierjouwradio-bericht:'][11] # de suggestie geeft aan dat het een record vangst is. Dit\n",
    "# is dan ook overgenomen door de journalist. Echter, in het nieuwsbericht zelf wordt helemaal niet gesproken over een record\n",
    "# vangst. "
   ]
  },
  {
   "cell_type": "code",
   "execution_count": 215,
   "metadata": {},
   "outputs": [
    {
     "data": {
      "text/plain": [
       "'Tijdens acht verschillende operaties in de Caribische Zee werd door de autoriteiten van Colombia, de Verenigde Staten en Nederland 9,7 ton cocaïne onderschept. De drugs hadden als bestemming de VS en Europa en hebben volgens Colombia een straatwaarde van 327 miljoen dollar (310 miljoen euro).  Volgens Colombiaanse media werd één lading van ruim 5 ton onderschept in de territoriale wateren van Aruba. De partij dobberde in het water en zou de Dominicaanse Republiek als bestemming hebben gehad, een overslagpunt voor cocaïne. Vier andere operaties hadden het gemunt op zogenoemde go-fast-motorboten. Vijftien personen van verschillende nationaliteiten werden aangehouden. Aan welke autoriteiten zij zijn overgedragen is voorlopig niet duidelijk.  In de Caraïben zijn veel instanties betrokken bij de opsporing van drugscriminaliteit, waaronder al jaren de Nederlandse Koninklijke Marine. Dit jaar werd door internationale samenwerking al 109 ton cocaïne onderschept, aldus de Colombiaanse autoriteiten. '"
      ]
     },
     "execution_count": 215,
     "metadata": {},
     "output_type": "execute_result"
    }
   ],
   "source": [
    "cond3_df['news_articles'][11]"
   ]
  },
  {
   "cell_type": "code",
   "execution_count": 216,
   "metadata": {},
   "outputs": [
    {
     "data": {
      "text/plain": [
       "'Internationale operaties leiden tot recordvangst cocaïne. Autoriteiten onderschepten deze week bijna 10 ton cocaïne in de Caribische Zee. De drugs hadden een straatwaarde van 327 miljoen dollar en waren bestemd voor de VS en Europa. Een deel van de lading dobberde voor de kust van Aruba. Vijftien verdachten zijn gearresteerd, maar aan welke landen zij zijn overgedragen is onduidelijk. Door samenwerking tussen onder meer Colombia, de VS en Nederland werd dit jaar al 109 ton cocaïne onderschept.'"
      ]
     },
     "execution_count": 216,
     "metadata": {},
     "output_type": "execute_result"
    }
   ],
   "source": [
    "cond3_df['suggested_rm'][11]"
   ]
  },
  {
   "cell_type": "code",
   "execution_count": 218,
   "metadata": {},
   "outputs": [
    {
     "data": {
      "text/plain": [
       "' Op de Caribische Zee is bijna 10-duizend kilo cocaïne in beslag genomen die bestemd was voor Amerika en Europa. De drugs hadden ongeveer 300 miljoen euro kunnen opleveren. 15 mensen zijn opgepakt bij de operaties waar Nederland ook bij betrokken was. Aan welke landen ze zijn uitgeleverd is niet bekend. '"
      ]
     },
     "execution_count": 218,
     "metadata": {},
     "output_type": "execute_result"
    }
   ],
   "source": [
    "cond3_df['rm_g'][11]"
   ]
  },
  {
   "cell_type": "code",
   "execution_count": null,
   "metadata": {},
   "outputs": [],
   "source": [
    "##"
   ]
  },
  {
   "cell_type": "code",
   "execution_count": 221,
   "metadata": {},
   "outputs": [
    {
     "data": {
      "text/plain": [
       "'Motoren, brommers en bromfietsen worden weer vaker gestolen. In de eerste zeven maanden sloegen dieven ruim achtduizend keer toe. Dat is ruim een derde vaker dan in de zelfde periode een jaar geleden, zeggen de verzekeraars. Hoe dat kan, is niet precies te zeggen.     '"
      ]
     },
     "execution_count": 221,
     "metadata": {},
     "output_type": "execute_result"
    }
   ],
   "source": [
    "cond3_df['Schrijfhierjouwradio-bericht:'][14] # Er staan helemaal geen getallen in de suggested_Rm ?\n",
    "# Weer deelnemer_B. Geen idee hoe hij dit gedaan heeft, aangezien hij echt alleen het radiobericht te zien heeft gekregen.\n",
    "# "
   ]
  },
  {
   "cell_type": "code",
   "execution_count": 219,
   "metadata": {},
   "outputs": [
    {
     "data": {
      "text/plain": [
       "'Het aantal diefstallen van motoren, bromfietsen en snorfietsen is dit jaar sterk gestegen. In de eerste zeven maanden van 2022 stalen dieven ruim een derde meer van deze tweewielers dan in dezelfde periode vorig jaar, meldt het Verbond van Verzekeraars.  In totaal werden van januari tot en met juli 7212 brom- en snorfietsen gestolen, bijna 1900 meer dan in dezelfde periode van 2021. Bij motoren steeg het aantal diefstallen met ruim 34 procent tot 983.  Volgens André Bouwman van het Landelijk Intelligence- en expertisecentrum Voertuigcriminaliteit (LIV) is het aantal diefstallen van brommers en snorfietsen na twee coronajaren min of meer teruggeveerd naar het gemiddelde van de afgelopen zes jaar. Anders is dat bij het aantal motordiefstallen. Ook vergeleken met de jaren voor corona zijn veel meer motoren gestolen.  Bouwman weet niet precies waarom dieven vaker brommers of motoren buitmaken. Mogelijk heeft het te maken met een gebrek aan parkeerruimte voor auto\\'s in grote steden, waar de dieven het vaakst toeslaan. Daardoor zijn ze mogelijk in populariteit gestegen. \"Daarnaast kunnen ook de gestegen brandstofprijzen een rol spelen. Kortom, er kunnen verschillende factoren de oorzaak zijn van de diefstalstijging.\" '"
      ]
     },
     "execution_count": 219,
     "metadata": {},
     "output_type": "execute_result"
    }
   ],
   "source": [
    "cond3_df['news_articles'][14]"
   ]
  },
  {
   "cell_type": "code",
   "execution_count": 220,
   "metadata": {},
   "outputs": [
    {
     "data": {
      "text/plain": [
       "'Steeds meer tweewielers zijn dit jaar het doelwit van dieven. In de eerste 7 maanden van 2022 zijn ruim een derde meer bromfietsen, snorfietsen en motoren gestolen vergeleken met dezelfde periode vorig jaar, meldt verzekeraars Verbond. Vooral het aantal motordiefstallen steeg fors, met 34 procent. Volgens expert Bouwman kan de populariteit van tweewielers in steden, evenals de hoge brandstofprijzen, een rol spelen bij deze stijging.'"
      ]
     },
     "execution_count": 220,
     "metadata": {},
     "output_type": "execute_result"
    }
   ],
   "source": [
    "cond3_df['suggested_rm'][14]"
   ]
  },
  {
   "cell_type": "code",
   "execution_count": 224,
   "metadata": {},
   "outputs": [
    {
     "data": {
      "text/plain": [
       "' Er worden weer meer motoren, brommers en bromfietsen gestolen. In de eerste zeven maanden was het ruim een derde hoger dan in dezelfde periode vorig jaar, melden verzekeraars. De diefstal van brom- en snorfietsen is weer terug op het niveau van vóór corona. Maar het aantal motordiefstallen ligt duidelijk hoger. '"
      ]
     },
     "execution_count": 224,
     "metadata": {},
     "output_type": "execute_result"
    }
   ],
   "source": [
    "cond3_df['rm_g'][14]"
   ]
  },
  {
   "cell_type": "code",
   "execution_count": null,
   "metadata": {},
   "outputs": [],
   "source": [
    "##"
   ]
  },
  {
   "cell_type": "code",
   "execution_count": 228,
   "metadata": {},
   "outputs": [
    {
     "data": {
      "text/plain": [
       "'De nieuwe Braziliaanse president Lula da Silva belooft dat hij zal regeren voor alle Brazilianen. In zijn toespraak zei hij ook dat hij zijn voorganger wil vervolgen voor zijn aanpak van corona. Er vielen in Brazilië 680-duizend doden. Da Silva noemt het volkerenmoord.'"
      ]
     },
     "execution_count": 228,
     "metadata": {},
     "output_type": "execute_result"
    }
   ],
   "source": [
    "cond3_df['Schrijfhierjouwradio-bericht:'][17]"
   ]
  },
  {
   "cell_type": "code",
   "execution_count": 225,
   "metadata": {},
   "outputs": [
    {
     "data": {
      "text/plain": [
       "'De nieuwe Braziliaanse president Luiz Inácio Lula da Silva heeft in zijn inaugurele rede in het parlement beklemtoond geen wraak te zoeken, maar te willen regeren voor alle Brazilianen, ook die niet voor hem hebben gestemd.  Dat was bijna de helft van electoraat volgens de officiële uitslagen. Het land is politiek gepolariseerd en de presidentiële sjerp werd zondag níet door zijn voorganger, Jair Bolsonaro, omgehangen. Normaal doet de scheidende president dat voor de nieuwe. Maar Bolsonaro is vrijdag naar Florida uitgeweken en heeft nooit zijn nederlaag in de verkiezingen in oktober erkend.  Lula da Silva dreigde indirect met processen tegen Bolsonaro, omdat hij onwaarheden over het coronavirus zou hebben verspreid en daardoor strafrechtelijk vervolgd kan worden. Bolsonaro was een fervent tegenstander van met name lockdowns. Hij beschouwde het coronavirus als een griep, niet ernstig genoeg om de economie te verlammen met draconische maatregelen. In zijn ogen kon de bevolking, die voor een groot gedeelte afhankelijk is van inkomsten die niet in een arbeidsovereenkomst zijn vastgelegd, niet worden opgesloten en niet in hun mobiliteit zo ver beperkt worden dat het middel dan erger dan de kwaal zou worden.  Het merendeel van werknemers in Latijns-Amerika is afhankelijk van vaak meerdere baantjes per dag en heeft geen vangnet. Thuis blijven betekent geen inkomsten en geen eten.  Lula da Silva zei, zonder de naam van zijn voorganger te noemen, dat zij die fouten hebben gemaakt voor hun falen ter verantwoording worden geroepen. Volgens cijfers van de Braziliaanse autoriteiten zijn 680.000 Brazilianen overleden met het coronavirus in de gelederen. Lula da Silva sprak van \"volkerenmoord\". De grootste problemen met de bestrijding van het virus en de behandeling van patiënten waren in Brazilië in het noordoosten, sinds jaar en dag het bolwerk van de partij van Lula da Silva, de Arbeiderspartij (PT). '"
      ]
     },
     "execution_count": 225,
     "metadata": {},
     "output_type": "execute_result"
    }
   ],
   "source": [
    "cond3_df['news_articles'][17]"
   ]
  },
  {
   "cell_type": "code",
   "execution_count": 226,
   "metadata": {},
   "outputs": [
    {
     "data": {
      "text/plain": [
       "'De nieuwe Braziliaanse president Lula da Silva heeft beloofd te regeren voor alle Brazilianen. Hij dreigde zijn voorganger te vervolgen vanwege diens aanpak van de coronapandemie, die volgens Lula da Silva heeft geleid tot 680.000 doden, \"volkerenmoord\" noemde hij het.'"
      ]
     },
     "execution_count": 226,
     "metadata": {},
     "output_type": "execute_result"
    }
   ],
   "source": [
    "cond3_df['suggested_rm'][17]"
   ]
  },
  {
   "cell_type": "code",
   "execution_count": 227,
   "metadata": {},
   "outputs": [
    {
     "data": {
      "text/plain": [
       "' In zijn eerste speech als president van Brazilië heeft Lula da Silva hard uitgehaald naar zijn voorganger Bolsonaro. Volgens hem heeft Bolsonaro massamoord gepleegd door de coronapandemie niet serieus te nemen. Hij deed het af als een griepje. Volgens Da Silva mag Bolsonaro daar niet zomaar mee wegkomen. '"
      ]
     },
     "execution_count": 227,
     "metadata": {},
     "output_type": "execute_result"
    }
   ],
   "source": [
    "cond3_df['rm_g'][17]"
   ]
  },
  {
   "cell_type": "code",
   "execution_count": null,
   "metadata": {},
   "outputs": [],
   "source": []
  },
  {
   "cell_type": "code",
   "execution_count": 236,
   "metadata": {},
   "outputs": [
    {
     "data": {
      "text/html": [
       "<div>\n",
       "<style scoped>\n",
       "    .dataframe tbody tr th:only-of-type {\n",
       "        vertical-align: middle;\n",
       "    }\n",
       "\n",
       "    .dataframe tbody tr th {\n",
       "        vertical-align: top;\n",
       "    }\n",
       "\n",
       "    .dataframe thead th {\n",
       "        text-align: right;\n",
       "    }\n",
       "</style>\n",
       "<table border=\"1\" class=\"dataframe\">\n",
       "  <thead>\n",
       "    <tr style=\"text-align: right;\">\n",
       "      <th></th>\n",
       "      <th>NA_index</th>\n",
       "      <th>condition</th>\n",
       "      <th>Deelnemer_ID</th>\n",
       "      <th>Schrijfhierjouwradio-bericht:</th>\n",
       "      <th>news_articles</th>\n",
       "      <th>rm_g</th>\n",
       "      <th>suggested_rm</th>\n",
       "    </tr>\n",
       "  </thead>\n",
       "  <tbody>\n",
       "    <tr>\n",
       "      <th>0</th>\n",
       "      <td>0</td>\n",
       "      <td>2</td>\n",
       "      <td>2</td>\n",
       "      <td>Het lijkt flink mis op een zorgboerderij in Ho...</td>\n",
       "      <td>De GGD Groningen is een onderzoek begonnen naa...</td>\n",
       "      <td>Medewerkers van een zorgboerderij in het Gron...</td>\n",
       "      <td>De GGD Groningen doet onderzoek naar mogelijke...</td>\n",
       "    </tr>\n",
       "    <tr>\n",
       "      <th>3</th>\n",
       "      <td>1</td>\n",
       "      <td>2</td>\n",
       "      <td>1</td>\n",
       "      <td>Het schiet niet op met de omschakeling naar ee...</td>\n",
       "      <td>Het kabinet doet nog steeds te weinig om een k...</td>\n",
       "      <td>Er komen strengere regels voor bedrijven om t...</td>\n",
       "      <td>Het kabinet moet strenger ingrijpen om zuinige...</td>\n",
       "    </tr>\n",
       "    <tr>\n",
       "      <th>6</th>\n",
       "      <td>2</td>\n",
       "      <td>2</td>\n",
       "      <td>3</td>\n",
       "      <td>Er wordt op Terschelling niet meer gezocht naa...</td>\n",
       "      <td>Hulpdiensten en vrijwilligers hebben op Tersch...</td>\n",
       "      <td>Vrijwilligers hebben zonder succes gezocht na...</td>\n",
       "      <td>De zoektocht naar de 12-jarige jongen die vori...</td>\n",
       "    </tr>\n",
       "    <tr>\n",
       "      <th>9</th>\n",
       "      <td>3</td>\n",
       "      <td>2</td>\n",
       "      <td>2</td>\n",
       "      <td>Nederland heeft samen met de marine van Colomb...</td>\n",
       "      <td>Tijdens acht verschillende operaties in de Car...</td>\n",
       "      <td>Op de Caribische Zee is bijna 10-duizend kilo...</td>\n",
       "      <td>Internationale operaties leiden tot recordvang...</td>\n",
       "    </tr>\n",
       "    <tr>\n",
       "      <th>12</th>\n",
       "      <td>4</td>\n",
       "      <td>2</td>\n",
       "      <td>1</td>\n",
       "      <td>Er worden steeds meer bromfietsen, snorfietsen...</td>\n",
       "      <td>Het aantal diefstallen van motoren, bromfietse...</td>\n",
       "      <td>Er worden weer meer motoren, brommers en brom...</td>\n",
       "      <td>Steeds meer tweewielers zijn dit jaar het doel...</td>\n",
       "    </tr>\n",
       "    <tr>\n",
       "      <th>15</th>\n",
       "      <td>8</td>\n",
       "      <td>2</td>\n",
       "      <td>3</td>\n",
       "      <td>Ik ben er voor alle Brazilianen. Dat zegt de n...</td>\n",
       "      <td>De nieuwe Braziliaanse president Luiz Inácio L...</td>\n",
       "      <td>In zijn eerste speech als president van Brazi...</td>\n",
       "      <td>De nieuwe Braziliaanse president Lula da Silva...</td>\n",
       "    </tr>\n",
       "  </tbody>\n",
       "</table>\n",
       "</div>"
      ],
      "text/plain": [
       "    NA_index  condition  Deelnemer_ID   \n",
       "0          0          2             2  \\\n",
       "3          1          2             1   \n",
       "6          2          2             3   \n",
       "9          3          2             2   \n",
       "12         4          2             1   \n",
       "15         8          2             3   \n",
       "\n",
       "                        Schrijfhierjouwradio-bericht:   \n",
       "0   Het lijkt flink mis op een zorgboerderij in Ho...  \\\n",
       "3   Het schiet niet op met de omschakeling naar ee...   \n",
       "6   Er wordt op Terschelling niet meer gezocht naa...   \n",
       "9   Nederland heeft samen met de marine van Colomb...   \n",
       "12  Er worden steeds meer bromfietsen, snorfietsen...   \n",
       "15  Ik ben er voor alle Brazilianen. Dat zegt de n...   \n",
       "\n",
       "                                        news_articles   \n",
       "0   De GGD Groningen is een onderzoek begonnen naa...  \\\n",
       "3   Het kabinet doet nog steeds te weinig om een k...   \n",
       "6   Hulpdiensten en vrijwilligers hebben op Tersch...   \n",
       "9   Tijdens acht verschillende operaties in de Car...   \n",
       "12  Het aantal diefstallen van motoren, bromfietse...   \n",
       "15  De nieuwe Braziliaanse president Luiz Inácio L...   \n",
       "\n",
       "                                                 rm_g   \n",
       "0    Medewerkers van een zorgboerderij in het Gron...  \\\n",
       "3    Er komen strengere regels voor bedrijven om t...   \n",
       "6    Vrijwilligers hebben zonder succes gezocht na...   \n",
       "9    Op de Caribische Zee is bijna 10-duizend kilo...   \n",
       "12   Er worden weer meer motoren, brommers en brom...   \n",
       "15   In zijn eerste speech als president van Brazi...   \n",
       "\n",
       "                                         suggested_rm  \n",
       "0   De GGD Groningen doet onderzoek naar mogelijke...  \n",
       "3   Het kabinet moet strenger ingrijpen om zuinige...  \n",
       "6   De zoektocht naar de 12-jarige jongen die vori...  \n",
       "9   Internationale operaties leiden tot recordvang...  \n",
       "12  Steeds meer tweewielers zijn dit jaar het doel...  \n",
       "15  De nieuwe Braziliaanse president Lula da Silva...  "
      ]
     },
     "execution_count": 236,
     "metadata": {},
     "output_type": "execute_result"
    }
   ],
   "source": [
    "# cond 2\n",
    "cond2_df"
   ]
  },
  {
   "cell_type": "code",
   "execution_count": 238,
   "metadata": {},
   "outputs": [
    {
     "data": {
      "text/plain": [
       "\"Het lijkt flink mis op een zorgboerderij in Holwierde in Groningen, waar kwetsbare mensen de dag doorbrengen. Medewerkers klagen volgens RTV Noord over seksuele intimidatie en een angstcultuur. Ze voelen zich onveilig omdat de eigenaar ze continu in de gaten houdt met camera's. Verder zouden er allerlei vunzige opmerkingen worden gemaakt en kreeg een vrouwelijke medewerker seksspeeltjes in haar kerstpakket. De Groningse GGD is een onderzoek begonnen. \""
      ]
     },
     "execution_count": 238,
     "metadata": {},
     "output_type": "execute_result"
    }
   ],
   "source": [
    "cond2_df['Schrijfhierjouwradio-bericht:'][0]"
   ]
  },
  {
   "cell_type": "code",
   "execution_count": 240,
   "metadata": {},
   "outputs": [
    {
     "data": {
      "text/plain": [
       "'De GGD Groningen is een onderzoek begonnen naar mogelijke misstanden op een zorgboerderij in het Groningse dorp Holwierde. Dat bevestigt een woordvoerder naar aanleiding van berichtgeving van RTV Noord. Volgens de regionale zender is er op de zorgboerderij onder meer sprake van seksuele intimidatie en heerst er een angstcultuur.  \"In opdracht van de gemeente zijn we een onderzoek begonnen\", aldus een woordvoerder van de GGD. Een woordvoerder van de gemeente Eemsdelta, waar Holwierde onder valt, meldt dat er bepaalde signalen zijn binnengekomen die de aanleiding vormden voor een onderzoek. Over de inhoud van de signalen of het onderzoek kunnen de woordvoerders geen verdere mededelingen doen.  Het onderzoek richt zich volgens de gemeente op een van de twee locaties van de zorgboerderij, waar een woonplek en dagopvang wordt geboden aan jongeren, ouderen en volwassenen.  Een aantal medewerkers vertelt anoniem aan RTV Noord dat er een gevoel van onveiligheid hangt op de boerderij. Zo zouden medewerkers dag en nacht met camera\\'s worden gevolgd, worden er seksueel ongepaste opmerkingen gemaakt en kreeg een vrouwelijke medewerker als kerstpakket een pakket met dildo\\'s en andere seksartikelen. De eigenaar ontkent de beschuldigingen tegenover RTV Noord. '"
      ]
     },
     "execution_count": 240,
     "metadata": {},
     "output_type": "execute_result"
    }
   ],
   "source": [
    "cond2_df['news_articles'][0]"
   ]
  },
  {
   "cell_type": "code",
   "execution_count": 239,
   "metadata": {},
   "outputs": [
    {
     "data": {
      "text/plain": [
       "'De GGD Groningen doet onderzoek naar mogelijke misstanden op een zorgboerderij in Holwierde. Volgens RTV Noord zijn er signalen van seksuele intimidatie en een angstcultuur. Medewerkers voelen zich onveilig door continu cameratoezicht. Een vrouwelijke werknemer kreeg seksspeeltjes als kerstpakket. De eigenaar ontkent.'"
      ]
     },
     "execution_count": 239,
     "metadata": {},
     "output_type": "execute_result"
    }
   ],
   "source": [
    "cond2_df['suggested_rm'][0]"
   ]
  },
  {
   "cell_type": "code",
   "execution_count": null,
   "metadata": {},
   "outputs": [],
   "source": []
  },
  {
   "cell_type": "code",
   "execution_count": 241,
   "metadata": {},
   "outputs": [
    {
     "data": {
      "text/plain": [
       "'Het schiet niet op met de omschakeling naar een kringloopeconomie, zegt het Planbureau voor de Leefomgeving. Bedrijven mogen nu zelf weten hoe duurzaam ze produceren, maar het bureau wil dat het kabinet het gaat verplichten. Dat kan bijvoorbeeld door een belasting op fossiele brandstoffen, en door een verplicht aandeel hergebruikte materialen in producten.'"
      ]
     },
     "execution_count": 241,
     "metadata": {},
     "output_type": "execute_result"
    }
   ],
   "source": [
    "cond2_df['Schrijfhierjouwradio-bericht:'][3]"
   ]
  },
  {
   "cell_type": "code",
   "execution_count": 242,
   "metadata": {},
   "outputs": [
    {
     "data": {
      "text/plain": [
       "'Het kabinet doet nog steeds te weinig om een kringloopeconomie te realiseren. Het Planbureau voor de Leefomgeving (PBL) stelt in een rapport dat hier de afgelopen jaren \"nauwelijks vooruitgang\" in is geboekt. Maatregelen zijn vooral gericht op de goede wil van bedrijven en de samenleving, maar strenger beleid is volgens het planbureau nodig om zuiniger om te gaan met grondstoffen. Het gaat dan bijvoorbeeld om olie, metalen en mineralen. Het gebruik daarvan kan onder meer worden verminderd door invoering van een verplicht aandeel hergebruikte materialen in nieuwe producten, stelt het PBL voor.  Het planbureau overhandigt dit rapport donderdagmiddag aan staatssecretaris Vivianne Heijnen van Infrastructuur en Waterstaat. Binnen het kabinet is zij verantwoordelijk voor de overgang naar een circulaire economie. Dit is een economie waarin grondstoffen veel minder en efficiënter worden gebruikt, bijvoorbeeld door materialen te hergebruiken of over te stappen op biologische alternatieven. Door de oorlog in Oekraïne en de coronapandemie zijn grondstoffen minder beschikbaar dan voorgaande jaren. Dat maakt zuiniger gebruik extra dringend.  Twee keer eerder deed het PBL onderzoek naar hoever het kabinet is in de overgang naar een kringloopeconomie. In 2021 en 2019 kwamen onderzoekers met soortgelijke bevindingen als deze keer. De cijfers uit het nieuwste rapport komen uit 2020. Dat jaar was het grondstoffengebruik tijdelijk lager vanwege de coronamaatregelen. Zo zorgden reisbeperkingen ervoor dat vliegtuigen aan de grond bleven en er dus minder brandstof werd gebruikt. Het CBS becijferde donderdag dat in totaal zo\\'n 359 miljard kilo grondstoffen zijn gebruikt in 2020 om de Nederlandse economie te laten draaien.  Het kabinet wil dat Nederland in 2050 een volledig circulaire economie is. In 2030 moet het gebruik van nieuw gewonnen mineralen, metalen en fossiele grondstoffen als aardolie en aardgas zijn gehalveerd vergeleken met 2016. Volgens onderzoeker Frank Dietz is de overgang naar een kringloopeconomie momenteel \"niet ver genoeg\".  Het PBL wil dat het kabinet verplichte maatregelen invoert voor bedrijven en consumenten in plaats van vrijblijvende regelingen. Naast een verplicht aandeel hergebruikte materialen pleit het planbureau onder meer voor een belasting op het gebruik van fossiele grondstoffen. \"De problematiek is zo ingewikkeld dat we steeds moeten kijken wat maatregelen doen voor het milieu en wat het meest effectief is\", zegt Dietz. '"
      ]
     },
     "execution_count": 242,
     "metadata": {},
     "output_type": "execute_result"
    }
   ],
   "source": [
    "cond2_df['news_articles'][3]"
   ]
  },
  {
   "cell_type": "code",
   "execution_count": 243,
   "metadata": {},
   "outputs": [
    {
     "data": {
      "text/plain": [
       "'Het kabinet moet strenger ingrijpen om zuiniger om te gaan met grondstoffen. Dat stelt het Planbureau voor de Leefomgeving in een rapport. Volgens onderzoeker Frank Dietz schiet de overgang naar een kringloopeconomie tekort en zijn verplichtende maatregelen nodig. Het PBL adviseert bijvoorbeeld een verplicht aandeel hergebruikte materialen in producten en een belasting op fossiele brandstoffen.'"
      ]
     },
     "execution_count": 243,
     "metadata": {},
     "output_type": "execute_result"
    }
   ],
   "source": [
    "cond2_df['suggested_rm'][3]"
   ]
  },
  {
   "cell_type": "code",
   "execution_count": 247,
   "metadata": {},
   "outputs": [
    {
     "data": {
      "text/plain": [
       "'Er wordt op Terschelling niet meer gezocht naar een vermiste jongen van twaalf. Hij viel vorige maand in het water toen een boot en een watertaxi op elkaar botsten. Vrijwilligers en hulpdiensten hebben hem niet gevonden. Eerder spoelde het lichaam van een man aan en werden twee andere doden geborgen.'"
      ]
     },
     "execution_count": 247,
     "metadata": {},
     "output_type": "execute_result"
    }
   ],
   "source": [
    "cond2_df['Schrijfhierjouwradio-bericht:'][6]"
   ]
  },
  {
   "cell_type": "code",
   "execution_count": 246,
   "metadata": {},
   "outputs": [
    {
     "data": {
      "text/plain": [
       "'Hulpdiensten en vrijwilligers hebben op Terschelling de zoektocht gestaakt naar de nog vermiste 12-jarige jongen, die vorige maand na de aanvaring tussen een snelboot en watertaxi te water raakte. Dat laten onder meer de politie en de vrijwilligerszoekorganisatie Search &amp; Rescue Nederland (SAR) weten.  Eerder op zondag spoelde een na de aanvaring eveneens vermiste volwassen man aan op het strand van Terschelling. Het lichaam van deze 49-jarige man uit Heerenveen kwam terecht bij het Groene Strand op het Waddeneiland. Door het ongeval, dat op vrijdag 21 oktober vroeg in de ochtend gebeurde, overleden al een 46-jarige man uit Sexbierum en een 57-jarige man uit Leeuwarden.  De plek waar het lichaam zondag terechtkwam is vlakbij de vaargeul waar de aanvaring gebeurde, laat een woordvoerster van SAR Nederland weten. Eerder op zondag liet het team weten de zoektocht te hebben opgeschaald.  Zo\\'n twintig personen hebben namens SAR de hele dag naar het lichaam van de jongen gezocht met behulp van quads en met lopers langs de kustlijn van de oost- en westkant van het eiland. Ook werd een boot van de politie en de reddingsmaatschappij Koninklijke Nederlandse Redding Maatschappij (KNRM) ingezet.  De politie bekijkt maandag, zoals elke dag de laatste weken sinds de aanvaring, of er verder wordt gezocht. SAR Nederland zegt in overleg met de hulpdiensten te bekijken wat de organisatie verder kan doen. \"Het was een zware dag\", aldus de zegsvrouw, die ook spreekt van \"priemende regen\" en harde wind die de zoektocht zondag bemoeilijkte. Via een liveblog op de onlangs opgezette website Nationale Hulpverleningskrant, houdt SAR Nederland geïnteresseerden van de zoekactie op de hoogte. '"
      ]
     },
     "execution_count": 246,
     "metadata": {},
     "output_type": "execute_result"
    }
   ],
   "source": [
    "cond2_df['news_articles'][6]"
   ]
  },
  {
   "cell_type": "code",
   "execution_count": 245,
   "metadata": {},
   "outputs": [
    {
     "data": {
      "text/plain": [
       "'De zoektocht naar de 12-jarige jongen die vorige maand vermist raakte na een aanvaring tussen een snelboot en watertaxi op Terschelling is gestaakt. Gisteren spoelde wel het lichaam van een 49-jarige man aan, een van de slachtoffers van het ongeval. Ondanks uitgebreide zoekacties van hulpdiensten en vrijwilligers bleef de jongen spoorloos.'"
      ]
     },
     "execution_count": 245,
     "metadata": {},
     "output_type": "execute_result"
    }
   ],
   "source": [
    "cond2_df['suggested_rm'][6]"
   ]
  },
  {
   "cell_type": "code",
   "execution_count": 248,
   "metadata": {},
   "outputs": [
    {
     "data": {
      "text/plain": [
       "'Nederland heeft samen met de marine van Colombia en Amerika bijna tienduizend kilo cocaïne in beslag genomen. De drugs werden gevonden tijdens acht operaties in de Caribische Zee. Volgens Colombiaanse media had de cocaïne een straatwaarde van meer dan driehonderd miljoen euro. Vijftien mensen zijn opgepakt. '"
      ]
     },
     "execution_count": 248,
     "metadata": {},
     "output_type": "execute_result"
    }
   ],
   "source": [
    "cond2_df['Schrijfhierjouwradio-bericht:'][9]"
   ]
  },
  {
   "cell_type": "code",
   "execution_count": 249,
   "metadata": {},
   "outputs": [
    {
     "data": {
      "text/plain": [
       "'Tijdens acht verschillende operaties in de Caribische Zee werd door de autoriteiten van Colombia, de Verenigde Staten en Nederland 9,7 ton cocaïne onderschept. De drugs hadden als bestemming de VS en Europa en hebben volgens Colombia een straatwaarde van 327 miljoen dollar (310 miljoen euro).  Volgens Colombiaanse media werd één lading van ruim 5 ton onderschept in de territoriale wateren van Aruba. De partij dobberde in het water en zou de Dominicaanse Republiek als bestemming hebben gehad, een overslagpunt voor cocaïne. Vier andere operaties hadden het gemunt op zogenoemde go-fast-motorboten. Vijftien personen van verschillende nationaliteiten werden aangehouden. Aan welke autoriteiten zij zijn overgedragen is voorlopig niet duidelijk.  In de Caraïben zijn veel instanties betrokken bij de opsporing van drugscriminaliteit, waaronder al jaren de Nederlandse Koninklijke Marine. Dit jaar werd door internationale samenwerking al 109 ton cocaïne onderschept, aldus de Colombiaanse autoriteiten. '"
      ]
     },
     "execution_count": 249,
     "metadata": {},
     "output_type": "execute_result"
    }
   ],
   "source": [
    "cond2_df['news_articles'][9]"
   ]
  },
  {
   "cell_type": "code",
   "execution_count": 250,
   "metadata": {},
   "outputs": [
    {
     "data": {
      "text/plain": [
       "'Internationale operaties leiden tot recordvangst cocaïne. Autoriteiten onderschepten deze week bijna 10 ton cocaïne in de Caribische Zee. De drugs hadden een straatwaarde van 327 miljoen dollar en waren bestemd voor de VS en Europa. Een deel van de lading dobberde voor de kust van Aruba. Vijftien verdachten zijn gearresteerd, maar aan welke landen zij zijn overgedragen is onduidelijk. Door samenwerking tussen onder meer Colombia, de VS en Nederland werd dit jaar al 109 ton cocaïne onderschept.'"
      ]
     },
     "execution_count": 250,
     "metadata": {},
     "output_type": "execute_result"
    }
   ],
   "source": [
    "cond2_df['suggested_rm'][9]"
   ]
  },
  {
   "cell_type": "code",
   "execution_count": null,
   "metadata": {},
   "outputs": [],
   "source": []
  },
  {
   "cell_type": "code",
   "execution_count": 251,
   "metadata": {},
   "outputs": [
    {
     "data": {
      "text/plain": [
       "'Er worden steeds meer bromfietsen, snorfietsen en motoren gestolen, zeggen verzekeraars. Het zijn er de eerste zeven maanden van dit jaar een derde meer dan vorig jaar. Vooral motoren werden meer gestolen. Dat ze zo populair zijn bij dieven, kan komen door het gebrek aan parkeerruimte in de steden, of door de dure benzine.'"
      ]
     },
     "execution_count": 251,
     "metadata": {},
     "output_type": "execute_result"
    }
   ],
   "source": [
    "cond2_df['Schrijfhierjouwradio-bericht:'][12]"
   ]
  },
  {
   "cell_type": "code",
   "execution_count": 252,
   "metadata": {},
   "outputs": [
    {
     "data": {
      "text/plain": [
       "'Het aantal diefstallen van motoren, bromfietsen en snorfietsen is dit jaar sterk gestegen. In de eerste zeven maanden van 2022 stalen dieven ruim een derde meer van deze tweewielers dan in dezelfde periode vorig jaar, meldt het Verbond van Verzekeraars.  In totaal werden van januari tot en met juli 7212 brom- en snorfietsen gestolen, bijna 1900 meer dan in dezelfde periode van 2021. Bij motoren steeg het aantal diefstallen met ruim 34 procent tot 983.  Volgens André Bouwman van het Landelijk Intelligence- en expertisecentrum Voertuigcriminaliteit (LIV) is het aantal diefstallen van brommers en snorfietsen na twee coronajaren min of meer teruggeveerd naar het gemiddelde van de afgelopen zes jaar. Anders is dat bij het aantal motordiefstallen. Ook vergeleken met de jaren voor corona zijn veel meer motoren gestolen.  Bouwman weet niet precies waarom dieven vaker brommers of motoren buitmaken. Mogelijk heeft het te maken met een gebrek aan parkeerruimte voor auto\\'s in grote steden, waar de dieven het vaakst toeslaan. Daardoor zijn ze mogelijk in populariteit gestegen. \"Daarnaast kunnen ook de gestegen brandstofprijzen een rol spelen. Kortom, er kunnen verschillende factoren de oorzaak zijn van de diefstalstijging.\" '"
      ]
     },
     "execution_count": 252,
     "metadata": {},
     "output_type": "execute_result"
    }
   ],
   "source": [
    "cond2_df['news_articles'][12]"
   ]
  },
  {
   "cell_type": "code",
   "execution_count": 253,
   "metadata": {},
   "outputs": [
    {
     "data": {
      "text/plain": [
       "'Steeds meer tweewielers zijn dit jaar het doelwit van dieven. In de eerste 7 maanden van 2022 zijn ruim een derde meer bromfietsen, snorfietsen en motoren gestolen vergeleken met dezelfde periode vorig jaar, meldt verzekeraars Verbond. Vooral het aantal motordiefstallen steeg fors, met 34 procent. Volgens expert Bouwman kan de populariteit van tweewielers in steden, evenals de hoge brandstofprijzen, een rol spelen bij deze stijging.'"
      ]
     },
     "execution_count": 253,
     "metadata": {},
     "output_type": "execute_result"
    }
   ],
   "source": [
    "cond2_df['suggested_rm'][12]"
   ]
  },
  {
   "cell_type": "code",
   "execution_count": null,
   "metadata": {},
   "outputs": [],
   "source": []
  },
  {
   "cell_type": "code",
   "execution_count": null,
   "metadata": {},
   "outputs": [],
   "source": []
  },
  {
   "cell_type": "code",
   "execution_count": 254,
   "metadata": {},
   "outputs": [
    {
     "data": {
      "text/plain": [
       "'Ik ben er voor alle Brazilianen. Dat zegt de nieuwe president Lula da Silva. Hij denkt erover zijn voorganger Bolsonaro voor de rechter te slepen om de honderdduizenden mensen die in Brazilië zijn overleden aan corona. Bolsonaro noemde corona een griepje. Lula da Silva noemt zijn beleid volkerenmoord.'"
      ]
     },
     "execution_count": 254,
     "metadata": {},
     "output_type": "execute_result"
    }
   ],
   "source": [
    "cond2_df['Schrijfhierjouwradio-bericht:'][15]"
   ]
  },
  {
   "cell_type": "code",
   "execution_count": 255,
   "metadata": {},
   "outputs": [
    {
     "data": {
      "text/plain": [
       "'De nieuwe Braziliaanse president Luiz Inácio Lula da Silva heeft in zijn inaugurele rede in het parlement beklemtoond geen wraak te zoeken, maar te willen regeren voor alle Brazilianen, ook die niet voor hem hebben gestemd.  Dat was bijna de helft van electoraat volgens de officiële uitslagen. Het land is politiek gepolariseerd en de presidentiële sjerp werd zondag níet door zijn voorganger, Jair Bolsonaro, omgehangen. Normaal doet de scheidende president dat voor de nieuwe. Maar Bolsonaro is vrijdag naar Florida uitgeweken en heeft nooit zijn nederlaag in de verkiezingen in oktober erkend.  Lula da Silva dreigde indirect met processen tegen Bolsonaro, omdat hij onwaarheden over het coronavirus zou hebben verspreid en daardoor strafrechtelijk vervolgd kan worden. Bolsonaro was een fervent tegenstander van met name lockdowns. Hij beschouwde het coronavirus als een griep, niet ernstig genoeg om de economie te verlammen met draconische maatregelen. In zijn ogen kon de bevolking, die voor een groot gedeelte afhankelijk is van inkomsten die niet in een arbeidsovereenkomst zijn vastgelegd, niet worden opgesloten en niet in hun mobiliteit zo ver beperkt worden dat het middel dan erger dan de kwaal zou worden.  Het merendeel van werknemers in Latijns-Amerika is afhankelijk van vaak meerdere baantjes per dag en heeft geen vangnet. Thuis blijven betekent geen inkomsten en geen eten.  Lula da Silva zei, zonder de naam van zijn voorganger te noemen, dat zij die fouten hebben gemaakt voor hun falen ter verantwoording worden geroepen. Volgens cijfers van de Braziliaanse autoriteiten zijn 680.000 Brazilianen overleden met het coronavirus in de gelederen. Lula da Silva sprak van \"volkerenmoord\". De grootste problemen met de bestrijding van het virus en de behandeling van patiënten waren in Brazilië in het noordoosten, sinds jaar en dag het bolwerk van de partij van Lula da Silva, de Arbeiderspartij (PT). '"
      ]
     },
     "execution_count": 255,
     "metadata": {},
     "output_type": "execute_result"
    }
   ],
   "source": [
    "cond2_df['news_articles'][15]"
   ]
  },
  {
   "cell_type": "code",
   "execution_count": 256,
   "metadata": {},
   "outputs": [
    {
     "data": {
      "text/plain": [
       "'De nieuwe Braziliaanse president Lula da Silva heeft beloofd te regeren voor alle Brazilianen. Hij dreigde zijn voorganger te vervolgen vanwege diens aanpak van de coronapandemie, die volgens Lula da Silva heeft geleid tot 680.000 doden, \"volkerenmoord\" noemde hij het.'"
      ]
     },
     "execution_count": 256,
     "metadata": {},
     "output_type": "execute_result"
    }
   ],
   "source": [
    "cond2_df['suggested_rm'][15]"
   ]
  },
  {
   "cell_type": "code",
   "execution_count": null,
   "metadata": {},
   "outputs": [],
   "source": []
  },
  {
   "cell_type": "code",
   "execution_count": null,
   "metadata": {},
   "outputs": [],
   "source": []
  },
  {
   "cell_type": "markdown",
   "metadata": {},
   "source": [
    "# Experiment 3 results"
   ]
  },
  {
   "cell_type": "code",
   "execution_count": 5,
   "metadata": {},
   "outputs": [
    {
     "data": {
      "image/png": "[encoded data removed]",
      "text/plain": [
       "<Figure size 640x480 with 1 Axes>"
      ]
     },
     "metadata": {},
     "output_type": "display_data"
    }
   ],
   "source": [
    "import matplotlib.pyplot as plt\n",
    "from collections import Counter\n",
    "\n",
    "# “Yes, directly”, “Yes, after minor edits”, “No, even after minor edits”, “No, useless”, and \"I don't know\"\n",
    "# Given data\n",
    "ONA = ['Yes, after minor edits', 'Yes, after minor edits', 'Yes, directly', 'Yes, directly', 'Yes, after minor edits']\n",
    "ORM = ['Yes, after minor edits', 'No, even after minor edits', 'No, even after minor edits', 'Yes, after minor edits', 'Yes, after minor edits', 'Yes, after minor edits']\n",
    "NARM = ['Yes, after minor edits', 'Yes, directly', 'Yes, after minor edits', 'Yes, after minor edits', 'Yes, after minor edits' ]\n",
    "gold = ['Yes, after minor edits', 'No, useless', 'No, even after minor edits', 'No, even after minor edits', 'No, even after minor edits', 'Yes, after minor edits']\n",
    "suggested = ['No, even after minor edits', 'Yes, after minor edits', 'No, even after minor edits', 'No, useless', 'No, even after minor edits', 'Yes, after minor edits']\n",
    "\n",
    "\n",
    "\n",
    "# Define all possible categories\n",
    "all_categories = ['Yes, directly', 'Yes, after minor edits', 'No, even after minor edits', 'No, useless']\n",
    "\n",
    "# Count the occurrences of each unique value\n",
    "data_counts = Counter(ONA)\n",
    "\n",
    "# Ensure that all categories have counts (even if zero)\n",
    "counts = [data_counts.get(category, 0) for category in all_categories]\n",
    "\n",
    "# Create a bar chart\n",
    "plt.bar(all_categories, counts)\n",
    "\n",
    "\n",
    "# Add labels and a title\n",
    "plt.xlabel('Categories')\n",
    "plt.ylabel('Count')\n",
    "plt.title('Bar Chart for Data1')\n",
    "\n",
    "# Show the chart\n",
    "plt.show()\n",
    "d"
   ]
  },
  {
   "cell_type": "code",
   "execution_count": 8,
   "metadata": {},
   "outputs": [
    {
     "name": "stdout",
     "output_type": "stream",
     "text": [
      "['Yes, directly', 'Yes, after minor edits']\n",
      "Counter({'Yes, after minor edits': 3, 'Yes, directly': 2})\n",
      "[2, 3]\n",
      "split\n",
      "['Yes, directly', 'Yes, after minor edits']\n",
      "['No, even after minor edits', 'Yes, after minor edits']\n",
      "Counter({'Yes, after minor edits': 4, 'No, even after minor edits': 2})\n",
      "[2, 4]\n",
      "split\n",
      "['No, even after minor edits', 'Yes, after minor edits']\n",
      "['Yes, directly', 'Yes, after minor edits']\n",
      "Counter({'Yes, after minor edits': 4, 'Yes, directly': 1})\n",
      "[1, 4]\n",
      "split\n",
      "['Yes, directly', 'Yes, after minor edits']\n",
      "['No, even after minor edits', 'No, useless', 'Yes, after minor edits']\n",
      "Counter({'No, even after minor edits': 3, 'Yes, after minor edits': 2, 'No, useless': 1})\n",
      "[3, 1, 2]\n",
      "split\n",
      "['No, even after minor edits', 'No, useless', 'Yes, after minor edits']\n",
      "['No, even after minor edits', 'No, useless', 'Yes, after minor edits']\n",
      "Counter({'No, even after minor edits': 3, 'Yes, after minor edits': 2, 'No, useless': 1})\n",
      "[3, 1, 2]\n",
      "split\n",
      "['No, even after minor edits', 'No, useless', 'Yes, after minor edits']\n"
     ]
    },
    {
     "data": {
      "image/png": "[encoded data removed]",
      "text/plain": [
       "<Figure size 640x480 with 1 Axes>"
      ]
     },
     "metadata": {},
     "output_type": "display_data"
    }
   ],
   "source": [
    "import matplotlib.pyplot as plt\n",
    "from collections import Counter\n",
    "\n",
    "datasets = {\n",
    "    'ONA' : ['Yes, after minor edits', 'Yes, after minor edits', 'Yes, directly', 'Yes, directly', 'Yes, after minor edits'],\n",
    "'ORM' : ['Yes, after minor edits', 'No, even after minor edits', 'No, even after minor edits', 'Yes, after minor edits', 'Yes, after minor edits', 'Yes, after minor edits'],\n",
    "'NARM' : ['Yes, after minor edits', 'Yes, directly', 'Yes, after minor edits', 'Yes, after minor edits', 'Yes, after minor edits' ],\n",
    "'gold' : ['Yes, after minor edits', 'No, useless', 'No, even after minor edits', 'No, even after minor edits', 'No, even after minor edits', 'Yes, after minor edits'],\n",
    "'suggested' : ['No, even after minor edits', 'Yes, after minor edits', 'No, even after minor edits', 'No, useless', 'No, even after minor edits', 'Yes, after minor edits']\n",
    "\n",
    "    \n",
    "}\n",
    "\n",
    "for dataset_name, data in datasets.items():\n",
    "    # Define all possible categories\n",
    "    all_categories = list(set(data))\n",
    "    print(all_categories)\n",
    "    # Count the occurrences of each unique value\n",
    "    print(Counter(data))\n",
    "    data_counts = Counter(data)\n",
    "\n",
    "    # Ensure that all categories have counts (even if zero)\n",
    "    counts = [data_counts.get(category, 0) for category in all_categories]\n",
    "    print(counts)\n",
    "    print('split')\n",
    "    print(all_categories)\n",
    "    # Create a bar chart\n",
    "    plt.bar(all_categories, counts)\n",
    "\n",
    "    # Add labels and a title\n",
    "    plt.xlabel('Categories')\n",
    "    plt.ylabel('Count')\n",
    "    plt.title(f'Bar Chart for {dataset_name}')\n",
    "\n",
    "    # Show the chart"
   ]
  },
  {
   "cell_type": "code",
   "execution_count": 11,
   "metadata": {},
   "outputs": [
    {
     "data": {
      "image/png": "[encoded data removed]",
      "text/plain": [
       "<Figure size 1000x600 with 1 Axes>"
      ]
     },
     "metadata": {},
     "output_type": "display_data"
    }
   ],
   "source": [
    "import matplotlib.pyplot as plt\n",
    "import numpy as np\n",
    "from collections import Counter\n",
    "\n",
    "# Define the datasets\n",
    "datasets = {\n",
    "    'data1': ['A', 'B', 'C', 'A', 'B', 'A', 'C', 'B'],\n",
    "    'data2': ['B', 'C', 'D', 'D', 'E', 'B', 'C', 'D'],\n",
    "    'data3': ['A', 'A', 'B', 'B', 'C', 'C', 'D', 'E'],\n",
    "    'data4': ['C', 'C', 'D', 'D', 'E', 'E', 'E', 'E']\n",
    "}\n",
    "\n",
    "# Define the categories and sort them\n",
    "categories = sorted(list(set(val for dataset in datasets.values() for val in dataset)))\n",
    "num_datasets = len(datasets)\n",
    "\n",
    "# Prepare data for grouped bar chart\n",
    "data_counts = {dataset_name: Counter(data) for dataset_name, data in datasets.items()}\n",
    "\n",
    "# Ensure that each category has the same length (pad with zeros for missing values)\n",
    "counts = {category: [data_counts[dataset_name].get(category, 0) for dataset_name in datasets] for category in categories}\n",
    "\n",
    "# Create a grouped bar chart\n",
    "width = 0.15  # Width of each bar\n",
    "x = np.arange(len(datasets))\n",
    "\n",
    "plt.figure(figsize=(10, 6))  # Adjust the figure size as needed\n",
    "\n",
    "for i, category in enumerate(categories):\n",
    "    plt.bar(x + i * width, counts[category], width=width, label=category)\n",
    "\n",
    "# Add labels and a title\n",
    "plt.xlabel('Datasets')\n",
    "plt.ylabel('Count')\n",
    "plt.title('Grouped Bar Chart by Category')\n",
    "plt.xticks(x + (width * (num_datasets - 1)) / 2, datasets.keys())\n",
    "plt.legend()\n",
    "\n",
    "# Show the chart\n",
    "plt.tight_layout()\n",
    "plt.show()\n"
   ]
  },
  {
   "cell_type": "code",
   "execution_count": 7,
   "metadata": {},
   "outputs": [
    {
     "data": {
      "image/png": "[encoded data removed]",
      "text/plain": [
       "<Figure size 1000x600 with 1 Axes>"
      ]
     },
     "metadata": {},
     "output_type": "display_data"
    }
   ],
   "source": [
    "import matplotlib.pyplot as plt\n",
    "import numpy as np\n",
    "from collections import Counter\n",
    "\n",
    "# Define the datasets\n",
    "datasets = {\n",
    "    'Only News Article (ONA)' : ['Yes, after minor edits', 'Yes, after minor edits', 'Yes, directly', 'Yes, directly', 'Yes, after minor edits'],\n",
    "    'NA and RM (NARM)' : ['Yes, after minor edits', 'Yes, directly', 'Yes, after minor edits', 'Yes, after minor edits', 'Yes, after minor edits' , 'No, even after minor edits'],\n",
    "'Only Radio Message (ORM)' : ['Yes, after minor edits', 'No, even after minor edits', 'No, even after minor edits', 'Yes, after minor edits', 'Yes, after minor edits', 'Yes, after minor edits'],\n",
    "\n",
    "'Golden RM' : ['Yes, after minor edits', 'No, useless', 'No, even after minor edits', 'No, even after minor edits', 'No, even after minor edits', 'Yes, after minor edits'],\n",
    "'Suggested RM' : ['No, even after minor edits', 'Yes, after minor edits', 'No, even after minor edits', 'No, useless', 'No, even after minor edits', 'Yes, after minor edits']\n",
    "\n",
    "    \n",
    "}\n",
    "\n",
    "# custom_colors = {\n",
    "#     'Yes, directly' : 'green',\n",
    "#     'Yes, after minor edits': 'blue',\n",
    "#     'No, even after minor edits': 'orange',\n",
    "#     'No, useless': 'red'\n",
    "# }\n",
    "\n",
    "# Define the categories\n",
    "#categories = list(set(val for dataset in datasets.values() for val in dataset))\n",
    "categories = ['Yes, directly', 'Yes, after minor edits', 'No, even after minor edits', 'No, useless']\n",
    "num_datasets = len(datasets)\n",
    "\n",
    "\n",
    "# Define a blue shades color palette using a color map\n",
    "cmap = plt.get_cmap('Blues')\n",
    "colors = cmap(np.linspace(0.8, 0.2, len(categories)))  # Adjust the range as needed\n",
    "\n",
    "\n",
    "\n",
    "# Prepare data for grouped bar chart\n",
    "data_counts = {dataset_name: Counter(data) for dataset_name, data in datasets.items()}\n",
    "\n",
    "# Ensure that each category has the same length (pad with zeros for missing values)\n",
    "counts = {category: [data_counts[dataset_name].get(category, 0) for dataset_name in datasets] for category in categories}\n",
    "\n",
    "# Create a grouped bar chart\n",
    "width = 0.15  # Width of each bar\n",
    "x = np.arange(len(datasets))\n",
    "\n",
    "plt.figure(figsize=(10, 6))  # Adjust the figure size as needed\n",
    "\n",
    "for i, category in enumerate(categories):\n",
    "    plt.bar(x + i * width, counts[category], width=width, label=category,  color=colors[i])\n",
    "\n",
    "# Add labels and a title\n",
    "plt.xlabel('Methods through which the radio-message is created')\n",
    "plt.ylabel('Count')\n",
    "plt.title('Expert Answer to \"Would you use the radio-message in a radio-broadcast?\"')\n",
    "plt.xticks(x + (width * (num_datasets - 1)) / 2, datasets.keys())\n",
    "plt.legend()\n",
    "\n",
    "# Show the chart\n",
    "plt.tight_layout()\n",
    "plt.show()\n"
   ]
  },
  {
   "cell_type": "code",
   "execution_count": null,
   "metadata": {},
   "outputs": [],
   "source": []
  }
 ],
 "metadata": {
  "kernelspec": {
   "display_name": "Python 3 (ipykernel)",
   "language": "python",
   "name": "python3"
  },
  "language_info": {
   "codemirror_mode": {
    "name": "ipython",
    "version": 3
   },
   "file_extension": ".py",
   "mimetype": "text/x-python",
   "name": "python",
   "nbconvert_exporter": "python",
   "pygments_lexer": "ipython3",
   "version": "3.11.3"
  }
 },
 "nbformat": 4,
 "nbformat_minor": 4
}
